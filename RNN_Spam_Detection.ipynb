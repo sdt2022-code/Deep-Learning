{
  "cells": [
    {
      "cell_type": "markdown",
      "metadata": {
        "id": "_bphECiUa9zw"
      },
      "source": [
        "# Lab 4: Sequential Data - [57 pts]\n",
        "\n",
        "This lab is based on an assignment developed by Prof. Lisa Zhang.\n",
        "\n",
        "In this assignment, we will build a recurrent neural network to classify a SMS text message\n",
        "as \"spam\" or \"not spam\". In the process, you will\n",
        "    \n",
        "1. Clean and process text data for machine learning.\n",
        "2. Understand and implement a character-level recurrent neural network.\n",
        "3. Use torchtext to build recurrent neural network models.\n",
        "4. Understand batching for a recurrent neural network, and use torchtext to implement RNN batching.\n",
        "5. Understand how transfer learning can be applied to NLP projects.\n",
        "\n",
        "### What to submit\n",
        "\n",
        "Submit an HTML file containing all your code, outputs, and write-up\n",
        "from parts A and B. You can produce a HTML file directly from Google Colab. The Colab instructions are provided at the end of this document.\n",
        "\n",
        "**Do not submit any other files produced by your code.**\n",
        "\n",
        "Include a link to your colab file in your submission.\n",
        "\n",
        "Please use Google Colab to complete this assignment. If you want to use Jupyter Notebook, please complete the assignment and upload your Jupyter Notebook file to Google Colab for submission. "
      ]
    },
    {
      "cell_type": "markdown",
      "metadata": {
        "id": "rWiUqJJTa9z6"
      },
      "source": [
        "## Colab Link\n",
        "\n",
        "Include a link to your colab file here\n",
        "\n",
        "Colab Link: "
      ]
    },
    {
      "cell_type": "markdown",
      "metadata": {
        "id": "fFMdtipUPNdu"
      },
      "source": [
        "# PART A - Spam Detection [33 pt]\n",
        "\n",
        "In this part we will construct a LSTM model for identifying spam from non spam messages."
      ]
    },
    {
      "cell_type": "code",
      "execution_count": null,
      "metadata": {
        "id": "HgfNOUaPa9z8"
      },
      "outputs": [],
      "source": [
        "import torch\n",
        "import torch.nn as nn\n",
        "import torch.nn.functional as F\n",
        "import torch.optim as optim\n",
        "import numpy as np"
      ]
    },
    {
      "cell_type": "markdown",
      "metadata": {
        "id": "M0jLI9LBa90C"
      },
      "source": [
        "## Part A.1 Data Cleaning - [10 pt]\n",
        "\n",
        "We will be using the \"SMS Spam Collection Data Set\" available at http://archive.ics.uci.edu/ml/datasets/SMS+Spam+Collection\n",
        "\n",
        "There is a link to download the \"Data Folder\" at the very top of the webpage. Download the zip file, unzip it, and upload the file `SMSSpamCollection` to Colab.    "
      ]
    },
    {
      "cell_type": "markdown",
      "metadata": {
        "id": "sSuF7C_Ga90E"
      },
      "source": [
        "### Part A.1.a - [1 pt]\n",
        "\n",
        "Open up the file in Python, and print out one example of a spam SMS, and one example of a non-spam SMS.\n",
        "\n",
        "What is the label value for a spam message, and what is the label value for a non-spam message?"
      ]
    },
    {
      "cell_type": "code",
      "execution_count": null,
      "metadata": {
        "colab": {
          "base_uri": "https://localhost:8080/"
        },
        "id": "I_IfXHeTa90F",
        "outputId": "a7dbc0d6-a3c3-4975-b62c-3a14b560a0d9"
      },
      "outputs": [
        {
          "output_type": "stream",
          "name": "stdout",
          "text": [
            "The label of the non-spam message is: ham.\n",
            "ham\tGo until jurong point, crazy.. Available only in bugis n great world la e buffet... Cine there got amore wat...\n",
            "\n",
            "The label of the spam message is: spam.\n",
            "spam\tFree entry in 2 a wkly comp to win FA Cup final tkts 21st May 2005. Text FA to 87121 to receive entry question(std txt rate)T&C's apply 08452810075over18's\n",
            "\n"
          ]
        }
      ],
      "source": [
        "\n",
        "for line in open('SMSSpamCollection'):\n",
        "    if line[0] =='h':\n",
        "      print(\"The label of the non-spam message is: ham.\")\n",
        "      print(line)\n",
        "      break\n",
        "\n",
        "for line in open('SMSSpamCollection'):\n",
        "  if line[0]=='s':\n",
        "    print(\"The label of the spam message is: spam.\")\n",
        "    print(line)\n",
        "    break\n",
        "  \n",
        "    "
      ]
    },
    {
      "cell_type": "code",
      "execution_count": null,
      "metadata": {
        "id": "WUijBSuVUc-y"
      },
      "outputs": [],
      "source": [
        "# The label of a non-spam message is \"ham\" and the label for a spam message is \"spam\""
      ]
    },
    {
      "cell_type": "markdown",
      "metadata": {
        "id": "AukA6vMVa90d"
      },
      "source": [
        "### Part A.1.b - [1 pt]\n",
        "\n",
        "How many spam messages are there in the data set?\n",
        "How many non-spam messages are there in the data set?\n"
      ]
    },
    {
      "cell_type": "code",
      "execution_count": null,
      "metadata": {
        "colab": {
          "base_uri": "https://localhost:8080/"
        },
        "id": "LgsqyemVa90e",
        "outputId": "da49e119-60cb-467a-c47e-c120fe76b50f"
      },
      "outputs": [
        {
          "name": "stdout",
          "output_type": "stream",
          "text": [
            "There is 4827 non-spam messages in the dataset\n",
            "There is 747 spam messages in the dataset\n"
          ]
        }
      ],
      "source": [
        "non_spam = 0\n",
        "spam = 0\n",
        "for line in open('SMSSpamCollection'):\n",
        "  if line[0]=='h':\n",
        "    non_spam +=1\n",
        "  if line[0]=='s':\n",
        "    spam +=1\n",
        "\n",
        "print(\"There is {} non-spam messages in the dataset\".format(non_spam))\n",
        "print(\"There is {} spam messages in the dataset\".format(spam))"
      ]
    },
    {
      "cell_type": "markdown",
      "metadata": {
        "id": "d1WXxVt6a90h"
      },
      "source": [
        "### Part A.1.c - [2 pt]\n",
        "\n",
        "We will be using the package `torchtext` to load, process, and batch the data.\n",
        "A tutorial to torchtext is available below. This tutorial uses the same\n",
        "Sentiment140 data set that we explored during lecture.\n",
        "\n",
        "https://medium.com/@sonicboom8/sentiment-analysis-torchtext-55fb57b1fab8\n",
        "\n",
        "Unlike what we did during lecture, we will be building a **character level RNN**.\n",
        "That is, we will treat each **character** as a token in our sequence,\n",
        "rather than each **word**.\n",
        "\n",
        "Identify two advantage and two disadvantage of modelling SMS text\n",
        "messages as a sequence of characters rather than a sequence of words."
      ]
    },
    {
      "cell_type": "code",
      "execution_count": null,
      "metadata": {
        "id": "Mhnz8Nk-a90i"
      },
      "outputs": [],
      "source": [
        "# Adavantage:\n",
        "  # There are less characters than words in the dataset, therefore modeling SMS as a sequence of characters improves memory allocation\n",
        "  # Model would generalize better as the chances of observing a unknown word is much higher than observing an unkown character in the message\n",
        "\n",
        "\n",
        "# Disadvantage:\n",
        "  # Training would take longer as some sentences would have more characters than words \n",
        "  # The network woudl not be able to determine the meaning of the message. As meaning come from the context of words in a sentence, modeling the\n",
        "  # data based on character would mean that sentence meaning is lost. \n",
        "  "
      ]
    },
    {
      "cell_type": "markdown",
      "metadata": {
        "id": "ie_D0bv9a90k"
      },
      "source": [
        "### Part A.1.d - [1 pt]\n",
        "\n",
        "We will be loading our data set using `torchtext.data.TabularDataset`. The\n",
        "constructor will read directly from the `SMSSpamCollection` file. \n",
        "\n",
        "For the data file to be read successfuly, we\n",
        "need to specify the **fields** (columns) in the file. \n",
        "In our case, the dataset has two fields: \n",
        "\n",
        "- a text field containing the sms messages,\n",
        "- a label field which will be converted into a binary label.\n",
        "\n",
        "Split the dataset into `train`, `valid`, and `test`. Use a 60-20-20 split.\n",
        "You may find this torchtext API page helpful:\n",
        "https://torchtext.readthedocs.io/en/latest/data.html#dataset\n",
        "\n",
        "Hint: There is a `Dataset` method that can perform the random split for you."
      ]
    },
    {
      "cell_type": "code",
      "execution_count": null,
      "metadata": {
        "colab": {
          "base_uri": "https://localhost:8080/"
        },
        "id": "UL03yZ-R671S",
        "outputId": "f891f446-23c0-4191-8a35-b0e698cee719"
      },
      "outputs": [
        {
          "output_type": "stream",
          "name": "stdout",
          "text": [
            "Found existing installation: torchtext 0.9.0\n",
            "Uninstalling torchtext-0.9.0:\n",
            "  Would remove:\n",
            "    /usr/local/lib/python3.9/dist-packages/torchtext-0.9.0.dist-info/*\n",
            "    /usr/local/lib/python3.9/dist-packages/torchtext/*\n",
            "Proceed (Y/n)? Y\n",
            "  Successfully uninstalled torchtext-0.9.0\n"
          ]
        }
      ],
      "source": [
        "!pip uninstall torchtext"
      ]
    },
    {
      "cell_type": "code",
      "execution_count": null,
      "metadata": {
        "colab": {
          "base_uri": "https://localhost:8080/"
        },
        "id": "hpEufGSuSc0W",
        "outputId": "aaa57f0b-d35c-4f4b-fed5-bf31b84d1bb1"
      },
      "outputs": [
        {
          "output_type": "stream",
          "name": "stdout",
          "text": [
            "Looking in indexes: https://pypi.org/simple, https://us-python.pkg.dev/colab-wheels/public/simple/\n",
            "Collecting torchtext==0.9.0\n",
            "  Using cached torchtext-0.9.0-cp39-cp39-manylinux1_x86_64.whl (7.0 MB)\n",
            "Requirement already satisfied: tqdm in /usr/local/lib/python3.9/dist-packages (from torchtext==0.9.0) (4.65.0)\n",
            "Requirement already satisfied: numpy in /usr/local/lib/python3.9/dist-packages (from torchtext==0.9.0) (1.22.4)\n",
            "Requirement already satisfied: requests in /usr/local/lib/python3.9/dist-packages (from torchtext==0.9.0) (2.27.1)\n",
            "Collecting torch==1.8.0\n",
            "  Using cached torch-1.8.0-cp39-cp39-manylinux1_x86_64.whl (735.5 MB)\n",
            "Requirement already satisfied: typing-extensions in /usr/local/lib/python3.9/dist-packages (from torch==1.8.0->torchtext==0.9.0) (4.5.0)\n",
            "Requirement already satisfied: urllib3<1.27,>=1.21.1 in /usr/local/lib/python3.9/dist-packages (from requests->torchtext==0.9.0) (1.26.15)\n",
            "Requirement already satisfied: idna<4,>=2.5 in /usr/local/lib/python3.9/dist-packages (from requests->torchtext==0.9.0) (3.4)\n",
            "Requirement already satisfied: certifi>=2017.4.17 in /usr/local/lib/python3.9/dist-packages (from requests->torchtext==0.9.0) (2022.12.7)\n",
            "Requirement already satisfied: charset-normalizer~=2.0.0 in /usr/local/lib/python3.9/dist-packages (from requests->torchtext==0.9.0) (2.0.12)\n",
            "Installing collected packages: torch, torchtext\n",
            "  Attempting uninstall: torch\n",
            "    Found existing installation: torch 1.13.1\n",
            "    Uninstalling torch-1.13.1:\n",
            "      Successfully uninstalled torch-1.13.1\n",
            "\u001b[31mERROR: pip's dependency resolver does not currently take into account all the packages that are installed. This behaviour is the source of the following dependency conflicts.\n",
            "torchvision 0.14.1+cu116 requires torch==1.13.1, but you have torch 1.8.0 which is incompatible.\n",
            "torchaudio 0.13.1+cu116 requires torch==1.13.1, but you have torch 1.8.0 which is incompatible.\u001b[0m\u001b[31m\n",
            "\u001b[0mSuccessfully installed torch-1.8.0 torchtext-0.9.0\n"
          ]
        }
      ],
      "source": [
        "!pip install torchtext==0.9.0"
      ]
    },
    {
      "cell_type": "code",
      "execution_count": null,
      "metadata": {
        "id": "eQ2I5-e1f5O9"
      },
      "outputs": [],
      "source": [
        "import torchtext\n",
        "import random"
      ]
    },
    {
      "cell_type": "code",
      "execution_count": null,
      "metadata": {
        "id": "2Wump_BvMKWy"
      },
      "outputs": [],
      "source": [
        "from torchtext.legacy import data\n"
      ]
    },
    {
      "cell_type": "code",
      "execution_count": null,
      "metadata": {
        "id": "P_Y6Puz9a90l"
      },
      "outputs": [],
      "source": [
        "text_field = torchtext.legacy.data.Field(sequential=True,      # text sequence\n",
        "                                  tokenize=lambda x: x, # because are building a character-RNN\n",
        "                                  include_lengths=True, # to track the length of sequences, for batching\n",
        "                                  batch_first=True,\n",
        "                                  use_vocab=True)       # to turn each character into an integer index\n",
        "label_field = torchtext.legacy.data.Field(sequential=False,    # not a sequence\n",
        "                                   use_vocab=False,     # don't need to track vocabulary\n",
        "                                   is_target=True,      \n",
        "                                   batch_first=True,\n",
        "                                   preprocessing=lambda x: int(x == 'spam')) # convert text to 0 and 1\n",
        "\n",
        "fields = [('label', label_field), ('sms', text_field)]\n",
        "dataset = torchtext.legacy.data.TabularDataset(\"SMSSpamCollection\", # name of the file\n",
        "                                        \"tsv\",               # fields are separated by a tab\n",
        "                                        fields)\n",
        "\n",
        "#dataset[0].sms\n",
        "#dataset[0].label\n",
        "train, valid, test = dataset.split(split_ratio =[0.6,0.2,0.2] , random_state = random.getstate())"
      ]
    },
    {
      "cell_type": "code",
      "execution_count": null,
      "metadata": {
        "colab": {
          "base_uri": "https://localhost:8080/"
        },
        "id": "IDIuQKrCsrGx",
        "outputId": "c3f9aca6-16df-45a6-bb36-83072bc38e99"
      },
      "outputs": [
        {
          "output_type": "stream",
          "name": "stdout",
          "text": [
            "3343\n",
            "1115\n",
            "1114\n"
          ]
        }
      ],
      "source": [
        "print(len(list(train)))\n",
        "print(len(list(valid)))\n",
        "print(len(list(test)))"
      ]
    },
    {
      "cell_type": "markdown",
      "metadata": {
        "id": "v6nP0Ks_a90o"
      },
      "source": [
        "### Part A.1.e - [2 pt]\n",
        "\n",
        "You saw in part (b) that there are many more non-spam messages than spam messages.\n",
        "This **imbalance** in our training data will be problematic for training.\n",
        "We can fix this disparity by duplicating spam messages in the training set,\n",
        "so that the training set is roughly **balanced**.\n",
        "\n",
        "Explain why having a balanced training set is helpful for training our neural network.\n",
        "\n",
        "Note: if you are not sure, try removing the below code and train your mode."
      ]
    },
    {
      "cell_type": "code",
      "execution_count": null,
      "metadata": {
        "id": "kxlhlo1ntikz"
      },
      "outputs": [],
      "source": [
        "# having a balanced training set is helpful for training the neural network because the model needs to be trained on as many spam and non-spam \n",
        "# messages in order to be able to classify properly spam and non-spam messages when the model is subjected to a set of new data, i.e., the testing\n",
        "# data. Else the neural network would not be able to detect the disparities between the spam and non-spam messages if non-spam messages number was\n",
        "# limited."
      ]
    },
    {
      "cell_type": "code",
      "execution_count": null,
      "metadata": {
        "id": "FWvx9_rka90p"
      },
      "outputs": [],
      "source": [
        "# save the original training examples\n",
        "old_train_examples = train.examples\n",
        "# get all the spam messages in `train`\n",
        "train_spam = []\n",
        "for item in train.examples:\n",
        "    if item.label == 1:\n",
        "        train_spam.append(item)\n",
        "# duplicate each spam message 6 more times\n",
        "train.examples = old_train_examples + train_spam * 6"
      ]
    },
    {
      "cell_type": "markdown",
      "metadata": {
        "id": "j7eUmBEva90r"
      },
      "source": [
        "### Part A.1.f - [1 pt]\n",
        "\n",
        "We need to build the vocabulary on the training data by running the below code.\n",
        "This finds all the possible character tokens in the training set.\n",
        "\n",
        "Explain what the variables `text_field.vocab.stoi` and `text_field.vocab.itos` represent."
      ]
    },
    {
      "cell_type": "code",
      "execution_count": null,
      "metadata": {
        "id": "B6GrCkXlwa7r"
      },
      "outputs": [],
      "source": [
        "# text_field.vocab.stoi represents the index at which each element was found in the training dataset\n",
        "#  text_field.vocab.itos represents the characters that were found in the training dataset"
      ]
    },
    {
      "cell_type": "code",
      "execution_count": null,
      "metadata": {
        "id": "8CQM8flKa90s"
      },
      "outputs": [],
      "source": [
        "text_field.build_vocab(train)"
      ]
    },
    {
      "cell_type": "code",
      "execution_count": null,
      "metadata": {
        "colab": {
          "base_uri": "https://localhost:8080/"
        },
        "id": "ALw3VwzHvDNK",
        "outputId": "5b57a72c-d894-4555-a96a-8ea2f5cca762"
      },
      "outputs": [
        {
          "output_type": "execute_result",
          "data": {
            "text/plain": [
              "[('<unk>', 0),\n",
              " ('<pad>', 1),\n",
              " (' ', 2),\n",
              " ('e', 3),\n",
              " ('o', 4),\n",
              " ('t', 5),\n",
              " ('a', 6),\n",
              " ('n', 7),\n",
              " ('r', 8),\n",
              " ('i', 9)]"
            ]
          },
          "metadata": {},
          "execution_count": 14
        }
      ],
      "source": [
        "list(text_field.vocab.stoi.keys())[:10]\n",
        "list(text_field.vocab.stoi.items())[:10]\n"
      ]
    },
    {
      "cell_type": "code",
      "execution_count": null,
      "metadata": {
        "colab": {
          "base_uri": "https://localhost:8080/"
        },
        "id": "UJ00Af2wvFrW",
        "outputId": "fca08e8b-8e59-40ba-993a-e3e6a2d96f2e"
      },
      "outputs": [
        {
          "output_type": "execute_result",
          "data": {
            "text/plain": [
              "['<unk>', '<pad>', ' ', 'e', 'o', 't', 'a', 'n', 'r', 'i']"
            ]
          },
          "metadata": {},
          "execution_count": 15
        }
      ],
      "source": [
        "text_field.vocab.itos[:10]"
      ]
    },
    {
      "cell_type": "markdown",
      "metadata": {
        "id": "TC8WVE8Ua90u"
      },
      "source": [
        "### Part A.1.g - [1 pt]\n",
        "\n",
        "The tokens `<unk>` and `<pad>` were not in our SMS text messages.\n",
        "What do these two values represent?"
      ]
    },
    {
      "cell_type": "code",
      "execution_count": null,
      "metadata": {
        "id": "y_4Er7KUa90v"
      },
      "outputs": [],
      "source": [
        "# <pad> represents padding that was added to the sentence to maintain length consistency\n",
        "# <unk> represents a character that is not in the vocabulary of torchtext"
      ]
    },
    {
      "cell_type": "markdown",
      "metadata": {
        "id": "Ff5CNk7Qa90y"
      },
      "source": [
        "### Part A.1.h - [1 pt]\n",
        "\n",
        "Since text sequences are of variable length, `torchtext` provides a `BucketIterator` data loader,\n",
        "which batches similar length sequences together. The iterator also provides functionalities to\n",
        "pad sequences automatically.\n",
        "\n",
        "Take a look at 10 batches in `train_iter`. What is the maximum length of the\n",
        "input sequence in each batch? How many `<pad>` tokens are used in each of the 10\n",
        "batches?"
      ]
    },
    {
      "cell_type": "code",
      "execution_count": null,
      "metadata": {
        "id": "V8N8qLWOa90y"
      },
      "outputs": [],
      "source": [
        "train_iter = torchtext.legacy.data.BucketIterator(train,\n",
        "                                           batch_size=32,\n",
        "                                           sort_key=lambda x: len(x.sms), # to minimize padding\n",
        "                                           sort_within_batch=True,        # sort within each batch\n",
        "                                           repeat=False)                  # repeat the iterator for many epochs"
      ]
    },
    {
      "cell_type": "code",
      "execution_count": null,
      "metadata": {
        "colab": {
          "base_uri": "https://localhost:8080/"
        },
        "id": "Qwz-rOaha902",
        "outputId": "cab5bd48-5436-46bd-f9d1-2af300774cd7"
      },
      "outputs": [
        {
          "name": "stdout",
          "output_type": "stream",
          "text": [
            "The maximum length of the input sequence in batch 1 is :126\n",
            "The number of pads  used in batch 1 is : 29 \n",
            "\n",
            "The maximum length of the input sequence in batch 2 is :32\n",
            "The number of pads  used in batch 2 is : 12 \n",
            "\n",
            "The maximum length of the input sequence in batch 3 is :158\n",
            "The number of pads  used in batch 3 is : 0 \n",
            "\n",
            "The maximum length of the input sequence in batch 4 is :158\n",
            "The number of pads  used in batch 4 is : 0 \n",
            "\n",
            "The maximum length of the input sequence in batch 5 is :146\n",
            "The number of pads  used in batch 5 is : 0 \n",
            "\n",
            "The maximum length of the input sequence in batch 6 is :146\n",
            "The number of pads  used in batch 6 is : 31 \n",
            "\n",
            "The maximum length of the input sequence in batch 7 is :38\n",
            "The number of pads  used in batch 7 is : 26 \n",
            "\n",
            "The maximum length of the input sequence in batch 8 is :73\n",
            "The number of pads  used in batch 8 is : 34 \n",
            "\n",
            "The maximum length of the input sequence in batch 9 is :159\n",
            "The number of pads  used in batch 9 is : 0 \n",
            "\n",
            "The maximum length of the input sequence in batch 10 is :160\n",
            "The number of pads  used in batch 10 is : 0 \n",
            "\n"
          ]
        }
      ],
      "source": [
        "i=0\n",
        "for batch in train_iter:\n",
        "    pad_count = 0\n",
        "    print(\"The maximum length of the input sequence in batch {} is :{}\".format(i+1 , torch.max(batch.sms[1])))\n",
        "\n",
        "    for j in range(len(batch.sms[0])):\n",
        "      pad_count = pad_count + np.count_nonzero(batch.sms[0][j]==1)\n",
        "      \n",
        "    print(\"The number of pads  used in batch {} is : {} \\n\".format(i+1 , pad_count))\n",
        "    \n",
        "    \n",
        "    i+=1\n",
        "\n",
        "    if i==10:\n",
        "      break"
      ]
    },
    {
      "cell_type": "markdown",
      "metadata": {
        "id": "y7HnqP6_a904"
      },
      "source": [
        "## Part A.2 Model Building - [5 pt]\n",
        "\n",
        "Build a recurrent neural network model, using an architecture of your choosing. \n",
        "Use the one-hot embedding of each character as input to your recurrent network.\n",
        "Use one or more fully-connected layers to make the prediction based on your\n",
        "recurrent network output.\n",
        "\n",
        "Instead of using the RNN output value for the final token, another often used\n",
        "strategy is to max-pool over the entire output array. That is, instead of calling\n",
        "something like:\n",
        "\n",
        "```\n",
        "out, _ = self.rnn(x)\n",
        "self.fc(out[:, -1, :])\n",
        "```\n",
        "\n",
        "where `self.rnn` is an `nn.RNN`, `nn.GRU`, or `nn.LSTM` module, and `self.fc` is a \n",
        "fully-connected \n",
        "layer, we use:\n",
        "\n",
        "```\n",
        "out, _ = self.rnn(x)\n",
        "self.fc(torch.max(out, dim=1)[0])\n",
        "```\n",
        "\n",
        "This works reasonably in practice. An even better alternative is to concatenate the\n",
        "max-pooling and average-pooling of the RNN outputs:\n",
        "\n",
        "```\n",
        "out, _ = self.rnn(x)\n",
        "out = torch.cat([torch.max(out, dim=1)[0], \n",
        "                 torch.mean(out, dim=1)], dim=1)\n",
        "self.fc(out)\n",
        "```\n",
        "\n",
        "We encourage you to try out all these options. The way you pool the RNN outputs\n",
        "is one of the \"hyperparameters\" that you can choose to tune later on."
      ]
    },
    {
      "cell_type": "code",
      "execution_count": null,
      "metadata": {
        "colab": {
          "base_uri": "https://localhost:8080/"
        },
        "id": "jHl1p_Wwa905",
        "outputId": "6fea9206-cc8a-432b-c7fa-30f98574b4fa"
      },
      "outputs": [
        {
          "name": "stdout",
          "output_type": "stream",
          "text": [
            "tensor([1., 0., 0., 0., 0., 0., 0., 0., 0., 0.])\n",
            "tensor([0., 1., 0., 0., 0., 0., 0., 0., 0., 0.])\n",
            "tensor([[[0., 1., 0., 0., 0., 0., 0., 0., 0., 0.],\n",
            "         [0., 0., 1., 0., 0., 0., 0., 0., 0., 0.]],\n",
            "\n",
            "        [[0., 0., 0., 1., 0., 0., 0., 0., 0., 0.],\n",
            "         [0., 0., 0., 0., 0., 0., 1., 0., 0., 0.]]])\n"
          ]
        }
      ],
      "source": [
        "# You might find this code helpful for obtaining\n",
        "# PyTorch one-hot vectors.\n",
        "\n",
        "ident = torch.eye(10)\n",
        "print(ident[0]) # one-hot vector\n",
        "print(ident[1]) # one-hot vector\n",
        "x = torch.tensor([[1, 2], [3, 6]])\n",
        "print(ident[x]) # one-hot vectors"
      ]
    },
    {
      "cell_type": "code",
      "execution_count": null,
      "metadata": {
        "colab": {
          "base_uri": "https://localhost:8080/"
        },
        "id": "8kpOupZd4NiA",
        "outputId": "74c9c35e-5b13-47e0-e219-752927d187ad"
      },
      "outputs": [
        {
          "data": {
            "text/plain": [
              "tensor([[[0., 1., 0., 0., 0., 0., 0., 0., 0., 0.],\n",
              "         [0., 0., 1., 0., 0., 0., 0., 0., 0., 0.]],\n",
              "\n",
              "        [[0., 0., 0., 1., 0., 0., 0., 0., 0., 0.],\n",
              "         [0., 0., 0., 0., 0., 0., 1., 0., 0., 0.]]])"
            ]
          },
          "execution_count": 16,
          "metadata": {},
          "output_type": "execute_result"
        }
      ],
      "source": [
        "ident[x]"
      ]
    },
    {
      "cell_type": "code",
      "execution_count": null,
      "metadata": {
        "id": "pv1PpRhu41z1"
      },
      "outputs": [],
      "source": [
        "def encoding_embedding(x):\n",
        "  text_field.build_vocab(train)\n",
        "  ident = torch.eye(len(text_field.vocab.stoi))\n",
        "\n",
        "  for i in range(0,len(x)):\n",
        "    encod = ident[x[i]].unsqueeze(0)\n",
        "\n",
        "    if i==0:\n",
        "      encod_new = encod\n",
        "    else:\n",
        "      encod_new = torch.cat((encod_new , encod) , dim = 0)\n",
        "      \n",
        "  return encod_new\n"
      ]
    },
    {
      "cell_type": "code",
      "execution_count": null,
      "metadata": {
        "id": "4LTQ7zFka909"
      },
      "outputs": [],
      "source": [
        "class LSTM(nn.Module):\n",
        "  def  __init__(self, input_size, hidden_size, num_class):\n",
        "    super(LSTM, self).__init__()\n",
        "  \n",
        "    self.emb = encoding_embedding\n",
        "    self.hidden_size = hidden_size\n",
        "    self.rnn = nn.LSTM(input_size, hidden_size, batch_first=True)\n",
        "    self.fc = nn.Linear(hidden_size, num_class)\n",
        "\n",
        "  def forward(self , x):\n",
        "    x = self.emb(x)\n",
        "    h0 = torch.zeros(1, x.size(0), self.hidden_size)\n",
        "    c0 = torch.zeros(1, x.size(0), self.hidden_size)\n",
        "    out, __ = self.rnn(x, (h0, c0))\n",
        "    \n",
        "    out = self.fc(torch.max(out, dim=1)[0])\n",
        "\n",
        "    return out\n"
      ]
    },
    {
      "cell_type": "markdown",
      "metadata": {
        "id": "vKIYPl_Ba90_"
      },
      "source": [
        "## Part A.3 Training - [8 pt]\n",
        "\n",
        "### Part A.3.a - [2 pt]\n",
        "\n",
        "Complete the `get_accuracy` function, which will compute the\n",
        "accuracy (rate) of your model across a dataset (e.g. validation set).\n",
        "You may modify `torchtext.data.BucketIterator` to make your computation\n",
        "faster."
      ]
    },
    {
      "cell_type": "code",
      "execution_count": null,
      "metadata": {
        "id": "yVcBH4DsZr0d"
      },
      "outputs": [],
      "source": [
        "val_iter = torchtext.legacy.data.BucketIterator(valid,\n",
        "                                           batch_size=32,\n",
        "                                           sort_key=lambda x: len(x.sms), # to minimize padding\n",
        "                                           sort_within_batch=True,        # sort within each batch\n",
        "                                           repeat=False)                  # repeat the iterator for many epochs"
      ]
    },
    {
      "cell_type": "code",
      "execution_count": null,
      "metadata": {
        "id": "pvNfhGD6a91A"
      },
      "outputs": [],
      "source": [
        "def get_accuracy(model, data):\n",
        "    \"\"\" Compute the accuracy of the `model` across a dataset `data`\n",
        "\n",
        "    \n",
        "    Example usage:\n",
        "    \n",
        "    >>> model = MyRNN() # to be defined\n",
        "    >>> get_accuracy(model, valid) # the variable `valid` is from above\n",
        "    \"\"\"\n",
        "    correct = 0 \n",
        "    total = 0\n",
        "\n",
        "    for batch in data:\n",
        "      batch_length = len(batch)\n",
        "      y = batch.sms[0]\n",
        "      correct_label = batch.label\n",
        "      output = model(y)\n",
        "      pred = output.max(1 , keepdim = True)[1]\n",
        "      correct += pred.eq(correct_label.view_as(pred)).sum().item()\n",
        "      total += batch_length\n",
        "    return correct/total\n",
        "\n",
        "    "
      ]
    },
    {
      "cell_type": "markdown",
      "metadata": {
        "id": "TlxlcAC1a91C"
      },
      "source": [
        "### Part A.3.b - [2 pt]\n",
        "\n",
        "Train your model. Plot the training curve of your final model. \n",
        "Your training curve should have the training/validation loss and\n",
        "accuracy plotted periodically.\n",
        "\n",
        "Note: Not all of your batches will have the same batch size.\n",
        "In particular, if your training set does not divide evenly by\n",
        "your batch size, there will be a batch that is smaller than\n",
        "the rest. "
      ]
    },
    {
      "cell_type": "code",
      "execution_count": null,
      "metadata": {
        "id": "oXZ1ANyYi9mp"
      },
      "outputs": [],
      "source": [
        "model = LSTM(len(text_field.vocab.stoi),50,2)\n"
      ]
    },
    {
      "cell_type": "code",
      "execution_count": null,
      "metadata": {
        "id": "CVtf7CJCa91D"
      },
      "outputs": [],
      "source": [
        "import matplotlib.pyplot as plt\n",
        "\n",
        "def train_net(model,train,valid, num_epochs = 30 , learning_rate =0.001):\n",
        "  optimizer = torch.optim.Adam(model.parameters() , lr = learning_rate)\n",
        "  criterion = nn.CrossEntropyLoss()\n",
        "  losses , train_accuracy, valid_accuracy = [],[],[]\n",
        "  epochs =[]\n",
        "\n",
        "\n",
        "  for epoch in range(num_epochs):\n",
        "    for batch in train:\n",
        "      optimizer.zero_grad()\n",
        "      prediction = model(batch.sms[0])\n",
        "      loss = criterion(prediction, batch.label)\n",
        "      loss.backward()\n",
        "      optimizer.step()\n",
        "    losses.append(float(loss))\n",
        "\n",
        "    epochs.append(epoch)\n",
        "    train_accuracy.append(get_accuracy(model , train))\n",
        "    valid_accuracy.append(get_accuracy(model, valid))\n",
        "\n",
        "    print(\"Epoch : {} ; Loss: {} ; Train_Acc: {} ; Val_Acc: {} \".format(epoch+1, loss , \n",
        "                                                                        train_accuracy[-1] , valid_accuracy[-1]))\n",
        "\n",
        "  \n",
        "  plt.title(\"Training Curve\")\n",
        "  plt.plot(losses , label = \"Train\")\n",
        "  plt.xlabel('Epochs')\n",
        "  plt.ylabel(\"Loss\")\n",
        "  plt.show()\n",
        "\n",
        "\n",
        "  plt.title(\"Trainin Curve\")\n",
        "  plt.plot(epochs , train_accuracy , label = 'Train')\n",
        "  plt.plot(epochs, valid_accuracy , label = 'Validation')\n",
        "  plt.xlabel(\"Epochs\")\n",
        "  plt.ylabel(\"Accuracy\")\n",
        "  plt.legend(loc = 'best')\n",
        "  plt.show()\n",
        "        "
      ]
    },
    {
      "cell_type": "code",
      "execution_count": null,
      "metadata": {
        "id": "r2HJe2D0cIJt"
      },
      "outputs": [],
      "source": [
        "train_iter1 = torchtext.legacy.data.BucketIterator(train,\n",
        "                                           batch_size=32,\n",
        "                                           sort_key=lambda x: len(x.sms), # to minimize padding\n",
        "                                           sort_within_batch=True,        # sort within each batch\n",
        "                                           repeat=False)                  # repeat the iterator for many epochs"
      ]
    },
    {
      "cell_type": "code",
      "execution_count": null,
      "metadata": {
        "id": "_cQrg92-cJ5t"
      },
      "outputs": [],
      "source": [
        "val_iter1 = torchtext.legacy.data.BucketIterator(valid,\n",
        "                                           batch_size=32,\n",
        "                                           sort_key=lambda x: len(x.sms), # to minimize padding\n",
        "                                           sort_within_batch=True,        # sort within each batch\n",
        "                                           repeat=False)                  # repeat the iterator for many epochs"
      ]
    },
    {
      "cell_type": "code",
      "execution_count": null,
      "metadata": {
        "colab": {
          "base_uri": "https://localhost:8080/",
          "height": 920
        },
        "id": "OE6SUOdtVpiB",
        "outputId": "4cfd139c-2f01-454c-985f-ea19bac3daf7"
      },
      "outputs": [
        {
          "name": "stdout",
          "output_type": "stream",
          "text": [
            "Epoch : 1 ; Loss: 0.5130583047866821 ; Train_Acc: 0.9202886390333949 ; Val_Acc: 0.9730941704035875 \n",
            "Epoch : 2 ; Loss: 0.13759569823741913 ; Train_Acc: 0.9449572075851653 ; Val_Acc: 0.968609865470852 \n",
            "Epoch : 3 ; Loss: 0.024538476020097733 ; Train_Acc: 0.9573753985568049 ; Val_Acc: 0.9596412556053812 \n",
            "Epoch : 4 ; Loss: 0.027941912412643433 ; Train_Acc: 0.9551938244671925 ; Val_Acc: 0.9605381165919282 \n",
            "Epoch : 5 ; Loss: 0.023532623425126076 ; Train_Acc: 0.9644235610001678 ; Val_Acc: 0.9533632286995516 \n",
            "Epoch : 6 ; Loss: 0.2217119336128235 ; Train_Acc: 0.9603960396039604 ; Val_Acc: 0.9497757847533632 \n",
            "Epoch : 7 ; Loss: 0.2485668659210205 ; Train_Acc: 0.9672763886558148 ; Val_Acc: 0.9533632286995516 \n",
            "Epoch : 8 ; Loss: 0.14207571744918823 ; Train_Acc: 0.9733176707501259 ; Val_Acc: 0.9623318385650225 \n",
            "Epoch : 9 ; Loss: 0.08554747700691223 ; Train_Acc: 0.9729820439671085 ; Val_Acc: 0.9704035874439462 \n",
            "Epoch : 10 ; Loss: 0.0582452155649662 ; Train_Acc: 0.9820439671085752 ; Val_Acc: 0.9668161434977578 \n",
            "Epoch : 11 ; Loss: 0.015114725567400455 ; Train_Acc: 0.983554287632153 ; Val_Acc: 0.957847533632287 \n",
            "Epoch : 12 ; Loss: 0.013642323203384876 ; Train_Acc: 0.9865749286793086 ; Val_Acc: 0.957847533632287 \n",
            "Epoch : 13 ; Loss: 0.009217407554388046 ; Train_Acc: 0.9884208759859037 ; Val_Acc: 0.9695067264573991 \n",
            "Epoch : 14 ; Loss: 0.025739304721355438 ; Train_Acc: 0.9919449572075851 ; Val_Acc: 0.9730941704035875 \n",
            "Epoch : 15 ; Loss: 0.007228311151266098 ; Train_Acc: 0.9902668232924987 ; Val_Acc: 0.968609865470852 \n",
            "Epoch : 16 ; Loss: 0.03865259885787964 ; Train_Acc: 0.9847289813727136 ; Val_Acc: 0.97847533632287 \n",
            "Epoch : 17 ; Loss: 0.048940885812044144 ; Train_Acc: 0.9956368518207753 ; Val_Acc: 0.9802690582959641 \n",
            "Epoch : 18 ; Loss: 0.007535106036812067 ; Train_Acc: 0.9961402919953012 ; Val_Acc: 0.9757847533632287 \n",
            "Epoch : 19 ; Loss: 0.0035940897651016712 ; Train_Acc: 0.9897633831179729 ; Val_Acc: 0.9811659192825112 \n",
            "Epoch : 20 ; Loss: 0.01957288570702076 ; Train_Acc: 0.9956368518207753 ; Val_Acc: 0.9757847533632287 \n"
          ]
        },
        {
          "data": {
            "image/png": "[encoded data removed]",
            "text/plain": [
              "<Figure size 432x288 with 1 Axes>"
            ]
          },
          "metadata": {},
          "output_type": "display_data"
        },
        {
          "data": {
            "image/png": "[encoded data removed]",
            "text/plain": [
              "<Figure size 432x288 with 1 Axes>"
            ]
          },
          "metadata": {},
          "output_type": "display_data"
        }
      ],
      "source": [
        "train_net(model , train_iter1, val_iter1 , num_epochs = 20 , learning_rate = 1e-3)"
      ]
    },
    {
      "cell_type": "markdown",
      "metadata": {
        "id": "fE3eRkDAa91F"
      },
      "source": [
        "### Part A.3.c - [2 pt]\n",
        "\n",
        "Choose at least 4 hyperparameters to tune. Explain how you tuned the hyperparameters.\n",
        "You don't need to include your training curve for every model you trained.\n",
        "Instead, explain what hyperparemters you tuned, what the best validation accuracy was,\n",
        "and the reasoning behind the hyperparameter decisions you made.\n",
        "\n",
        "For this assignment, you should tune more than just your learning rate and epoch. \n",
        "Choose at least 2 hyperparameters that are unrelated to the optimizer."
      ]
    },
    {
      "cell_type": "code",
      "execution_count": null,
      "metadata": {
        "id": "X5j1DvP2sQGl"
      },
      "outputs": [],
      "source": [
        "model = LSTM(len(text_field.vocab.stoi),50,2)\n"
      ]
    },
    {
      "cell_type": "code",
      "execution_count": null,
      "metadata": {
        "id": "A2GEWfDca91G"
      },
      "outputs": [],
      "source": [
        "# Hyperparameter 1: Inceasing Batch_size\n",
        "\n",
        "train_iter2 = torchtext.legacy.data.BucketIterator(train,\n",
        "                                           batch_size=64,\n",
        "                                           sort_key=lambda x: len(x.sms), # to minimize padding\n",
        "                                           sort_within_batch=True,        # sort within each batch\n",
        "                                           repeat=False)   \n",
        "\n",
        "val_iter2 = torchtext.legacy.data.BucketIterator(valid,\n",
        "                                           batch_size=64,\n",
        "                                           sort_key=lambda x: len(x.sms), # to minimize padding\n",
        "                                           sort_within_batch=True,        # sort within each batch\n",
        "                                           repeat=False)                  # repeat the iterator for many epochs"
      ]
    },
    {
      "cell_type": "code",
      "execution_count": null,
      "metadata": {
        "colab": {
          "base_uri": "https://localhost:8080/",
          "height": 920
        },
        "id": "JSzAm6A-l5wU",
        "outputId": "8e8ccac1-0309-4102-ac3e-44ca1e13e413"
      },
      "outputs": [
        {
          "name": "stdout",
          "output_type": "stream",
          "text": [
            "Epoch : 1 ; Loss: 0.3243555724620819 ; Train_Acc: 0.916109025624286 ; Val_Acc: 0.9094170403587444 \n",
            "Epoch : 2 ; Loss: 0.2597777843475342 ; Train_Acc: 0.9193732658723682 ; Val_Acc: 0.9713004484304932 \n",
            "Epoch : 3 ; Loss: 0.5146511793136597 ; Train_Acc: 0.9423861596213481 ; Val_Acc: 0.9632286995515695 \n",
            "Epoch : 4 ; Loss: 0.1764945387840271 ; Train_Acc: 0.9520156683531908 ; Val_Acc: 0.9641255605381166 \n",
            "Epoch : 5 ; Loss: 0.13594843447208405 ; Train_Acc: 0.9471193079810674 ; Val_Acc: 0.9713004484304932 \n",
            "Epoch : 6 ; Loss: 0.26345494389533997 ; Train_Acc: 0.9417333115717317 ; Val_Acc: 0.9067264573991032 \n",
            "Epoch : 7 ; Loss: 0.04750002175569534 ; Train_Acc: 0.9560959686632936 ; Val_Acc: 0.957847533632287 \n",
            "Epoch : 8 ; Loss: 0.08063759654760361 ; Train_Acc: 0.9575648767749306 ; Val_Acc: 0.9506726457399103 \n",
            "Epoch : 9 ; Loss: 0.10066846758127213 ; Train_Acc: 0.9590337848865677 ; Val_Acc: 0.9524663677130045 \n",
            "Epoch : 10 ; Loss: 0.03658055141568184 ; Train_Acc: 0.933409498939122 ; Val_Acc: 0.9766816143497757 \n",
            "Epoch : 11 ; Loss: 0.06533238291740417 ; Train_Acc: 0.9616451770850335 ; Val_Acc: 0.968609865470852 \n",
            "Epoch : 12 ; Loss: 0.09133550524711609 ; Train_Acc: 0.9626244491594581 ; Val_Acc: 0.9587443946188341 \n",
            "Epoch : 13 ; Loss: 0.07119251042604446 ; Train_Acc: 0.9683368695936021 ; Val_Acc: 0.9695067264573991 \n",
            "Epoch : 14 ; Loss: 0.039239879697561264 ; Train_Acc: 0.971111473804472 ; Val_Acc: 0.9695067264573991 \n",
            "Epoch : 15 ; Loss: 0.32056793570518494 ; Train_Acc: 0.9698057777052391 ; Val_Acc: 0.9757847533632287 \n",
            "Epoch : 16 ; Loss: 0.06485801190137863 ; Train_Acc: 0.9751917741145748 ; Val_Acc: 0.9730941704035875 \n",
            "Epoch : 17 ; Loss: 0.26105746626853943 ; Train_Acc: 0.9766606822262118 ; Val_Acc: 0.9757847533632287 \n",
            "Epoch : 18 ; Loss: 0.12731310725212097 ; Train_Acc: 0.97698710625102 ; Val_Acc: 0.9766816143497757 \n",
            "Epoch : 19 ; Loss: 0.10486292093992233 ; Train_Acc: 0.9805777705239106 ; Val_Acc: 0.9811659192825112 \n",
            "Epoch : 20 ; Loss: 0.010528268292546272 ; Train_Acc: 0.9743757140525543 ; Val_Acc: 0.9775784753363229 \n"
          ]
        },
        {
          "data": {
            "image/png": "[encoded data removed]",
            "text/plain": [
              "<Figure size 432x288 with 1 Axes>"
            ]
          },
          "metadata": {},
          "output_type": "display_data"
        },
        {
          "data": {
            "image/png": "[encoded data removed]",
            "text/plain": [
              "<Figure size 432x288 with 1 Axes>"
            ]
          },
          "metadata": {},
          "output_type": "display_data"
        }
      ],
      "source": [
        "train_net(model , train_iter2, val_iter2 , num_epochs = 20 , learning_rate = 1e-3)"
      ]
    },
    {
      "cell_type": "code",
      "execution_count": null,
      "metadata": {
        "id": "-UTlDoKxrIjD"
      },
      "outputs": [],
      "source": [
        "#Hyperparamter 2 : testing best LTSM model with Average_pool rather than Max_pool\n",
        "\n",
        "class LSTM_Network_mean(nn.Module):\n",
        "  def  __init__(self, input_size, hidden_size, num_class):\n",
        "    super(LSTM_Network_mean, self).__init__()\n",
        "  \n",
        "    self.emb = encoding_embedding\n",
        "    self.hidden_size = hidden_size\n",
        "    self.rnn = nn.LSTM(input_size, hidden_size, batch_first=True)\n",
        "    self.fc = nn.Linear(hidden_size, num_class)\n",
        "\n",
        "  def forward(self , x):\n",
        "    x = self.emb(x)\n",
        "    h0 = torch.zeros(1, x.size(0), self.hidden_size)\n",
        "    c0 = torch.zeros(1, x.size(0), self.hidden_size)\n",
        "    out, __ = self.rnn(x, (h0, c0))\n",
        "    \n",
        "    out = self.fc(torch.mean(out, dim=1))\n",
        "    \n",
        "    return out\n"
      ]
    },
    {
      "cell_type": "code",
      "execution_count": null,
      "metadata": {
        "id": "OMS2SfSnwjjJ"
      },
      "outputs": [],
      "source": [
        "# This model performs worse that MaxPooling the last layer"
      ]
    },
    {
      "cell_type": "code",
      "execution_count": null,
      "metadata": {
        "id": "1V3mPHAAsiPj"
      },
      "outputs": [],
      "source": [
        "model2 = LSTM_Network_mean(len(text_field.vocab.stoi),50,2)"
      ]
    },
    {
      "cell_type": "code",
      "execution_count": null,
      "metadata": {
        "colab": {
          "base_uri": "https://localhost:8080/",
          "height": 920
        },
        "id": "Tc-otZ-_swUQ",
        "outputId": "c0eda320-946a-4254-9d99-fcffc21e619f"
      },
      "outputs": [
        {
          "name": "stdout",
          "output_type": "stream",
          "text": [
            "Epoch : 1 ; Loss: 0.3197256624698639 ; Train_Acc: 0.8511506446874489 ; Val_Acc: 0.9551569506726457 \n",
            "Epoch : 2 ; Loss: 0.0401080958545208 ; Train_Acc: 0.9087644850661009 ; Val_Acc: 0.9623318385650225 \n",
            "Epoch : 3 ; Loss: 0.05268053337931633 ; Train_Acc: 0.9164354496490942 ; Val_Acc: 0.9659192825112107 \n",
            "Epoch : 4 ; Loss: 0.37362033128738403 ; Train_Acc: 0.9399379794352865 ; Val_Acc: 0.9434977578475336 \n",
            "Epoch : 5 ; Loss: 0.022604815661907196 ; Train_Acc: 0.9327566508895054 ; Val_Acc: 0.9381165919282511 \n",
            "Epoch : 6 ; Loss: 0.6834834814071655 ; Train_Acc: 0.9379794352864371 ; Val_Acc: 0.9659192825112107 \n",
            "Epoch : 7 ; Loss: 0.1716366410255432 ; Train_Acc: 0.9373265872368206 ; Val_Acc: 0.9730941704035875 \n",
            "Epoch : 8 ; Loss: 0.12824299931526184 ; Train_Acc: 0.9472825199934716 ; Val_Acc: 0.967713004484305 \n",
            "Epoch : 9 ; Loss: 0.10944702476263046 ; Train_Acc: 0.9441814917577934 ; Val_Acc: 0.9713004484304932 \n",
            "Epoch : 10 ; Loss: 0.09093395620584488 ; Train_Acc: 0.9435286437081769 ; Val_Acc: 0.9650224215246637 \n",
            "Epoch : 11 ; Loss: 0.35091763734817505 ; Train_Acc: 0.8620858495185245 ; Val_Acc: 0.9605381165919282 \n",
            "Epoch : 12 ; Loss: 0.057247344404459 ; Train_Acc: 0.9285131385669986 ; Val_Acc: 0.9650224215246637 \n",
            "Epoch : 13 ; Loss: 0.3828364312648773 ; Train_Acc: 0.8991349763342582 ; Val_Acc: 0.9632286995515695 \n",
            "Epoch : 14 ; Loss: 0.15832142531871796 ; Train_Acc: 0.910396605190142 ; Val_Acc: 0.9659192825112107 \n",
            "Epoch : 15 ; Loss: 0.686336874961853 ; Train_Acc: 0.9117023012893749 ; Val_Acc: 0.9668161434977578 \n",
            "Epoch : 16 ; Loss: 0.14501987397670746 ; Train_Acc: 0.9352048310755672 ; Val_Acc: 0.9757847533632287 \n",
            "Epoch : 17 ; Loss: 0.18984833359718323 ; Train_Acc: 0.9448343398074098 ; Val_Acc: 0.9641255605381166 \n",
            "Epoch : 18 ; Loss: 0.08721508830785751 ; Train_Acc: 0.945160763832218 ; Val_Acc: 0.9695067264573991 \n",
            "Epoch : 19 ; Loss: 0.22102075815200806 ; Train_Acc: 0.9471193079810674 ; Val_Acc: 0.97847533632287 \n",
            "Epoch : 20 ; Loss: 0.2012520581483841 ; Train_Acc: 0.9438550677329851 ; Val_Acc: 0.9775784753363229 \n"
          ]
        },
        {
          "data": {
            "image/png": "[encoded data removed]",
            "text/plain": [
              "<Figure size 432x288 with 1 Axes>"
            ]
          },
          "metadata": {},
          "output_type": "display_data"
        },
        {
          "data": {
            "image/png": "[encoded data removed]",
            "text/plain": [
              "<Figure size 432x288 with 1 Axes>"
            ]
          },
          "metadata": {},
          "output_type": "display_data"
        }
      ],
      "source": [
        "train_net(model2 , train_iter1, val_iter1 , num_epochs = 20 , learning_rate = 1e-3) "
      ]
    },
    {
      "cell_type": "markdown",
      "metadata": {
        "id": "MpqZQ2AyzLSA"
      },
      "source": [
        "This model clearly performs poorer than the LTSM model with MaxPooling at the outer layer."
      ]
    },
    {
      "cell_type": "code",
      "execution_count": null,
      "metadata": {
        "id": "NcgM-rWXmW_c"
      },
      "outputs": [],
      "source": [
        "#Hyperparameter 3: increasing learning rate \n",
        "\n",
        "train_iter3 = torchtext.legacy.data.BucketIterator(train,\n",
        "                                           batch_size=32,\n",
        "                                           sort_key=lambda x: len(x.sms), # to minimize padding\n",
        "                                           sort_within_batch=True,        # sort within each batch\n",
        "                                           repeat=False)   \n",
        "\n",
        "val_iter3 = torchtext.legacy.data.BucketIterator(valid,\n",
        "                                           batch_size=32,\n",
        "                                           sort_key=lambda x: len(x.sms), # to minimize padding\n",
        "                                           sort_within_batch=True,        # sort within each batch\n",
        "                                           repeat=False)                  # repeat the iterator for many epochs"
      ]
    },
    {
      "cell_type": "code",
      "execution_count": null,
      "metadata": {
        "id": "sI816b75qMsj"
      },
      "outputs": [],
      "source": [
        "model3 = LSTM(len(text_field.vocab.stoi),50,2)"
      ]
    },
    {
      "cell_type": "code",
      "execution_count": null,
      "metadata": {
        "colab": {
          "base_uri": "https://localhost:8080/",
          "height": 1000
        },
        "id": "UhD8UKyTmfL3",
        "outputId": "5120433b-e15f-41a0-e149-16574af4c76e"
      },
      "outputs": [
        {
          "output_type": "stream",
          "name": "stdout",
          "text": [
            "Epoch : 1 ; Loss: 0.14189513027668 ; Train_Acc: 0.9588902047030959 ; Val_Acc: 0.9587443946188341 \n",
            "Epoch : 2 ; Loss: 0.07362302392721176 ; Train_Acc: 0.9835899171037049 ; Val_Acc: 0.9695067264573991 \n",
            "Epoch : 3 ; Loss: 0.06461400538682938 ; Train_Acc: 0.9934021316190154 ; Val_Acc: 0.979372197309417 \n",
            "Epoch : 4 ; Loss: 0.02325693890452385 ; Train_Acc: 0.9939096599560142 ; Val_Acc: 0.979372197309417 \n",
            "Epoch : 5 ; Loss: 0.002581594279035926 ; Train_Acc: 0.9964473016410083 ; Val_Acc: 0.9748878923766816 \n",
            "Epoch : 6 ; Loss: 0.008887594565749168 ; Train_Acc: 0.9993232955506682 ; Val_Acc: 0.9838565022421525 \n",
            "Epoch : 7 ; Loss: 0.011543432250618935 ; Train_Acc: 0.9881576721366943 ; Val_Acc: 0.9748878923766816 \n",
            "Epoch : 8 ; Loss: 0.027976907789707184 ; Train_Acc: 0.9996616477753342 ; Val_Acc: 0.9820627802690582 \n",
            "Epoch : 9 ; Loss: 0.001873898203484714 ; Train_Acc: 1.0 ; Val_Acc: 0.9820627802690582 \n",
            "Epoch : 10 ; Loss: 0.0006590744596906006 ; Train_Acc: 1.0 ; Val_Acc: 0.9820627802690582 \n",
            "Epoch : 11 ; Loss: 0.00023067907022777945 ; Train_Acc: 1.0 ; Val_Acc: 0.9829596412556054 \n",
            "Epoch : 12 ; Loss: 0.00044659231207333505 ; Train_Acc: 1.0 ; Val_Acc: 0.9820627802690582 \n",
            "Epoch : 13 ; Loss: 0.00023482064716517925 ; Train_Acc: 1.0 ; Val_Acc: 0.9820627802690582 \n",
            "Epoch : 14 ; Loss: 9.578722529113293e-05 ; Train_Acc: 1.0 ; Val_Acc: 0.9820627802690582 \n",
            "Epoch : 15 ; Loss: 3.5086326533928514e-05 ; Train_Acc: 1.0 ; Val_Acc: 0.9811659192825112 \n",
            "Epoch : 16 ; Loss: 2.3326432710746303e-05 ; Train_Acc: 1.0 ; Val_Acc: 0.9820627802690582 \n",
            "Epoch : 17 ; Loss: 1.0013207429437898e-05 ; Train_Acc: 1.0 ; Val_Acc: 0.9802690582959641 \n",
            "Epoch : 18 ; Loss: 1.5705132682342082e-05 ; Train_Acc: 1.0 ; Val_Acc: 0.9811659192825112 \n",
            "Epoch : 19 ; Loss: 4.8958303523249924e-05 ; Train_Acc: 1.0 ; Val_Acc: 0.9802690582959641 \n",
            "Epoch : 20 ; Loss: 1.2695275472651701e-05 ; Train_Acc: 1.0 ; Val_Acc: 0.979372197309417 \n"
          ]
        },
        {
          "output_type": "display_data",
          "data": {
            "text/plain": [
              "<Figure size 640x480 with 1 Axes>"
            ],
            "image/png": "[encoded data removed]"
          },
          "metadata": {}
        },
        {
          "output_type": "display_data",
          "data": {
            "text/plain": [
              "<Figure size 640x480 with 1 Axes>"
            ],
            "image/png": "[encoded data removed]"
          },
          "metadata": {}
        }
      ],
      "source": [
        "train_net(model3 , train_iter3, val_iter3 , num_epochs = 20 , learning_rate = 1e-2)"
      ]
    },
    {
      "cell_type": "code",
      "execution_count": null,
      "metadata": {
        "id": "8553ThsRmmyh"
      },
      "outputs": [],
      "source": [
        "#Hyperparamter 4: Network Architecture (RNN not LTSM)\n",
        "\n",
        "class RNN_Network(nn.Module):\n",
        "  def  __init__(self, input_size, hidden_size, num_class):\n",
        "    super(RNN_Network, self).__init__()\n",
        "  \n",
        "    self.emb = encoding_embedding\n",
        "    self.hidden_size = hidden_size\n",
        "    self.rnn = nn.RNN(input_size, hidden_size, batch_first=True)\n",
        "    self.fc = nn.Linear(hidden_size, num_class)\n",
        "\n",
        "  def forward(self , x):\n",
        "    x = self.emb(x)\n",
        "    h0 = torch.zeros(1, x.size(0), self.hidden_size)\n",
        "    out, __ = self.rnn(x, h0)\n",
        "    \n",
        "    out = self.fc(torch.max(out, dim=1)[0])\n",
        "\n",
        "    return out\n"
      ]
    },
    {
      "cell_type": "code",
      "execution_count": null,
      "metadata": {
        "id": "rLkCy_U3nrtm"
      },
      "outputs": [],
      "source": [
        "model4 = RNN_Network(len(text_field.vocab.stoi),50,2)"
      ]
    },
    {
      "cell_type": "code",
      "execution_count": null,
      "metadata": {
        "colab": {
          "base_uri": "https://localhost:8080/",
          "height": 920
        },
        "id": "N5gTuCfEnoxB",
        "outputId": "49b9edd8-3f17-4fb2-ed7d-b7441bcefebc"
      },
      "outputs": [
        {
          "name": "stdout",
          "output_type": "stream",
          "text": [
            "Epoch : 1 ; Loss: 0.030263634398579597 ; Train_Acc: 0.9676840215439856 ; Val_Acc: 0.968609865470852 \n",
            "Epoch : 2 ; Loss: 0.03811601549386978 ; Train_Acc: 0.970948261792068 ; Val_Acc: 0.9775784753363229 \n",
            "Epoch : 3 ; Loss: 0.014181544072926044 ; Train_Acc: 0.9720907458788967 ; Val_Acc: 0.9820627802690582 \n",
            "Epoch : 4 ; Loss: 0.028280427679419518 ; Train_Acc: 0.9893912191937326 ; Val_Acc: 0.9713004484304932 \n",
            "Epoch : 5 ; Loss: 0.009872975759208202 ; Train_Acc: 0.9278602905173821 ; Val_Acc: 0.967713004484305 \n",
            "Epoch : 6 ; Loss: 0.09916245937347412 ; Train_Acc: 0.9487514281051085 ; Val_Acc: 0.9551569506726457 \n",
            "Epoch : 7 ; Loss: 0.20643843710422516 ; Train_Acc: 0.9355312551003754 ; Val_Acc: 0.9103139013452914 \n",
            "Epoch : 8 ; Loss: 0.16636158525943756 ; Train_Acc: 0.8780806267341277 ; Val_Acc: 0.7551569506726458 \n",
            "Epoch : 9 ; Loss: 0.026433158665895462 ; Train_Acc: 0.9585441488493553 ; Val_Acc: 0.9434977578475336 \n",
            "Epoch : 10 ; Loss: 0.2711670994758606 ; Train_Acc: 0.9440182797453892 ; Val_Acc: 0.9434977578475336 \n",
            "Epoch : 11 ; Loss: 0.11656633019447327 ; Train_Acc: 0.9588705728741636 ; Val_Acc: 0.9408071748878923 \n",
            "Epoch : 12 ; Loss: 0.04184259846806526 ; Train_Acc: 0.9569120287253142 ; Val_Acc: 0.9721973094170404 \n",
            "Epoch : 13 ; Loss: 0.12649978697299957 ; Train_Acc: 0.9673575975191774 ; Val_Acc: 0.9515695067264573 \n",
            "Epoch : 14 ; Loss: 0.3512275815010071 ; Train_Acc: 0.9596866329361841 ; Val_Acc: 0.9363228699551569 \n",
            "Epoch : 15 ; Loss: 0.004945722408592701 ; Train_Acc: 0.9678472335563898 ; Val_Acc: 0.9668161434977578 \n",
            "Epoch : 16 ; Loss: 0.012004241347312927 ; Train_Acc: 0.9763342582014036 ; Val_Acc: 0.95695067264574 \n",
            "Epoch : 17 ; Loss: 0.019559871405363083 ; Train_Acc: 0.986943039007671 ; Val_Acc: 0.9704035874439462 \n",
            "Epoch : 18 ; Loss: 0.04140516743063927 ; Train_Acc: 0.9820466786355476 ; Val_Acc: 0.9730941704035875 \n",
            "Epoch : 19 ; Loss: 0.1261269748210907 ; Train_Acc: 0.9614819650726294 ; Val_Acc: 0.9246636771300448 \n",
            "Epoch : 20 ; Loss: 0.010328752920031548 ; Train_Acc: 0.9751917741145748 ; Val_Acc: 0.9766816143497757 \n"
          ]
        },
        {
          "data": {
            "image/png": "[encoded data removed]",
            "text/plain": [
              "<Figure size 432x288 with 1 Axes>"
            ]
          },
          "metadata": {},
          "output_type": "display_data"
        },
        {
          "data": {
            "image/png": "[encoded data removed]",
            "text/plain": [
              "<Figure size 432x288 with 1 Axes>"
            ]
          },
          "metadata": {},
          "output_type": "display_data"
        }
      ],
      "source": [
        "train_net(model4 , train_iter3, val_iter3 , num_epochs = 20 , learning_rate = 1e-2)"
      ]
    },
    {
      "cell_type": "code",
      "execution_count": null,
      "metadata": {
        "id": "e0Sjmoryo5fe"
      },
      "outputs": [],
      "source": [
        "#Hyperparameter 5: Network Architecture : GRUs\n",
        "\n",
        "class GRU_Network(nn.Module):\n",
        "  def  __init__(self, input_size, hidden_size, num_class):\n",
        "    super(GRU_Network, self).__init__()\n",
        "\n",
        "    self.emb = encoding_embedding\n",
        "    self.hidden_size = hidden_size\n",
        "    self.rnn = nn.GRU(input_size, hidden_size, batch_first=True)\n",
        "    self.fc = nn.Linear(hidden_size, num_class)\n",
        "\n",
        "  def forward(self , x):\n",
        "    x = self.emb(x)\n",
        "    h0 = torch.zeros(1, x.size(0), self.hidden_size)\n",
        "    out, __ = self.rnn(x, h0)\n",
        "    \n",
        "    out = self.fc(torch.max(out, dim=1)[0])\n",
        "\n",
        "    return out\n"
      ]
    },
    {
      "cell_type": "code",
      "execution_count": null,
      "metadata": {
        "id": "Scjz-NoppsQo"
      },
      "outputs": [],
      "source": [
        "model5 = GRU_Network(len(text_field.vocab.stoi),50,2)"
      ]
    },
    {
      "cell_type": "code",
      "execution_count": null,
      "metadata": {
        "colab": {
          "base_uri": "https://localhost:8080/",
          "height": 920
        },
        "id": "bUMFWzchp1NW",
        "outputId": "041e4c13-68b2-4cd9-cbaa-971c41bc1c5c"
      },
      "outputs": [
        {
          "name": "stdout",
          "output_type": "stream",
          "text": [
            "Epoch : 1 ; Loss: 0.24545276165008545 ; Train_Acc: 0.9304716827158479 ; Val_Acc: 0.9766816143497757 \n",
            "Epoch : 2 ; Loss: 0.1504577100276947 ; Train_Acc: 0.9467928839562592 ; Val_Acc: 0.9713004484304932 \n",
            "Epoch : 3 ; Loss: 0.020314479246735573 ; Train_Acc: 0.9601762689733965 ; Val_Acc: 0.95695067264574 \n",
            "Epoch : 4 ; Loss: 0.029984720051288605 ; Train_Acc: 0.9634405092214787 ; Val_Acc: 0.9623318385650225 \n",
            "Epoch : 5 ; Loss: 0.11110305041074753 ; Train_Acc: 0.9671943855067733 ; Val_Acc: 0.9623318385650225 \n",
            "Epoch : 6 ; Loss: 0.0535249188542366 ; Train_Acc: 0.9693161416680268 ; Val_Acc: 0.9614349775784753 \n",
            "Epoch : 7 ; Loss: 0.019490353763103485 ; Train_Acc: 0.9706218377672596 ; Val_Acc: 0.9659192825112107 \n",
            "Epoch : 8 ; Loss: 0.04401906952261925 ; Train_Acc: 0.971111473804472 ; Val_Acc: 0.95695067264574 \n",
            "Epoch : 9 ; Loss: 0.11114783585071564 ; Train_Acc: 0.9764974702138077 ; Val_Acc: 0.9730941704035875 \n",
            "Epoch : 10 ; Loss: 0.051219746470451355 ; Train_Acc: 0.9716011098416844 ; Val_Acc: 0.9488789237668162 \n",
            "Epoch : 11 ; Loss: 0.27575919032096863 ; Train_Acc: 0.9778031663130407 ; Val_Acc: 0.9748878923766816 \n",
            "Epoch : 12 ; Loss: 0.06298184394836426 ; Train_Acc: 0.9774767422882324 ; Val_Acc: 0.9533632286995516 \n",
            "Epoch : 13 ; Loss: 0.009258225560188293 ; Train_Acc: 0.9853109188836299 ; Val_Acc: 0.967713004484305 \n",
            "Epoch : 14 ; Loss: 0.01457618735730648 ; Train_Acc: 0.988411947119308 ; Val_Acc: 0.9721973094170404 \n",
            "Epoch : 15 ; Loss: 0.004261991009116173 ; Train_Acc: 0.984168434796801 ; Val_Acc: 0.9739910313901345 \n",
            "Epoch : 16 ; Loss: 0.1281013935804367 ; Train_Acc: 0.9864534029704586 ; Val_Acc: 0.9739910313901345 \n",
            "Epoch : 17 ; Loss: 0.0015133669367060065 ; Train_Acc: 0.9897176432185408 ; Val_Acc: 0.9650224215246637 \n",
            "Epoch : 18 ; Loss: 0.060454145073890686 ; Train_Acc: 0.9931450954790273 ; Val_Acc: 0.9739910313901345 \n",
            "Epoch : 19 ; Loss: 0.03616278991103172 ; Train_Acc: 0.9897176432185408 ; Val_Acc: 0.9757847533632287 \n",
            "Epoch : 20 ; Loss: 0.13663730025291443 ; Train_Acc: 0.9939611555410478 ; Val_Acc: 0.9730941704035875 \n"
          ]
        },
        {
          "data": {
            "image/png": "[encoded data removed]",
            "text/plain": [
              "<Figure size 432x288 with 1 Axes>"
            ]
          },
          "metadata": {},
          "output_type": "display_data"
        },
        {
          "data": {
            "image/png": "[encoded data removed]",
            "text/plain": [
              "<Figure size 432x288 with 1 Axes>"
            ]
          },
          "metadata": {},
          "output_type": "display_data"
        }
      ],
      "source": [
        "train_net(model5 , train_iter1 , val_iter1, num_epochs = 20 , learning_rate = 1e-3)"
      ]
    },
    {
      "cell_type": "markdown",
      "metadata": {
        "id": "v7DY56rKa91I"
      },
      "source": [
        "### Part A.3.d - [1 pt]\n",
        "\n",
        "Before we deploy a machine learning model, we usually want to have a better understanding\n",
        "of how our model performs beyond its validation accuracy. An important metric to track is\n",
        "*how well our model performs in certain subsets of the data*.\n",
        "\n",
        "In particular, what is the model's error rate amongst data with negative labels?\n",
        "This is called the **false positive rate**.\n",
        "\n",
        "What about the model's error rate amongst data with positive labels?\n",
        "This is called the **false negative rate**.\n",
        "\n",
        "Report your final model's false positive and false negative rate across the\n",
        "validation set."
      ]
    },
    {
      "cell_type": "code",
      "execution_count": null,
      "metadata": {
        "id": "7ggbQSdba91J"
      },
      "outputs": [],
      "source": [
        "# Create a Dataset of only spam validation examples\n",
        "valid_spam = torchtext.legacy.data.Dataset(\n",
        "    [e for e in valid.examples if e.label == 1],\n",
        "    valid.fields)\n",
        "# Create a Dataset of only non-spam validation examples\n",
        "valid_nospam = torchtext.legacy.data.Dataset([t for t in valid.examples if t.label==0],\n",
        "                                             valid.fields)"
      ]
    },
    {
      "cell_type": "code",
      "execution_count": null,
      "metadata": {
        "id": "qa51Mtu9ttob"
      },
      "outputs": [],
      "source": [
        "valid_spam_iter = torchtext.legacy.data.BucketIterator(valid_spam,\n",
        "                                           batch_size=32,\n",
        "                                           sort_key=lambda x: len(x.sms), # to minimize padding\n",
        "                                           sort_within_batch=True,        # sort within each batch\n",
        "                                           repeat=False)                  # repeat the iterator for many ep"
      ]
    },
    {
      "cell_type": "code",
      "execution_count": null,
      "metadata": {
        "id": "UGHq6bBCuLwu"
      },
      "outputs": [],
      "source": [
        "# pick the best model and test it for flase positive and false negative outputs. "
      ]
    },
    {
      "cell_type": "code",
      "execution_count": null,
      "metadata": {
        "colab": {
          "base_uri": "https://localhost:8080/"
        },
        "id": "z_89fk53t19A",
        "outputId": "1b231f59-73d4-4cbf-a85b-631696145b4e"
      },
      "outputs": [
        {
          "name": "stdout",
          "output_type": "stream",
          "text": [
            "The rate of false negative is:   0.0888888888888889\n"
          ]
        }
      ],
      "source": [
        "net_acc_pos = get_accuracy(model3 , valid_spam_iter)\n",
        "print(\"The rate of false negative is:  \" , 1-net_acc_pos)"
      ]
    },
    {
      "cell_type": "code",
      "execution_count": null,
      "metadata": {
        "id": "q2FdfAnZunS3"
      },
      "outputs": [],
      "source": [
        "valid_nospam_iter = torchtext.legacy.data.BucketIterator(valid_nospam,\n",
        "                                           batch_size=32,\n",
        "                                           sort_key=lambda x: len(x.sms), # to minimize padding\n",
        "                                           sort_within_batch=True,        # sort within each batch\n",
        "                                           repeat=False)  "
      ]
    },
    {
      "cell_type": "code",
      "execution_count": null,
      "metadata": {
        "colab": {
          "base_uri": "https://localhost:8080/"
        },
        "id": "WqxpiNQzuq5S",
        "outputId": "cc25b207-2a88-4b53-811f-e3b9741950b1"
      },
      "outputs": [
        {
          "name": "stdout",
          "output_type": "stream",
          "text": [
            "The rate of false positive is:   0.004081632653061273\n"
          ]
        }
      ],
      "source": [
        "net_acc_neg = get_accuracy(model3  , valid_nospam_iter)\n",
        "print(\"The rate of false positive is:  \" , 1-net_acc_neg)"
      ]
    },
    {
      "cell_type": "markdown",
      "metadata": {
        "id": "N1iRteb3a91O"
      },
      "source": [
        "### Part A.3.e - [1 pt]\n",
        "\n",
        "The impact of a false positive vs a false negative can be drastically different.\n",
        "If our spam detection algorithm was deployed on your phone, what is the impact\n",
        "of a false positive on the phone's user? What is the impact of a false negative?"
      ]
    },
    {
      "cell_type": "code",
      "execution_count": null,
      "metadata": {
        "id": "hFLUOJTGa91Q"
      },
      "outputs": [],
      "source": [
        "# A false positive can lead the user to miss on some important information that requires his attention, lets say a medical appointment. \n",
        "# A false negative on the other hand can lead to severe consequences such as the submission of bank information or some other sort of private data "
      ]
    },
    {
      "cell_type": "markdown",
      "metadata": {
        "id": "Gznefulsa91V"
      },
      "source": [
        "## Part A.4. Evaluation - [10 pt]\n",
        "\n",
        "### Part A.4.a - [1 pt]\n",
        "\n",
        "Report the final test accuracy of your model."
      ]
    },
    {
      "cell_type": "code",
      "execution_count": null,
      "metadata": {
        "id": "D5L5D-A1a91W"
      },
      "outputs": [],
      "source": [
        "# Create a Dataset of only spam validation examples\n",
        "test_spam = torchtext.legacy.data.Dataset(\n",
        "    [e for e in test.examples if e.label == 1],\n",
        "    test.fields)\n",
        "# Create a Dataset of only non-spam validation examples\n",
        "test_nospam = torchtext.legacy.data.Dataset([t for t in test.examples if t.label==0],\n",
        "                                             test.fields)"
      ]
    },
    {
      "cell_type": "markdown",
      "metadata": {
        "id": "6Hjmd8rca91Y"
      },
      "source": [
        "### Part A.4.b - [1 pt]\n",
        "\n",
        "Report the false positive rate and false negative rate of your model across the test set."
      ]
    },
    {
      "cell_type": "code",
      "execution_count": null,
      "metadata": {
        "id": "GFiAKztJa91Z"
      },
      "outputs": [],
      "source": [
        "test_spam_iter = torchtext.legacy.data.BucketIterator(test_spam,\n",
        "                                           batch_size=32,\n",
        "                                           sort_key=lambda x: len(x.sms), # to minimize padding\n",
        "                                           sort_within_batch=True,        # sort within each batch\n",
        "                                           repeat=False)                  # repeat the iterator for many ep\n",
        "\n",
        "test_nospam_iter = torchtext.legacy.data.BucketIterator(test_nospam,\n",
        "                                           batch_size=32,\n",
        "                                           sort_key=lambda x: len(x.sms), # to minimize padding\n",
        "                                           sort_within_batch=True,        # sort within each batch\n",
        "                                           repeat=False)  "
      ]
    },
    {
      "cell_type": "code",
      "execution_count": null,
      "metadata": {
        "colab": {
          "base_uri": "https://localhost:8080/"
        },
        "id": "oqTliCbs3UeS",
        "outputId": "bec3fa9b-e4a0-46be-e214-a8c4532daa41"
      },
      "outputs": [
        {
          "name": "stdout",
          "output_type": "stream",
          "text": [
            "The rate of false negative is:   0.08783783783783783\n"
          ]
        }
      ],
      "source": [
        "net_acc_pos = get_accuracy(model3  , test_spam_iter)\n",
        "print(\"The rate of false negative is:  \" , 1-net_acc_pos)\n"
      ]
    },
    {
      "cell_type": "code",
      "execution_count": null,
      "metadata": {
        "colab": {
          "base_uri": "https://localhost:8080/"
        },
        "id": "QHtg5Tg13WcV",
        "outputId": "327b3766-e8c8-4285-f327-2f02b83d1b45"
      },
      "outputs": [
        {
          "name": "stdout",
          "output_type": "stream",
          "text": [
            "The rate of false positive is:   0.0041407867494823725\n"
          ]
        }
      ],
      "source": [
        "net_acc_neg = get_accuracy(model3  , test_nospam_iter)\n",
        "print(\"The rate of false positive is:  \" , 1-net_acc_neg)"
      ]
    },
    {
      "cell_type": "markdown",
      "metadata": {
        "id": "0jGHtQFpa91b"
      },
      "source": [
        "### Part A.4.c - [3 pt]\n",
        "\n",
        "What is your model's prediction of the **probability** that\n",
        "the SMS message \"machine learning is sooo cool!\" is spam?\n",
        "\n",
        "Hint: To begin, use `text_field.vocab.stoi` to look up the index\n",
        "of each character in the vocabulary."
      ]
    },
    {
      "cell_type": "code",
      "execution_count": null,
      "metadata": {
        "id": "h_2nSJq8a91b"
      },
      "outputs": [],
      "source": [
        "import math\n",
        "msg = \"machine learning is sooo cool!\""
      ]
    },
    {
      "cell_type": "code",
      "execution_count": null,
      "metadata": {
        "colab": {
          "base_uri": "https://localhost:8080/"
        },
        "id": "dmYDrqAr2YrW",
        "outputId": "91751173-f4a3-4ac4-bd6f-60c26bbac358"
      },
      "outputs": [
        {
          "name": "stdout",
          "output_type": "stream",
          "text": [
            "The model prediction that the message is a spam is:  0.013088462721212765\n"
          ]
        }
      ],
      "source": [
        "new_msg =[]\n",
        "for i in enumerate(msg):\n",
        "  new_msg. append(text_field.vocab.stoi[i[1]])\n",
        "\n",
        "new_msg = torch.tensor(new_msg).unsqueeze(0)\n",
        "\n",
        "proba = model3(new_msg)\n",
        "sigmoid=1/(1+math.exp(-(proba[0][1].item())))\n",
        "\n",
        "print(\"The model prediction that the message is a spam is: \", sigmoid)\n",
        "\n",
        "\n",
        "  \n"
      ]
    },
    {
      "cell_type": "markdown",
      "metadata": {
        "id": "QD1zgYJpa91f"
      },
      "source": [
        "### Part A.4.d - [2 pt]\n",
        "\n",
        "Do you think detecting spam is an easy or difficult task?\n",
        "\n",
        "Since machine learning models are expensive to train and deploy, it is very\n",
        "important to compare our models against baseline models: a simple\n",
        "model that is easy to build and inexpensive to run that we can compare our\n",
        "recurrent neural network model against.\n",
        "\n",
        "Explain how you might build a simple baseline model. This baseline model\n",
        "can be a simple neural network (with very few weights), a hand-written algorithm,\n",
        "or any other strategy that is easy to build and test.\n",
        "\n",
        "**Do not actually build a baseline model. Instead, provide instructions on\n",
        "how to build it.**"
      ]
    },
    {
      "cell_type": "markdown",
      "metadata": {
        "id": "1ff-4rPiAGkN"
      },
      "source": [
        "I think detecting spam is a difficult task because spams are becoming progrssively harder to differentiate from non-spam messages as spammer or bots sending spam messages are getting better with time. \n",
        "\n",
        "As we are facing a binary classification problem one can argue to use linear regression or other machine learning alogirhtms such as SVM. If the problem at hand was a multi-class classification problem, then we can use other approaches such as K-closest neighbours etc... \n",
        "\n",
        "SVM has proven to be efficient in classification, therefore I think it would be a simple and cheap machine learning model that could be used as a baseline performance comparison. Steps to build this model are the following:\n",
        "\n",
        "1 - Data Preparation: Split the data into training, validation and testing with the data being correctly categorized as ham/spam messages.\n",
        "\n",
        "2 - Encode the data using OneHotEncoding , Word2Vec or CountVectorizer.\n",
        "\n",
        "3 - Use Sklearn to perform the classification task and find the optimal hyperplane that seperates spam from non spam messages. \n",
        "\n",
        "\n",
        "\n"
      ]
    },
    {
      "cell_type": "markdown",
      "metadata": {
        "id": "oZPSBp_amDZX"
      },
      "source": [
        "### Part A.4.e - [3 pt]\n",
        "\n",
        "Try using a learning rate scheduler, such as a step learning rate scheduler or cosine annealing learning rate scheduler. Compare the performance of models with and without learning rate scheduling and discuss any differences observed in terms of accuracy and convergence speed."
      ]
    },
    {
      "cell_type": "code",
      "execution_count": null,
      "metadata": {
        "id": "dKmLlxlmmDZY"
      },
      "outputs": [],
      "source": [
        "from torch.optim.lr_scheduler import StepLR"
      ]
    },
    {
      "cell_type": "code",
      "execution_count": null,
      "metadata": {
        "id": "9tdXcRSFEo3R"
      },
      "outputs": [],
      "source": [
        "def step_decay(epoch , initial_lr= 0.1 , drop_rate = 0.5 , epochs_drop = 5 ):\n",
        "  lr = initial_lr * drop_rate ** (epoch // epochs_drop)\n",
        "  return lr"
      ]
    },
    {
      "cell_type": "code",
      "execution_count": null,
      "metadata": {
        "id": "1E2mrymfJH83"
      },
      "outputs": [],
      "source": [
        "model_lr_scheduling = LSTM(len(text_field.vocab.stoi),50,2)"
      ]
    },
    {
      "cell_type": "code",
      "execution_count": null,
      "metadata": {
        "id": "2cXHq_vbFJzS"
      },
      "outputs": [],
      "source": [
        "# Modified training loop (i.e., addition of step_decay function)\n",
        "\n",
        "def train_net_lr_sheduling(model,train,valid, num_epochs = 20):\n",
        "  optimizer = torch.optim.Adam(model.parameters() , lr = 0.1)\n",
        "\n",
        "  lr_scheduler = StepLR(optimizer, step_size=5, gamma=0.5, verbose=True)\n",
        "  criterion = nn.CrossEntropyLoss()\n",
        "  losses , train_accuracy, valid_accuracy = [],[],[]\n",
        "  epochs =[]\n",
        "            \n",
        "\n",
        "  for epoch in range(num_epochs):\n",
        "    for batch in train:\n",
        "      optimizer.zero_grad()\n",
        "      prediction = model_lr_scheduling(batch.sms[0])\n",
        "      loss = criterion(prediction, batch.label)\n",
        "      loss.backward()\n",
        "      optimizer.step()\n",
        "    losses.append(float(loss))\n",
        "\n",
        "    epochs.append(epoch)\n",
        "    train_accuracy.append(get_accuracy(model , train))\n",
        "    valid_accuracy.append(get_accuracy(model, valid))\n",
        "    lr_scheduler.step()\n",
        "\n",
        "    print(\"Epoch : {} ; Loss: {} ; Train_Acc: {} ; Val_Acc: {} \".format(epoch+1, loss , \n",
        "                                                                        train_accuracy[-1] , valid_accuracy[-1]))\n",
        "\n",
        "  \n",
        "  plt.title(\"Training Curve\")\n",
        "  plt.plot(losses , label = \"Train\")\n",
        "  plt.xlabel('Epochs')\n",
        "  plt.ylabel(\"Loss\")\n",
        "  plt.show()\n",
        "\n",
        "\n",
        "  plt.title(\"Trainin Curve\")\n",
        "  plt.plot(epochs , train_accuracy , label = 'Train')\n",
        "  plt.plot(epochs, valid_accuracy , label = 'Validation')\n",
        "  plt.xlabel(\"Epochs\")\n",
        "  plt.ylabel(\"Accuracy\")\n",
        "  plt.legend(loc = 'best')\n",
        "  plt.show()"
      ]
    },
    {
      "cell_type": "code",
      "execution_count": null,
      "metadata": {
        "colab": {
          "base_uri": "https://localhost:8080/",
          "height": 1000
        },
        "id": "hPqlQKYZIMZC",
        "outputId": "28d19fd8-8565-494d-bba8-129e8a851731"
      },
      "outputs": [
        {
          "name": "stdout",
          "output_type": "stream",
          "text": [
            "Adjusting learning rate of group 0 to 1.0000e-01.\n",
            "Adjusting learning rate of group 0 to 1.0000e-01.\n",
            "Epoch : 1 ; Loss: 0.12768349051475525 ; Train_Acc: 0.9687867091793925 ; Val_Acc: 0.9551569506726457 \n",
            "Adjusting learning rate of group 0 to 1.0000e-01.\n",
            "Epoch : 2 ; Loss: 0.09691555052995682 ; Train_Acc: 0.9743245510991777 ; Val_Acc: 0.9434977578475336 \n",
            "Adjusting learning rate of group 0 to 1.0000e-01.\n",
            "Epoch : 3 ; Loss: 0.05921934172511101 ; Train_Acc: 0.9499916093304246 ; Val_Acc: 0.9013452914798207 \n",
            "Adjusting learning rate of group 0 to 1.0000e-01.\n",
            "Epoch : 4 ; Loss: 0.09892686456441879 ; Train_Acc: 0.9872461822453432 ; Val_Acc: 0.9713004484304932 \n",
            "Adjusting learning rate of group 0 to 5.0000e-02.\n",
            "Epoch : 5 ; Loss: 0.04308074712753296 ; Train_Acc: 0.9702970297029703 ; Val_Acc: 0.9668161434977578 \n",
            "Adjusting learning rate of group 0 to 5.0000e-02.\n",
            "Epoch : 6 ; Loss: 0.0370752327144146 ; Train_Acc: 0.96291324047659 ; Val_Acc: 0.967713004484305 \n",
            "Adjusting learning rate of group 0 to 5.0000e-02.\n",
            "Epoch : 7 ; Loss: 0.006665424909442663 ; Train_Acc: 0.9551938244671925 ; Val_Acc: 0.97847533632287 \n",
            "Adjusting learning rate of group 0 to 5.0000e-02.\n",
            "Epoch : 8 ; Loss: 0.0214396920055151 ; Train_Acc: 0.9879174358113777 ; Val_Acc: 0.9721973094170404 \n",
            "Adjusting learning rate of group 0 to 5.0000e-02.\n",
            "Epoch : 9 ; Loss: 0.1638990193605423 ; Train_Acc: 0.9775130055378419 ; Val_Acc: 0.9632286995515695 \n",
            "Adjusting learning rate of group 0 to 2.5000e-02.\n",
            "Epoch : 10 ; Loss: 0.12064001709222794 ; Train_Acc: 0.9828830340661184 ; Val_Acc: 0.9659192825112107 \n",
            "Adjusting learning rate of group 0 to 2.5000e-02.\n",
            "Epoch : 11 ; Loss: 0.007667006924748421 ; Train_Acc: 0.9895955697264641 ; Val_Acc: 0.9757847533632287 \n",
            "Adjusting learning rate of group 0 to 2.5000e-02.\n",
            "Epoch : 12 ; Loss: 0.0008947397582232952 ; Train_Acc: 0.995301225037758 ; Val_Acc: 0.9766816143497757 \n",
            "Adjusting learning rate of group 0 to 2.5000e-02.\n",
            "Epoch : 13 ; Loss: 0.21736368536949158 ; Train_Acc: 0.9947977848632321 ; Val_Acc: 0.97847533632287 \n",
            "Adjusting learning rate of group 0 to 2.5000e-02.\n",
            "Epoch : 14 ; Loss: 0.006575238425284624 ; Train_Acc: 0.998154052693405 ; Val_Acc: 0.9829596412556054 \n",
            "Adjusting learning rate of group 0 to 1.2500e-02.\n",
            "Epoch : 15 ; Loss: 0.010903259739279747 ; Train_Acc: 0.9969793589528444 ; Val_Acc: 0.9811659192825112 \n",
            "Adjusting learning rate of group 0 to 1.2500e-02.\n",
            "Epoch : 16 ; Loss: 0.00091763079399243 ; Train_Acc: 0.9989931196509482 ; Val_Acc: 0.9820627802690582 \n",
            "Adjusting learning rate of group 0 to 1.2500e-02.\n",
            "Epoch : 17 ; Loss: 4.8267680540448055e-05 ; Train_Acc: 0.9991609330424568 ; Val_Acc: 0.9829596412556054 \n",
            "Adjusting learning rate of group 0 to 1.2500e-02.\n",
            "Epoch : 18 ; Loss: 0.08631373941898346 ; Train_Acc: 0.9989931196509482 ; Val_Acc: 0.9838565022421525 \n",
            "Adjusting learning rate of group 0 to 1.2500e-02.\n",
            "Epoch : 19 ; Loss: 0.0032525178976356983 ; Train_Acc: 1.0 ; Val_Acc: 0.9829596412556054 \n",
            "Adjusting learning rate of group 0 to 6.2500e-03.\n",
            "Epoch : 20 ; Loss: 0.0069642867892980576 ; Train_Acc: 0.9996643732169828 ; Val_Acc: 0.9838565022421525 \n"
          ]
        },
        {
          "data": {
            "image/png": "[encoded data removed]",
            "text/plain": [
              "<Figure size 432x288 with 1 Axes>"
            ]
          },
          "metadata": {},
          "output_type": "display_data"
        },
        {
          "data": {
            "image/png": "[encoded data removed]",
            "text/plain": [
              "<Figure size 432x288 with 1 Axes>"
            ]
          },
          "metadata": {},
          "output_type": "display_data"
        }
      ],
      "source": [
        "train_net_lr_sheduling(model_lr_scheduling , train_iter3 , val_iter3,num_epochs = 20)"
      ]
    },
    {
      "cell_type": "markdown",
      "metadata": {
        "id": "zIR3Q5l0v1HP"
      },
      "source": [
        "# PART B - Transfer Learning [24 pt]\n",
        "\n",
        "In this part we will compare our earlier model with one that takes advantage of a generative RNN model to improve the prediction. There are several ways to implement transfer learning with RNNs, here we will use an approach known as ULMFiT developed by fastai. Rather than rebuilding the model from scratch, we will take advantage of the fastai library.\n",
        "\n",
        "Provided below is some helper code to get you started.\n",
        "\n",
        "#### Helper Code"
      ]
    },
    {
      "cell_type": "code",
      "execution_count": null,
      "metadata": {
        "colab": {
          "base_uri": "https://localhost:8080/"
        },
        "id": "5R-_BQyiAMoo",
        "outputId": "37d4767f-671d-489f-b0f7-5aefc73f3d44"
      },
      "outputs": [
        {
          "output_type": "stream",
          "name": "stdout",
          "text": [
            "Looking in indexes: https://pypi.org/simple, https://us-python.pkg.dev/colab-wheels/public/simple/\n",
            "Requirement already satisfied: fastai in /usr/local/lib/python3.9/dist-packages (2.7.12)\n",
            "Requirement already satisfied: fastprogress>=0.2.4 in /usr/local/lib/python3.9/dist-packages (from fastai) (1.0.3)\n",
            "Requirement already satisfied: pandas in /usr/local/lib/python3.9/dist-packages (from fastai) (1.4.4)\n",
            "Requirement already satisfied: fastdownload<2,>=0.0.5 in /usr/local/lib/python3.9/dist-packages (from fastai) (0.0.7)\n",
            "Requirement already satisfied: torch<2.1,>=1.7 in /usr/local/lib/python3.9/dist-packages (from fastai) (1.8.0)\n",
            "Requirement already satisfied: torchvision>=0.8.2 in /usr/local/lib/python3.9/dist-packages (from fastai) (0.14.1+cu116)\n",
            "Requirement already satisfied: pillow>6.0.0 in /usr/local/lib/python3.9/dist-packages (from fastai) (8.4.0)\n",
            "Requirement already satisfied: scipy in /usr/local/lib/python3.9/dist-packages (from fastai) (1.10.1)\n",
            "Requirement already satisfied: spacy<4 in /usr/local/lib/python3.9/dist-packages (from fastai) (3.5.1)\n",
            "Requirement already satisfied: pip in /usr/local/lib/python3.9/dist-packages (from fastai) (22.0.4)\n",
            "Requirement already satisfied: packaging in /usr/local/lib/python3.9/dist-packages (from fastai) (23.0)\n",
            "Requirement already satisfied: requests in /usr/local/lib/python3.9/dist-packages (from fastai) (2.27.1)\n",
            "Requirement already satisfied: fastcore<1.6,>=1.5.29 in /usr/local/lib/python3.9/dist-packages (from fastai) (1.5.29)\n",
            "Requirement already satisfied: pyyaml in /usr/local/lib/python3.9/dist-packages (from fastai) (6.0)\n",
            "Requirement already satisfied: scikit-learn in /usr/local/lib/python3.9/dist-packages (from fastai) (1.2.2)\n",
            "Requirement already satisfied: matplotlib in /usr/local/lib/python3.9/dist-packages (from fastai) (3.7.1)\n",
            "Requirement already satisfied: pydantic!=1.8,!=1.8.1,<1.11.0,>=1.7.4 in /usr/local/lib/python3.9/dist-packages (from spacy<4->fastai) (1.10.7)\n",
            "Requirement already satisfied: setuptools in /usr/local/lib/python3.9/dist-packages (from spacy<4->fastai) (67.6.1)\n",
            "Requirement already satisfied: smart-open<7.0.0,>=5.2.1 in /usr/local/lib/python3.9/dist-packages (from spacy<4->fastai) (6.3.0)\n",
            "Requirement already satisfied: pathy>=0.10.0 in /usr/local/lib/python3.9/dist-packages (from spacy<4->fastai) (0.10.1)\n",
            "Requirement already satisfied: cymem<2.1.0,>=2.0.2 in /usr/local/lib/python3.9/dist-packages (from spacy<4->fastai) (2.0.7)\n",
            "Requirement already satisfied: tqdm<5.0.0,>=4.38.0 in /usr/local/lib/python3.9/dist-packages (from spacy<4->fastai) (4.65.0)\n",
            "Requirement already satisfied: spacy-loggers<2.0.0,>=1.0.0 in /usr/local/lib/python3.9/dist-packages (from spacy<4->fastai) (1.0.4)\n",
            "Requirement already satisfied: wasabi<1.2.0,>=0.9.1 in /usr/local/lib/python3.9/dist-packages (from spacy<4->fastai) (1.1.1)\n",
            "Requirement already satisfied: catalogue<2.1.0,>=2.0.6 in /usr/local/lib/python3.9/dist-packages (from spacy<4->fastai) (2.0.8)\n",
            "Requirement already satisfied: langcodes<4.0.0,>=3.2.0 in /usr/local/lib/python3.9/dist-packages (from spacy<4->fastai) (3.3.0)\n",
            "Requirement already satisfied: srsly<3.0.0,>=2.4.3 in /usr/local/lib/python3.9/dist-packages (from spacy<4->fastai) (2.4.6)\n",
            "Requirement already satisfied: murmurhash<1.1.0,>=0.28.0 in /usr/local/lib/python3.9/dist-packages (from spacy<4->fastai) (1.0.9)\n",
            "Requirement already satisfied: jinja2 in /usr/local/lib/python3.9/dist-packages (from spacy<4->fastai) (3.1.2)\n",
            "Requirement already satisfied: numpy>=1.15.0 in /usr/local/lib/python3.9/dist-packages (from spacy<4->fastai) (1.22.4)\n",
            "Requirement already satisfied: preshed<3.1.0,>=3.0.2 in /usr/local/lib/python3.9/dist-packages (from spacy<4->fastai) (3.0.8)\n",
            "Requirement already satisfied: typer<0.8.0,>=0.3.0 in /usr/local/lib/python3.9/dist-packages (from spacy<4->fastai) (0.7.0)\n",
            "Requirement already satisfied: thinc<8.2.0,>=8.1.8 in /usr/local/lib/python3.9/dist-packages (from spacy<4->fastai) (8.1.9)\n",
            "Requirement already satisfied: spacy-legacy<3.1.0,>=3.0.11 in /usr/local/lib/python3.9/dist-packages (from spacy<4->fastai) (3.0.12)\n",
            "Requirement already satisfied: idna<4,>=2.5 in /usr/local/lib/python3.9/dist-packages (from requests->fastai) (3.4)\n",
            "Requirement already satisfied: urllib3<1.27,>=1.21.1 in /usr/local/lib/python3.9/dist-packages (from requests->fastai) (1.26.15)\n",
            "Requirement already satisfied: certifi>=2017.4.17 in /usr/local/lib/python3.9/dist-packages (from requests->fastai) (2022.12.7)\n",
            "Requirement already satisfied: charset-normalizer~=2.0.0 in /usr/local/lib/python3.9/dist-packages (from requests->fastai) (2.0.12)\n",
            "Requirement already satisfied: typing-extensions in /usr/local/lib/python3.9/dist-packages (from torch<2.1,>=1.7->fastai) (4.5.0)\n",
            "Collecting torch<2.1,>=1.7\n",
            "  Downloading torch-1.13.1-cp39-cp39-manylinux1_x86_64.whl (887.4 MB)\n",
            "\u001b[2K     \u001b[90m━━━━━━━━━━━━━━━━━━━━━━━━━━━━━━━━━━━━━━━\u001b[0m \u001b[32m887.4/887.4 MB\u001b[0m \u001b[31m1.6 MB/s\u001b[0m eta \u001b[36m0:00:00\u001b[0m\n",
            "\u001b[?25hCollecting nvidia-cuda-nvrtc-cu11==11.7.99\n",
            "  Downloading nvidia_cuda_nvrtc_cu11-11.7.99-2-py3-none-manylinux1_x86_64.whl (21.0 MB)\n",
            "\u001b[2K     \u001b[90m━━━━━━━━━━━━━━━━━━━━━━━━━━━━━━━━━━━━━━━━\u001b[0m \u001b[32m21.0/21.0 MB\u001b[0m \u001b[31m73.4 MB/s\u001b[0m eta \u001b[36m0:00:00\u001b[0m\n",
            "\u001b[?25hCollecting nvidia-cudnn-cu11==8.5.0.96\n",
            "  Downloading nvidia_cudnn_cu11-8.5.0.96-2-py3-none-manylinux1_x86_64.whl (557.1 MB)\n",
            "\u001b[2K     \u001b[90m━━━━━━━━━━━━━━━━━━━━━━━━━━━━━━━━━━━━━━━\u001b[0m \u001b[32m557.1/557.1 MB\u001b[0m \u001b[31m2.5 MB/s\u001b[0m eta \u001b[36m0:00:00\u001b[0m\n",
            "\u001b[?25hCollecting nvidia-cublas-cu11==11.10.3.66\n",
            "  Downloading nvidia_cublas_cu11-11.10.3.66-py3-none-manylinux1_x86_64.whl (317.1 MB)\n",
            "\u001b[2K     \u001b[90m━━━━━━━━━━━━━━━━━━━━━━━━━━━━━━━━━━━━━━━\u001b[0m \u001b[32m317.1/317.1 MB\u001b[0m \u001b[31m4.7 MB/s\u001b[0m eta \u001b[36m0:00:00\u001b[0m\n",
            "\u001b[?25hCollecting nvidia-cuda-runtime-cu11==11.7.99\n",
            "  Downloading nvidia_cuda_runtime_cu11-11.7.99-py3-none-manylinux1_x86_64.whl (849 kB)\n",
            "\u001b[2K     \u001b[90m━━━━━━━━━━━━━━━━━━━━━━━━━━━━━━━━━━━━━━\u001b[0m \u001b[32m849.3/849.3 KB\u001b[0m \u001b[31m27.7 MB/s\u001b[0m eta \u001b[36m0:00:00\u001b[0m\n",
            "\u001b[?25hRequirement already satisfied: wheel in /usr/local/lib/python3.9/dist-packages (from nvidia-cublas-cu11==11.10.3.66->torch<2.1,>=1.7->fastai) (0.40.0)\n",
            "Requirement already satisfied: fonttools>=4.22.0 in /usr/local/lib/python3.9/dist-packages (from matplotlib->fastai) (4.39.3)\n",
            "Requirement already satisfied: pyparsing>=2.3.1 in /usr/local/lib/python3.9/dist-packages (from matplotlib->fastai) (3.0.9)\n",
            "Requirement already satisfied: python-dateutil>=2.7 in /usr/local/lib/python3.9/dist-packages (from matplotlib->fastai) (2.8.2)\n",
            "Requirement already satisfied: kiwisolver>=1.0.1 in /usr/local/lib/python3.9/dist-packages (from matplotlib->fastai) (1.4.4)\n",
            "Requirement already satisfied: contourpy>=1.0.1 in /usr/local/lib/python3.9/dist-packages (from matplotlib->fastai) (1.0.7)\n",
            "Requirement already satisfied: cycler>=0.10 in /usr/local/lib/python3.9/dist-packages (from matplotlib->fastai) (0.11.0)\n",
            "Requirement already satisfied: importlib-resources>=3.2.0 in /usr/local/lib/python3.9/dist-packages (from matplotlib->fastai) (5.12.0)\n",
            "Requirement already satisfied: pytz>=2020.1 in /usr/local/lib/python3.9/dist-packages (from pandas->fastai) (2022.7.1)\n",
            "Requirement already satisfied: threadpoolctl>=2.0.0 in /usr/local/lib/python3.9/dist-packages (from scikit-learn->fastai) (3.1.0)\n",
            "Requirement already satisfied: joblib>=1.1.1 in /usr/local/lib/python3.9/dist-packages (from scikit-learn->fastai) (1.1.1)\n",
            "Requirement already satisfied: zipp>=3.1.0 in /usr/local/lib/python3.9/dist-packages (from importlib-resources>=3.2.0->matplotlib->fastai) (3.15.0)\n",
            "Requirement already satisfied: six>=1.5 in /usr/local/lib/python3.9/dist-packages (from python-dateutil>=2.7->matplotlib->fastai) (1.16.0)\n",
            "Requirement already satisfied: blis<0.8.0,>=0.7.8 in /usr/local/lib/python3.9/dist-packages (from thinc<8.2.0,>=8.1.8->spacy<4->fastai) (0.7.9)\n",
            "Requirement already satisfied: confection<1.0.0,>=0.0.1 in /usr/local/lib/python3.9/dist-packages (from thinc<8.2.0,>=8.1.8->spacy<4->fastai) (0.0.4)\n",
            "Requirement already satisfied: click<9.0.0,>=7.1.1 in /usr/local/lib/python3.9/dist-packages (from typer<0.8.0,>=0.3.0->spacy<4->fastai) (8.1.3)\n",
            "Requirement already satisfied: MarkupSafe>=2.0 in /usr/local/lib/python3.9/dist-packages (from jinja2->spacy<4->fastai) (2.1.2)\n",
            "Installing collected packages: nvidia-cuda-runtime-cu11, nvidia-cuda-nvrtc-cu11, nvidia-cublas-cu11, nvidia-cudnn-cu11, torch\n",
            "  Attempting uninstall: torch\n",
            "    Found existing installation: torch 1.8.0\n",
            "    Uninstalling torch-1.8.0:\n",
            "      Successfully uninstalled torch-1.8.0\n",
            "\u001b[31mERROR: pip's dependency resolver does not currently take into account all the packages that are installed. This behaviour is the source of the following dependency conflicts.\n",
            "torchtext 0.9.0 requires torch==1.8.0, but you have torch 1.13.1 which is incompatible.\u001b[0m\u001b[31m\n",
            "\u001b[0mSuccessfully installed nvidia-cublas-cu11-11.10.3.66 nvidia-cuda-nvrtc-cu11-11.7.99 nvidia-cuda-runtime-cu11-11.7.99 nvidia-cudnn-cu11-8.5.0.96 torch-1.13.1\n"
          ]
        }
      ],
      "source": [
        "# install relevant libraries\n",
        "!pip install fastai"
      ]
    },
    {
      "cell_type": "code",
      "execution_count": null,
      "metadata": {
        "id": "316Xs5WBv0kg"
      },
      "outputs": [],
      "source": [
        "# load relevant libraries\n",
        "from fastai import * \n",
        "import pandas as pd\n",
        "import numpy as np\n",
        "from functools import partial\n",
        "import io\n",
        "import os\n",
        "from fastai.text import *"
      ]
    },
    {
      "cell_type": "code",
      "execution_count": null,
      "metadata": {
        "colab": {
          "base_uri": "https://localhost:8080/"
        },
        "id": "MfoKX8tKAU4Q",
        "outputId": "e9606779-1e25-4bb7-bed4-2f94c6d6e232"
      },
      "outputs": [
        {
          "output_type": "stream",
          "name": "stdout",
          "text": [
            "--2023-03-30 19:08:53--  https://archive.ics.uci.edu/ml/machine-learning-databases/00228/smsspamcollection.zip\n",
            "Resolving archive.ics.uci.edu (archive.ics.uci.edu)... 128.195.10.252\n",
            "Connecting to archive.ics.uci.edu (archive.ics.uci.edu)|128.195.10.252|:443... connected.\n",
            "HTTP request sent, awaiting response... 200 OK\n",
            "Length: 203415 (199K) [application/x-httpd-php]\n",
            "Saving to: ‘smsspamcollection.zip.1’\n",
            "\n",
            "smsspamcollection.z 100%[===================>] 198.65K   294KB/s    in 0.7s    \n",
            "\n",
            "2023-03-30 19:08:55 (294 KB/s) - ‘smsspamcollection.zip.1’ saved [203415/203415]\n",
            "\n",
            "Archive:  smsspamcollection.zip\n",
            "replace SMSSpamCollection? [y]es, [n]o, [A]ll, [N]one, [r]ename: y\n",
            "  inflating: SMSSpamCollection       \n",
            "replace readme? [y]es, [n]o, [A]ll, [N]one, [r]ename: y\n",
            "  inflating: readme                  \n"
          ]
        }
      ],
      "source": [
        "# download SPAM data\n",
        "!wget https://archive.ics.uci.edu/ml/machine-learning-databases/00228/smsspamcollection.zip\n",
        "!unzip smsspamcollection.zip"
      ]
    },
    {
      "cell_type": "markdown",
      "metadata": {
        "id": "J4vSv4Z9QxTJ"
      },
      "source": [
        "This time we will load the data using pandas."
      ]
    },
    {
      "cell_type": "code",
      "execution_count": null,
      "metadata": {
        "colab": {
          "base_uri": "https://localhost:8080/",
          "height": 206
        },
        "id": "RKPhLwlhAbv-",
        "outputId": "114f2511-d919-433a-a363-f50a586ef55f"
      },
      "outputs": [
        {
          "output_type": "execute_result",
          "data": {
            "text/plain": [
              "  target                                               text\n",
              "0    ham  Go until jurong point, crazy.. Available only ...\n",
              "1    ham                      Ok lar... Joking wif u oni...\n",
              "2   spam  Free entry in 2 a wkly comp to win FA Cup fina...\n",
              "3    ham  U dun say so early hor... U c already then say...\n",
              "4    ham  Nah I don't think he goes to usf, he lives aro..."
            ],
            "text/html": [
              "\n",
              "  <div id=\"df-493338c7-d005-44cf-bba5-5cbb5d9f7d7b\">\n",
              "    <div class=\"colab-df-container\">\n",
              "      <div>\n",
              "<style scoped>\n",
              "    .dataframe tbody tr th:only-of-type {\n",
              "        vertical-align: middle;\n",
              "    }\n",
              "\n",
              "    .dataframe tbody tr th {\n",
              "        vertical-align: top;\n",
              "    }\n",
              "\n",
              "    .dataframe thead th {\n",
              "        text-align: right;\n",
              "    }\n",
              "</style>\n",
              "<table border=\"1\" class=\"dataframe\">\n",
              "  <thead>\n",
              "    <tr style=\"text-align: right;\">\n",
              "      <th></th>\n",
              "      <th>target</th>\n",
              "      <th>text</th>\n",
              "    </tr>\n",
              "  </thead>\n",
              "  <tbody>\n",
              "    <tr>\n",
              "      <th>0</th>\n",
              "      <td>ham</td>\n",
              "      <td>Go until jurong point, crazy.. Available only ...</td>\n",
              "    </tr>\n",
              "    <tr>\n",
              "      <th>1</th>\n",
              "      <td>ham</td>\n",
              "      <td>Ok lar... Joking wif u oni...</td>\n",
              "    </tr>\n",
              "    <tr>\n",
              "      <th>2</th>\n",
              "      <td>spam</td>\n",
              "      <td>Free entry in 2 a wkly comp to win FA Cup fina...</td>\n",
              "    </tr>\n",
              "    <tr>\n",
              "      <th>3</th>\n",
              "      <td>ham</td>\n",
              "      <td>U dun say so early hor... U c already then say...</td>\n",
              "    </tr>\n",
              "    <tr>\n",
              "      <th>4</th>\n",
              "      <td>ham</td>\n",
              "      <td>Nah I don't think he goes to usf, he lives aro...</td>\n",
              "    </tr>\n",
              "  </tbody>\n",
              "</table>\n",
              "</div>\n",
              "      <button class=\"colab-df-convert\" onclick=\"convertToInteractive('df-493338c7-d005-44cf-bba5-5cbb5d9f7d7b')\"\n",
              "              title=\"Convert this dataframe to an interactive table.\"\n",
              "              style=\"display:none;\">\n",
              "        \n",
              "  <svg xmlns=\"http://www.w3.org/2000/svg\" height=\"24px\"viewBox=\"0 0 24 24\"\n",
              "       width=\"24px\">\n",
              "    <path d=\"M0 0h24v24H0V0z\" fill=\"none\"/>\n",
              "    <path d=\"M18.56 5.44l.94 2.06.94-2.06 2.06-.94-2.06-.94-.94-2.06-.94 2.06-2.06.94zm-11 1L8.5 8.5l.94-2.06 2.06-.94-2.06-.94L8.5 2.5l-.94 2.06-2.06.94zm10 10l.94 2.06.94-2.06 2.06-.94-2.06-.94-.94-2.06-.94 2.06-2.06.94z\"/><path d=\"M17.41 7.96l-1.37-1.37c-.4-.4-.92-.59-1.43-.59-.52 0-1.04.2-1.43.59L10.3 9.45l-7.72 7.72c-.78.78-.78 2.05 0 2.83L4 21.41c.39.39.9.59 1.41.59.51 0 1.02-.2 1.41-.59l7.78-7.78 2.81-2.81c.8-.78.8-2.07 0-2.86zM5.41 20L4 18.59l7.72-7.72 1.47 1.35L5.41 20z\"/>\n",
              "  </svg>\n",
              "      </button>\n",
              "      \n",
              "  <style>\n",
              "    .colab-df-container {\n",
              "      display:flex;\n",
              "      flex-wrap:wrap;\n",
              "      gap: 12px;\n",
              "    }\n",
              "\n",
              "    .colab-df-convert {\n",
              "      background-color: #E8F0FE;\n",
              "      border: none;\n",
              "      border-radius: 50%;\n",
              "      cursor: pointer;\n",
              "      display: none;\n",
              "      fill: #1967D2;\n",
              "      height: 32px;\n",
              "      padding: 0 0 0 0;\n",
              "      width: 32px;\n",
              "    }\n",
              "\n",
              "    .colab-df-convert:hover {\n",
              "      background-color: #E2EBFA;\n",
              "      box-shadow: 0px 1px 2px rgba(60, 64, 67, 0.3), 0px 1px 3px 1px rgba(60, 64, 67, 0.15);\n",
              "      fill: #174EA6;\n",
              "    }\n",
              "\n",
              "    [theme=dark] .colab-df-convert {\n",
              "      background-color: #3B4455;\n",
              "      fill: #D2E3FC;\n",
              "    }\n",
              "\n",
              "    [theme=dark] .colab-df-convert:hover {\n",
              "      background-color: #434B5C;\n",
              "      box-shadow: 0px 1px 3px 1px rgba(0, 0, 0, 0.15);\n",
              "      filter: drop-shadow(0px 1px 2px rgba(0, 0, 0, 0.3));\n",
              "      fill: #FFFFFF;\n",
              "    }\n",
              "  </style>\n",
              "\n",
              "      <script>\n",
              "        const buttonEl =\n",
              "          document.querySelector('#df-493338c7-d005-44cf-bba5-5cbb5d9f7d7b button.colab-df-convert');\n",
              "        buttonEl.style.display =\n",
              "          google.colab.kernel.accessAllowed ? 'block' : 'none';\n",
              "\n",
              "        async function convertToInteractive(key) {\n",
              "          const element = document.querySelector('#df-493338c7-d005-44cf-bba5-5cbb5d9f7d7b');\n",
              "          const dataTable =\n",
              "            await google.colab.kernel.invokeFunction('convertToInteractive',\n",
              "                                                     [key], {});\n",
              "          if (!dataTable) return;\n",
              "\n",
              "          const docLinkHtml = 'Like what you see? Visit the ' +\n",
              "            '<a target=\"_blank\" href=https://colab.research.google.com/notebooks/data_table.ipynb>data table notebook</a>'\n",
              "            + ' to learn more about interactive tables.';\n",
              "          element.innerHTML = '';\n",
              "          dataTable['output_type'] = 'display_data';\n",
              "          await google.colab.output.renderOutput(dataTable, element);\n",
              "          const docLink = document.createElement('div');\n",
              "          docLink.innerHTML = docLinkHtml;\n",
              "          element.appendChild(docLink);\n",
              "        }\n",
              "      </script>\n",
              "    </div>\n",
              "  </div>\n",
              "  "
            ]
          },
          "metadata": {},
          "execution_count": 4
        }
      ],
      "source": [
        "# set up data and verify\n",
        "df1 = pd.read_csv('SMSSpamCollection', sep='\\t',  header=None, names=['target', 'text'])\n",
        "df1.head()"
      ]
    },
    {
      "cell_type": "code",
      "execution_count": null,
      "metadata": {
        "colab": {
          "base_uri": "https://localhost:8080/"
        },
        "id": "rorC2T1yAfWY",
        "outputId": "4bf04b61-2638-4726-a4dc-75aa0c88ffc0"
      },
      "outputs": [
        {
          "output_type": "execute_result",
          "data": {
            "text/plain": [
              "ham     4825\n",
              "spam     747\n",
              "Name: target, dtype: int64"
            ]
          },
          "metadata": {},
          "execution_count": 5
        }
      ],
      "source": [
        "# check distribution\n",
        "df1['target'].value_counts()"
      ]
    },
    {
      "cell_type": "markdown",
      "metadata": {
        "id": "snNazefHQ3yo"
      },
      "source": [
        "Split the data into training and validation datasets."
      ]
    },
    {
      "cell_type": "code",
      "execution_count": null,
      "metadata": {
        "id": "i4WuVTDhArhc"
      },
      "outputs": [],
      "source": [
        "# split the data and check dimensions\n",
        "\n",
        "from sklearn.model_selection import train_test_split\n",
        "\n",
        "# split data into training and validation set\n",
        "df_trn, df_val = train_test_split(df1, stratify = df1['target'], test_size = 0.3, random_state = 999)"
      ]
    },
    {
      "cell_type": "code",
      "execution_count": null,
      "metadata": {
        "colab": {
          "base_uri": "https://localhost:8080/"
        },
        "id": "uyCkDbTRAyxk",
        "outputId": "4f40410e-fc30-4b24-f3b8-75992e987d3a"
      },
      "outputs": [
        {
          "output_type": "execute_result",
          "data": {
            "text/plain": [
              "((3900, 2), (1672, 2))"
            ]
          },
          "metadata": {},
          "execution_count": 61
        }
      ],
      "source": [
        "df_trn.shape, df_val.shape"
      ]
    },
    {
      "cell_type": "markdown",
      "metadata": {
        "id": "kuGx5mebBfEm"
      },
      "source": [
        "### Create the language model\n",
        "Esentially, the language model contains the structure of the language (English in this case), allowing us to quickly use in a classification model, skipping the part of learning the semantics of the language from scratch.\n",
        "\n",
        "Creating a language model from scratch can be intensive due to the sheer size of data. Instead we will download the pre-trained model, which is a neural network (NN) with an AWD_LSTM architecture. By setting pretrained = True we say to fastai to download the weights from the trained model (a corpus of 103 MM of wikipedia articles)."
      ]
    },
    {
      "cell_type": "code",
      "execution_count": null,
      "metadata": {
        "colab": {
          "base_uri": "https://localhost:8080/",
          "height": 1000
        },
        "id": "RBcGJJwEQ4PJ",
        "outputId": "299b3891-a0d0-43c5-b7d3-2eb5ec94828f"
      },
      "outputs": [
        {
          "output_type": "stream",
          "name": "stdout",
          "text": [
            "Looking in indexes: https://pypi.org/simple, https://us-python.pkg.dev/colab-wheels/public/simple/\n",
            "Collecting fastai==1.0.61\n",
            "  Downloading fastai-1.0.61-py3-none-any.whl (239 kB)\n",
            "\u001b[2K     \u001b[90m━━━━━━━━━━━━━━━━━━━━━━━━━━━━━━━━━━━━━━\u001b[0m \u001b[32m239.2/239.2 KB\u001b[0m \u001b[31m13.9 MB/s\u001b[0m eta \u001b[36m0:00:00\u001b[0m\n",
            "\u001b[?25hCollecting nvidia-ml-py3\n",
            "  Downloading nvidia-ml-py3-7.352.0.tar.gz (19 kB)\n",
            "  Preparing metadata (setup.py) ... \u001b[?25l\u001b[?25hdone\n",
            "Requirement already satisfied: packaging in /usr/local/lib/python3.9/dist-packages (from fastai==1.0.61) (23.0)\n",
            "Requirement already satisfied: fastprogress>=0.2.1 in /usr/local/lib/python3.9/dist-packages (from fastai==1.0.61) (1.0.3)\n",
            "Requirement already satisfied: matplotlib in /usr/local/lib/python3.9/dist-packages (from fastai==1.0.61) (3.7.1)\n",
            "Requirement already satisfied: numpy>=1.15 in /usr/local/lib/python3.9/dist-packages (from fastai==1.0.61) (1.22.4)\n",
            "Requirement already satisfied: torch>=1.0.0 in /usr/local/lib/python3.9/dist-packages (from fastai==1.0.61) (1.13.1)\n",
            "Requirement already satisfied: pandas in /usr/local/lib/python3.9/dist-packages (from fastai==1.0.61) (1.4.4)\n",
            "Requirement already satisfied: scipy in /usr/local/lib/python3.9/dist-packages (from fastai==1.0.61) (1.10.1)\n",
            "Requirement already satisfied: Pillow in /usr/local/lib/python3.9/dist-packages (from fastai==1.0.61) (8.4.0)\n",
            "Requirement already satisfied: requests in /usr/local/lib/python3.9/dist-packages (from fastai==1.0.61) (2.27.1)\n",
            "Collecting bottleneck\n",
            "  Downloading Bottleneck-1.3.7-cp39-cp39-manylinux_2_5_x86_64.manylinux1_x86_64.manylinux_2_17_x86_64.manylinux2014_x86_64.whl (353 kB)\n",
            "\u001b[2K     \u001b[90m━━━━━━━━━━━━━━━━━━━━━━━━━━━━━━━━━━━━━━\u001b[0m \u001b[32m353.1/353.1 KB\u001b[0m \u001b[31m30.7 MB/s\u001b[0m eta \u001b[36m0:00:00\u001b[0m\n",
            "\u001b[?25hRequirement already satisfied: numexpr in /usr/local/lib/python3.9/dist-packages (from fastai==1.0.61) (2.8.4)\n",
            "Requirement already satisfied: torchvision in /usr/local/lib/python3.9/dist-packages (from fastai==1.0.61) (0.14.1+cu116)\n",
            "Requirement already satisfied: beautifulsoup4 in /usr/local/lib/python3.9/dist-packages (from fastai==1.0.61) (4.11.2)\n",
            "Requirement already satisfied: pyyaml in /usr/local/lib/python3.9/dist-packages (from fastai==1.0.61) (6.0)\n",
            "Requirement already satisfied: nvidia-cuda-nvrtc-cu11==11.7.99 in /usr/local/lib/python3.9/dist-packages (from torch>=1.0.0->fastai==1.0.61) (11.7.99)\n",
            "Requirement already satisfied: nvidia-cudnn-cu11==8.5.0.96 in /usr/local/lib/python3.9/dist-packages (from torch>=1.0.0->fastai==1.0.61) (8.5.0.96)\n",
            "Requirement already satisfied: typing-extensions in /usr/local/lib/python3.9/dist-packages (from torch>=1.0.0->fastai==1.0.61) (4.5.0)\n",
            "Requirement already satisfied: nvidia-cublas-cu11==11.10.3.66 in /usr/local/lib/python3.9/dist-packages (from torch>=1.0.0->fastai==1.0.61) (11.10.3.66)\n",
            "Requirement already satisfied: nvidia-cuda-runtime-cu11==11.7.99 in /usr/local/lib/python3.9/dist-packages (from torch>=1.0.0->fastai==1.0.61) (11.7.99)\n",
            "Requirement already satisfied: setuptools in /usr/local/lib/python3.9/dist-packages (from nvidia-cublas-cu11==11.10.3.66->torch>=1.0.0->fastai==1.0.61) (67.6.1)\n",
            "Requirement already satisfied: wheel in /usr/local/lib/python3.9/dist-packages (from nvidia-cublas-cu11==11.10.3.66->torch>=1.0.0->fastai==1.0.61) (0.40.0)\n",
            "Requirement already satisfied: soupsieve>1.2 in /usr/local/lib/python3.9/dist-packages (from beautifulsoup4->fastai==1.0.61) (2.4)\n",
            "Requirement already satisfied: python-dateutil>=2.7 in /usr/local/lib/python3.9/dist-packages (from matplotlib->fastai==1.0.61) (2.8.2)\n",
            "Requirement already satisfied: pyparsing>=2.3.1 in /usr/local/lib/python3.9/dist-packages (from matplotlib->fastai==1.0.61) (3.0.9)\n",
            "Requirement already satisfied: fonttools>=4.22.0 in /usr/local/lib/python3.9/dist-packages (from matplotlib->fastai==1.0.61) (4.39.3)\n",
            "Requirement already satisfied: kiwisolver>=1.0.1 in /usr/local/lib/python3.9/dist-packages (from matplotlib->fastai==1.0.61) (1.4.4)\n",
            "Requirement already satisfied: cycler>=0.10 in /usr/local/lib/python3.9/dist-packages (from matplotlib->fastai==1.0.61) (0.11.0)\n",
            "Requirement already satisfied: importlib-resources>=3.2.0 in /usr/local/lib/python3.9/dist-packages (from matplotlib->fastai==1.0.61) (5.12.0)\n",
            "Requirement already satisfied: contourpy>=1.0.1 in /usr/local/lib/python3.9/dist-packages (from matplotlib->fastai==1.0.61) (1.0.7)\n",
            "Requirement already satisfied: pytz>=2020.1 in /usr/local/lib/python3.9/dist-packages (from pandas->fastai==1.0.61) (2022.7.1)\n",
            "Requirement already satisfied: charset-normalizer~=2.0.0 in /usr/local/lib/python3.9/dist-packages (from requests->fastai==1.0.61) (2.0.12)\n",
            "Requirement already satisfied: urllib3<1.27,>=1.21.1 in /usr/local/lib/python3.9/dist-packages (from requests->fastai==1.0.61) (1.26.15)\n",
            "Requirement already satisfied: certifi>=2017.4.17 in /usr/local/lib/python3.9/dist-packages (from requests->fastai==1.0.61) (2022.12.7)\n",
            "Requirement already satisfied: idna<4,>=2.5 in /usr/local/lib/python3.9/dist-packages (from requests->fastai==1.0.61) (3.4)\n",
            "Requirement already satisfied: zipp>=3.1.0 in /usr/local/lib/python3.9/dist-packages (from importlib-resources>=3.2.0->matplotlib->fastai==1.0.61) (3.15.0)\n",
            "Requirement already satisfied: six>=1.5 in /usr/local/lib/python3.9/dist-packages (from python-dateutil>=2.7->matplotlib->fastai==1.0.61) (1.16.0)\n",
            "Building wheels for collected packages: nvidia-ml-py3\n",
            "  Building wheel for nvidia-ml-py3 (setup.py) ... \u001b[?25l\u001b[?25hdone\n",
            "  Created wheel for nvidia-ml-py3: filename=nvidia_ml_py3-7.352.0-py3-none-any.whl size=19188 sha256=373460ff2243f807984f64dfbb7bfa6b93966c47f20fcd05da86ab277de5d49f\n",
            "  Stored in directory: /root/.cache/pip/wheels/f6/d8/b0/15cfd7805d39250ac29318105f09b1750683387630d68423e1\n",
            "Successfully built nvidia-ml-py3\n",
            "Installing collected packages: nvidia-ml-py3, bottleneck, fastai\n",
            "  Attempting uninstall: fastai\n",
            "    Found existing installation: fastai 2.7.12\n",
            "    Uninstalling fastai-2.7.12:\n",
            "      Successfully uninstalled fastai-2.7.12\n",
            "Successfully installed bottleneck-1.3.7 fastai-1.0.61 nvidia-ml-py3-7.352.0\n"
          ]
        },
        {
          "output_type": "display_data",
          "data": {
            "application/vnd.colab-display-data+json": {
              "pip_warning": {
                "packages": [
                  "fastai"
                ]
              }
            }
          },
          "metadata": {}
        },
        {
          "output_type": "stream",
          "name": "stdout",
          "text": [
            "Found existing installation: spacy 3.5.1\n",
            "Uninstalling spacy-3.5.1:\n",
            "  Would remove:\n",
            "    /usr/local/bin/spacy\n",
            "    /usr/local/lib/python3.9/dist-packages/spacy-3.5.1.dist-info/*\n",
            "    /usr/local/lib/python3.9/dist-packages/spacy/*\n",
            "Proceed (Y/n)? y\n",
            "  Successfully uninstalled spacy-3.5.1\n",
            "Looking in indexes: https://pypi.org/simple, https://us-python.pkg.dev/colab-wheels/public/simple/\n",
            "Collecting spacy==2.3.5\n",
            "  Downloading spacy-2.3.5-cp39-cp39-manylinux2014_x86_64.whl (10.3 MB)\n",
            "\u001b[2K     \u001b[90m━━━━━━━━━━━━━━━━━━━━━━━━━━━━━━━━━━━━━━━━\u001b[0m \u001b[32m10.3/10.3 MB\u001b[0m \u001b[31m93.0 MB/s\u001b[0m eta \u001b[36m0:00:00\u001b[0m\n",
            "\u001b[?25hCollecting thinc<7.5.0,>=7.4.1\n",
            "  Downloading thinc-7.4.6-cp39-cp39-manylinux_2_17_x86_64.manylinux2014_x86_64.whl (1.1 MB)\n",
            "\u001b[2K     \u001b[90m━━━━━━━━━━━━━━━━━━━━━━━━━━━━━━━━━━━━━━━━\u001b[0m \u001b[32m1.1/1.1 MB\u001b[0m \u001b[31m48.1 MB/s\u001b[0m eta \u001b[36m0:00:00\u001b[0m\n",
            "\u001b[?25hRequirement already satisfied: setuptools in /usr/local/lib/python3.9/dist-packages (from spacy==2.3.5) (67.6.1)\n",
            "Collecting plac<1.2.0,>=0.9.6\n",
            "  Downloading plac-1.1.3-py2.py3-none-any.whl (20 kB)\n",
            "Collecting catalogue<1.1.0,>=0.0.7\n",
            "  Downloading catalogue-1.0.2-py2.py3-none-any.whl (16 kB)\n",
            "Requirement already satisfied: cymem<2.1.0,>=2.0.2 in /usr/local/lib/python3.9/dist-packages (from spacy==2.3.5) (2.0.7)\n",
            "Collecting wasabi<1.1.0,>=0.4.0\n",
            "  Downloading wasabi-0.10.1-py3-none-any.whl (26 kB)\n",
            "Requirement already satisfied: requests<3.0.0,>=2.13.0 in /usr/local/lib/python3.9/dist-packages (from spacy==2.3.5) (2.27.1)\n",
            "Requirement already satisfied: blis<0.8.0,>=0.4.0 in /usr/local/lib/python3.9/dist-packages (from spacy==2.3.5) (0.7.9)\n",
            "Requirement already satisfied: tqdm<5.0.0,>=4.38.0 in /usr/local/lib/python3.9/dist-packages (from spacy==2.3.5) (4.65.0)\n",
            "Requirement already satisfied: numpy>=1.15.0 in /usr/local/lib/python3.9/dist-packages (from spacy==2.3.5) (1.22.4)\n",
            "Requirement already satisfied: murmurhash<1.1.0,>=0.28.0 in /usr/local/lib/python3.9/dist-packages (from spacy==2.3.5) (1.0.9)\n",
            "Requirement already satisfied: preshed<3.1.0,>=3.0.2 in /usr/local/lib/python3.9/dist-packages (from spacy==2.3.5) (3.0.8)\n",
            "Collecting srsly<1.1.0,>=1.0.2\n",
            "  Downloading srsly-1.0.6-cp39-cp39-manylinux_2_17_x86_64.manylinux2014_x86_64.whl (209 kB)\n",
            "\u001b[2K     \u001b[90m━━━━━━━━━━━━━━━━━━━━━━━━━━━━━━━━━━━━━━\u001b[0m \u001b[32m209.2/209.2 KB\u001b[0m \u001b[31m25.1 MB/s\u001b[0m eta \u001b[36m0:00:00\u001b[0m\n",
            "\u001b[?25hRequirement already satisfied: certifi>=2017.4.17 in /usr/local/lib/python3.9/dist-packages (from requests<3.0.0,>=2.13.0->spacy==2.3.5) (2022.12.7)\n",
            "Requirement already satisfied: charset-normalizer~=2.0.0 in /usr/local/lib/python3.9/dist-packages (from requests<3.0.0,>=2.13.0->spacy==2.3.5) (2.0.12)\n",
            "Requirement already satisfied: idna<4,>=2.5 in /usr/local/lib/python3.9/dist-packages (from requests<3.0.0,>=2.13.0->spacy==2.3.5) (3.4)\n",
            "Requirement already satisfied: urllib3<1.27,>=1.21.1 in /usr/local/lib/python3.9/dist-packages (from requests<3.0.0,>=2.13.0->spacy==2.3.5) (1.26.15)\n",
            "Installing collected packages: wasabi, plac, srsly, catalogue, thinc, spacy\n",
            "  Attempting uninstall: wasabi\n",
            "    Found existing installation: wasabi 1.1.1\n",
            "    Uninstalling wasabi-1.1.1:\n",
            "      Successfully uninstalled wasabi-1.1.1\n",
            "  Attempting uninstall: srsly\n",
            "    Found existing installation: srsly 2.4.6\n",
            "    Uninstalling srsly-2.4.6:\n",
            "      Successfully uninstalled srsly-2.4.6\n",
            "  Attempting uninstall: catalogue\n",
            "    Found existing installation: catalogue 2.0.8\n",
            "    Uninstalling catalogue-2.0.8:\n",
            "      Successfully uninstalled catalogue-2.0.8\n",
            "  Attempting uninstall: thinc\n",
            "    Found existing installation: thinc 8.1.9\n",
            "    Uninstalling thinc-8.1.9:\n",
            "      Successfully uninstalled thinc-8.1.9\n",
            "\u001b[31mERROR: pip's dependency resolver does not currently take into account all the packages that are installed. This behaviour is the source of the following dependency conflicts.\n",
            "en-core-web-sm 3.5.0 requires spacy<3.6.0,>=3.5.0, but you have spacy 2.3.5 which is incompatible.\n",
            "confection 0.0.4 requires srsly<3.0.0,>=2.4.0, but you have srsly 1.0.6 which is incompatible.\u001b[0m\u001b[31m\n",
            "\u001b[0mSuccessfully installed catalogue-1.0.2 plac-1.1.3 spacy-2.3.5 srsly-1.0.6 thinc-7.4.6 wasabi-0.10.1\n"
          ]
        }
      ],
      "source": [
        "!pip install fastai==1.0.61\n",
        "!pip uninstall spacy\n",
        "!pip install spacy==2.3.5"
      ]
    },
    {
      "cell_type": "code",
      "execution_count": null,
      "metadata": {
        "colab": {
          "base_uri": "https://localhost:8080/",
          "height": 89
        },
        "id": "S6yWJklsBdPp",
        "outputId": "a086c5ee-f21b-49fb-e404-3b25293956a2"
      },
      "outputs": [
        {
          "output_type": "display_data",
          "data": {
            "text/plain": [
              "<IPython.core.display.HTML object>"
            ],
            "text/html": [
              "\n",
              "<style>\n",
              "    /* Turns off some styling */\n",
              "    progress {\n",
              "        /* gets rid of default border in Firefox and Opera. */\n",
              "        border: none;\n",
              "        /* Needs to be in here for Safari polyfill so background images work as expected. */\n",
              "        background-size: auto;\n",
              "    }\n",
              "    progress:not([value]), progress:not([value])::-webkit-progress-bar {\n",
              "        background: repeating-linear-gradient(45deg, #7e7e7e, #7e7e7e 10px, #5c5c5c 10px, #5c5c5c 20px);\n",
              "    }\n",
              "    .progress-bar-interrupted, .progress-bar-interrupted::-webkit-progress-bar {\n",
              "        background: #F44336;\n",
              "    }\n",
              "</style>\n"
            ]
          },
          "metadata": {}
        },
        {
          "output_type": "display_data",
          "data": {
            "text/plain": [
              "<IPython.core.display.HTML object>"
            ],
            "text/html": []
          },
          "metadata": {}
        },
        {
          "output_type": "stream",
          "name": "stderr",
          "text": [
            "/usr/local/lib/python3.9/dist-packages/fastai/core.py:302: VisibleDeprecationWarning: Creating an ndarray from ragged nested sequences (which is a list-or-tuple of lists-or-tuples-or ndarrays with different lengths or shapes) is deprecated. If you meant to do this, you must specify 'dtype=object' when creating the ndarray.\n",
            "  return np.array(a, dtype=dtype, **kwargs)\n"
          ]
        },
        {
          "output_type": "display_data",
          "data": {
            "text/plain": [
              "<IPython.core.display.HTML object>"
            ],
            "text/html": [
              "\n",
              "<style>\n",
              "    /* Turns off some styling */\n",
              "    progress {\n",
              "        /* gets rid of default border in Firefox and Opera. */\n",
              "        border: none;\n",
              "        /* Needs to be in here for Safari polyfill so background images work as expected. */\n",
              "        background-size: auto;\n",
              "    }\n",
              "    progress:not([value]), progress:not([value])::-webkit-progress-bar {\n",
              "        background: repeating-linear-gradient(45deg, #7e7e7e, #7e7e7e 10px, #5c5c5c 10px, #5c5c5c 20px);\n",
              "    }\n",
              "    .progress-bar-interrupted, .progress-bar-interrupted::-webkit-progress-bar {\n",
              "        background: #F44336;\n",
              "    }\n",
              "</style>\n"
            ]
          },
          "metadata": {}
        },
        {
          "output_type": "display_data",
          "data": {
            "text/plain": [
              "<IPython.core.display.HTML object>"
            ],
            "text/html": []
          },
          "metadata": {}
        },
        {
          "output_type": "stream",
          "name": "stdout",
          "text": [
            "Downloading https://s3.amazonaws.com/fast-ai-modelzoo/wt103-fwd.tgz\n"
          ]
        },
        {
          "output_type": "display_data",
          "data": {
            "text/plain": [
              "<IPython.core.display.HTML object>"
            ],
            "text/html": [
              "\n",
              "<style>\n",
              "    /* Turns off some styling */\n",
              "    progress {\n",
              "        /* gets rid of default border in Firefox and Opera. */\n",
              "        border: none;\n",
              "        /* Needs to be in here for Safari polyfill so background images work as expected. */\n",
              "        background-size: auto;\n",
              "    }\n",
              "    progress:not([value]), progress:not([value])::-webkit-progress-bar {\n",
              "        background: repeating-linear-gradient(45deg, #7e7e7e, #7e7e7e 10px, #5c5c5c 10px, #5c5c5c 20px);\n",
              "    }\n",
              "    .progress-bar-interrupted, .progress-bar-interrupted::-webkit-progress-bar {\n",
              "        background: #F44336;\n",
              "    }\n",
              "</style>\n"
            ]
          },
          "metadata": {}
        },
        {
          "output_type": "display_data",
          "data": {
            "text/plain": [
              "<IPython.core.display.HTML object>"
            ],
            "text/html": []
          },
          "metadata": {}
        }
      ],
      "source": [
        "# create pretrained language model data\n",
        "data_lm = TextLMDataBunch.from_df(train_df = df_trn, valid_df = df_val, path = \"\")\n",
        "lang_mod = language_model_learner(data_lm,  arch = AWD_LSTM, pretrained = True, drop_mult=1.)"
      ]
    },
    {
      "cell_type": "markdown",
      "metadata": {
        "id": "lT_aVqCRB8DJ"
      },
      "source": [
        "### Testing the language model\n"
      ]
    },
    {
      "cell_type": "code",
      "execution_count": null,
      "metadata": {
        "colab": {
          "base_uri": "https://localhost:8080/"
        },
        "id": "PlZgAMGbCZXY",
        "outputId": "74f54d64-b954-44d0-d71f-0cdc670878ae"
      },
      "outputs": [
        {
          "name": "stdout",
          "output_type": "stream",
          "text": [
            "The problem usually starts when the ground right is broken or the ground left .\n",
            "The problem usually starts when the best position off the way means not to show\n",
            "The problem usually starts when sounds can be released in so - called \" hard\n",
            "The problem usually starts when there is actually something in an apartment a short time\n",
            "The problem usually starts when the head is on a front - on left attached\n"
          ]
        }
      ],
      "source": [
        "for i in range(5):\n",
        "  print(lang_mod.predict(\"The problem usually starts when\", n_words=10))"
      ]
    },
    {
      "cell_type": "markdown",
      "metadata": {
        "id": "8-9pK9cTCmFP"
      },
      "source": [
        "Each time we excecute the `predict`, we get a different random sentence, completed with the number of choosen words (`n_words`).\n",
        "\n",
        "Try your own sentences!"
      ]
    },
    {
      "cell_type": "code",
      "execution_count": null,
      "metadata": {
        "colab": {
          "base_uri": "https://localhost:8080/"
        },
        "id": "153u2CpySopN",
        "outputId": "d16e86c5-dfb8-4ff9-e299-61ad8c45a293"
      },
      "outputs": [
        {
          "name": "stdout",
          "output_type": "stream",
          "text": [
            "The best pizza can be found by selling out a transfer shop in the US\n",
            "The best pizza can be found between New Scotland and the New\n",
            "The best pizza can be found in Europe , it was used as the toughest\n",
            "The best pizza can be found at the New Sport Club in\n",
            "The best pizza can be found in the UK top brand , called the \"\n"
          ]
        }
      ],
      "source": [
        "for j in range(5):\n",
        "  print(lang_mod.predict(\"The best pizza can be found\" , n_words = 10))"
      ]
    },
    {
      "cell_type": "code",
      "execution_count": null,
      "metadata": {
        "colab": {
          "base_uri": "https://localhost:8080/"
        },
        "id": "B3HLzfIrS9Wa",
        "outputId": "81e0f4a1-3dd9-4ad5-abfa-45367436c66d"
      },
      "outputs": [
        {
          "name": "stdout",
          "output_type": "stream",
          "text": [
            "Recurrent Neural Networks are open to network and network\n",
            "Recurrent Neural Networks are TV networks in\n",
            "Recurrent Neural Networks are an all - time network\n",
            "Recurrent Neural Networks are TV series of\n",
            "Recurrent Neural Networks are a reference mobile software service\n"
          ]
        }
      ],
      "source": [
        "for j in range(5):\n",
        "  print(lang_mod.predict(\"Recurrent Neural Networks are\" , n_words = 5))"
      ]
    },
    {
      "cell_type": "markdown",
      "metadata": {
        "id": "Q8-HUwNYCqSO"
      },
      "source": [
        "### Fine-tuning the language model\n",
        "The language model that we have \"loaded\" is great for generating wikipedia-like sentances, but here we're more interested in generating data like our email dataset. \n",
        "\n",
        "Make sure to enable GPU for this step or it make takes several hours to train."
      ]
    },
    {
      "cell_type": "code",
      "execution_count": null,
      "metadata": {
        "colab": {
          "base_uri": "https://localhost:8080/",
          "height": 554
        },
        "id": "2Z6lG13vRnbo",
        "outputId": "759511cd-1814-4d41-b561-a0b68ad08c19"
      },
      "outputs": [
        {
          "output_type": "display_data",
          "data": {
            "text/plain": [
              "<IPython.core.display.HTML object>"
            ],
            "text/html": [
              "\n",
              "<style>\n",
              "    /* Turns off some styling */\n",
              "    progress {\n",
              "        /* gets rid of default border in Firefox and Opera. */\n",
              "        border: none;\n",
              "        /* Needs to be in here for Safari polyfill so background images work as expected. */\n",
              "        background-size: auto;\n",
              "    }\n",
              "    progress:not([value]), progress:not([value])::-webkit-progress-bar {\n",
              "        background: repeating-linear-gradient(45deg, #7e7e7e, #7e7e7e 10px, #5c5c5c 10px, #5c5c5c 20px);\n",
              "    }\n",
              "    .progress-bar-interrupted, .progress-bar-interrupted::-webkit-progress-bar {\n",
              "        background: #F44336;\n",
              "    }\n",
              "</style>\n"
            ]
          },
          "metadata": {}
        },
        {
          "output_type": "display_data",
          "data": {
            "text/plain": [
              "<IPython.core.display.HTML object>"
            ],
            "text/html": [
              "<table border=\"1\" class=\"dataframe\">\n",
              "  <thead>\n",
              "    <tr style=\"text-align: left;\">\n",
              "      <th>epoch</th>\n",
              "      <th>train_loss</th>\n",
              "      <th>valid_loss</th>\n",
              "      <th>accuracy</th>\n",
              "      <th>time</th>\n",
              "    </tr>\n",
              "  </thead>\n",
              "  <tbody>\n",
              "    <tr>\n",
              "      <td>0</td>\n",
              "      <td>5.563086</td>\n",
              "      <td>4.293756</td>\n",
              "      <td>0.235590</td>\n",
              "      <td>00:04</td>\n",
              "    </tr>\n",
              "    <tr>\n",
              "      <td>1</td>\n",
              "      <td>4.839644</td>\n",
              "      <td>3.981250</td>\n",
              "      <td>0.267113</td>\n",
              "      <td>00:02</td>\n",
              "    </tr>\n",
              "    <tr>\n",
              "      <td>2</td>\n",
              "      <td>4.387638</td>\n",
              "      <td>3.846433</td>\n",
              "      <td>0.286855</td>\n",
              "      <td>00:02</td>\n",
              "    </tr>\n",
              "    <tr>\n",
              "      <td>3</td>\n",
              "      <td>4.074925</td>\n",
              "      <td>3.817465</td>\n",
              "      <td>0.291915</td>\n",
              "      <td>00:02</td>\n",
              "    </tr>\n",
              "  </tbody>\n",
              "</table>"
            ]
          },
          "metadata": {}
        },
        {
          "output_type": "display_data",
          "data": {
            "text/plain": [
              "<IPython.core.display.HTML object>"
            ],
            "text/html": [
              "\n",
              "<style>\n",
              "    /* Turns off some styling */\n",
              "    progress {\n",
              "        /* gets rid of default border in Firefox and Opera. */\n",
              "        border: none;\n",
              "        /* Needs to be in here for Safari polyfill so background images work as expected. */\n",
              "        background-size: auto;\n",
              "    }\n",
              "    progress:not([value]), progress:not([value])::-webkit-progress-bar {\n",
              "        background: repeating-linear-gradient(45deg, #7e7e7e, #7e7e7e 10px, #5c5c5c 10px, #5c5c5c 20px);\n",
              "    }\n",
              "    .progress-bar-interrupted, .progress-bar-interrupted::-webkit-progress-bar {\n",
              "        background: #F44336;\n",
              "    }\n",
              "</style>\n"
            ]
          },
          "metadata": {}
        },
        {
          "output_type": "display_data",
          "data": {
            "text/plain": [
              "<IPython.core.display.HTML object>"
            ],
            "text/html": [
              "<table border=\"1\" class=\"dataframe\">\n",
              "  <thead>\n",
              "    <tr style=\"text-align: left;\">\n",
              "      <th>epoch</th>\n",
              "      <th>train_loss</th>\n",
              "      <th>valid_loss</th>\n",
              "      <th>accuracy</th>\n",
              "      <th>time</th>\n",
              "    </tr>\n",
              "  </thead>\n",
              "  <tbody>\n",
              "    <tr>\n",
              "      <td>0</td>\n",
              "      <td>3.600107</td>\n",
              "      <td>3.784945</td>\n",
              "      <td>0.295883</td>\n",
              "      <td>00:02</td>\n",
              "    </tr>\n",
              "    <tr>\n",
              "      <td>1</td>\n",
              "      <td>3.550948</td>\n",
              "      <td>3.749168</td>\n",
              "      <td>0.300471</td>\n",
              "      <td>00:02</td>\n",
              "    </tr>\n",
              "    <tr>\n",
              "      <td>2</td>\n",
              "      <td>3.497820</td>\n",
              "      <td>3.739521</td>\n",
              "      <td>0.302753</td>\n",
              "      <td>00:02</td>\n",
              "    </tr>\n",
              "  </tbody>\n",
              "</table>"
            ]
          },
          "metadata": {}
        },
        {
          "output_type": "display_data",
          "data": {
            "text/plain": [
              "<IPython.core.display.HTML object>"
            ],
            "text/html": [
              "\n",
              "<style>\n",
              "    /* Turns off some styling */\n",
              "    progress {\n",
              "        /* gets rid of default border in Firefox and Opera. */\n",
              "        border: none;\n",
              "        /* Needs to be in here for Safari polyfill so background images work as expected. */\n",
              "        background-size: auto;\n",
              "    }\n",
              "    progress:not([value]), progress:not([value])::-webkit-progress-bar {\n",
              "        background: repeating-linear-gradient(45deg, #7e7e7e, #7e7e7e 10px, #5c5c5c 10px, #5c5c5c 20px);\n",
              "    }\n",
              "    .progress-bar-interrupted, .progress-bar-interrupted::-webkit-progress-bar {\n",
              "        background: #F44336;\n",
              "    }\n",
              "</style>\n"
            ]
          },
          "metadata": {}
        },
        {
          "output_type": "display_data",
          "data": {
            "text/plain": [
              "<IPython.core.display.HTML object>"
            ],
            "text/html": [
              "<table border=\"1\" class=\"dataframe\">\n",
              "  <thead>\n",
              "    <tr style=\"text-align: left;\">\n",
              "      <th>epoch</th>\n",
              "      <th>train_loss</th>\n",
              "      <th>valid_loss</th>\n",
              "      <th>accuracy</th>\n",
              "      <th>time</th>\n",
              "    </tr>\n",
              "  </thead>\n",
              "  <tbody>\n",
              "    <tr>\n",
              "      <td>0</td>\n",
              "      <td>3.405808</td>\n",
              "      <td>3.721832</td>\n",
              "      <td>0.305704</td>\n",
              "      <td>00:03</td>\n",
              "    </tr>\n",
              "    <tr>\n",
              "      <td>1</td>\n",
              "      <td>3.381705</td>\n",
              "      <td>3.711379</td>\n",
              "      <td>0.306275</td>\n",
              "      <td>00:03</td>\n",
              "    </tr>\n",
              "    <tr>\n",
              "      <td>2</td>\n",
              "      <td>3.367363</td>\n",
              "      <td>3.707099</td>\n",
              "      <td>0.307912</td>\n",
              "      <td>00:03</td>\n",
              "    </tr>\n",
              "  </tbody>\n",
              "</table>"
            ]
          },
          "metadata": {}
        },
        {
          "output_type": "display_data",
          "data": {
            "text/plain": [
              "<IPython.core.display.HTML object>"
            ],
            "text/html": [
              "\n",
              "<style>\n",
              "    /* Turns off some styling */\n",
              "    progress {\n",
              "        /* gets rid of default border in Firefox and Opera. */\n",
              "        border: none;\n",
              "        /* Needs to be in here for Safari polyfill so background images work as expected. */\n",
              "        background-size: auto;\n",
              "    }\n",
              "    progress:not([value]), progress:not([value])::-webkit-progress-bar {\n",
              "        background: repeating-linear-gradient(45deg, #7e7e7e, #7e7e7e 10px, #5c5c5c 10px, #5c5c5c 20px);\n",
              "    }\n",
              "    .progress-bar-interrupted, .progress-bar-interrupted::-webkit-progress-bar {\n",
              "        background: #F44336;\n",
              "    }\n",
              "</style>\n"
            ]
          },
          "metadata": {}
        },
        {
          "output_type": "display_data",
          "data": {
            "text/plain": [
              "<IPython.core.display.HTML object>"
            ],
            "text/html": [
              "<table border=\"1\" class=\"dataframe\">\n",
              "  <thead>\n",
              "    <tr style=\"text-align: left;\">\n",
              "      <th>epoch</th>\n",
              "      <th>train_loss</th>\n",
              "      <th>valid_loss</th>\n",
              "      <th>accuracy</th>\n",
              "      <th>time</th>\n",
              "    </tr>\n",
              "  </thead>\n",
              "  <tbody>\n",
              "    <tr>\n",
              "      <td>0</td>\n",
              "      <td>3.333086</td>\n",
              "      <td>3.693724</td>\n",
              "      <td>0.307887</td>\n",
              "      <td>00:04</td>\n",
              "    </tr>\n",
              "    <tr>\n",
              "      <td>1</td>\n",
              "      <td>3.291749</td>\n",
              "      <td>3.669361</td>\n",
              "      <td>0.311458</td>\n",
              "      <td>00:04</td>\n",
              "    </tr>\n",
              "    <tr>\n",
              "      <td>2</td>\n",
              "      <td>3.281425</td>\n",
              "      <td>3.660529</td>\n",
              "      <td>0.313343</td>\n",
              "      <td>00:04</td>\n",
              "    </tr>\n",
              "  </tbody>\n",
              "</table>"
            ]
          },
          "metadata": {}
        }
      ],
      "source": [
        "# fine-tune language model data\n",
        "lang_mod.fit_one_cycle(4, max_lr= 5e-02)\n",
        "lang_mod.freeze_to(-1)\n",
        "lang_mod.fit_one_cycle(3, slice(1e-2/(2.6**4), 1e-2))\n",
        "lang_mod.freeze_to(-2)\n",
        "lang_mod.fit_one_cycle(3, slice(3e-3/(2.6**4), 1e-3))\n",
        "lang_mod.unfreeze()\n",
        "lang_mod.fit_one_cycle(3, slice(3e-3/(2.6**4), 1e-3))\n",
        "\n",
        "# save language model\n",
        "lang_mod.save_encoder('my_awsome_encoder')"
      ]
    },
    {
      "cell_type": "markdown",
      "metadata": {
        "id": "KT-Y6pB1SrGg"
      },
      "source": [
        "### Classification model\n",
        "Now we can train a classification model that will identify spam and non-spam messages. Since we used a fastai language model, it will be easier to just continue working with the fastai library."
      ]
    },
    {
      "cell_type": "code",
      "execution_count": null,
      "metadata": {
        "colab": {
          "base_uri": "https://localhost:8080/",
          "height": 124
        },
        "id": "MIvfaeOfTDZV",
        "outputId": "5429aa56-e14a-4ae3-af81-adbdc674742c"
      },
      "outputs": [
        {
          "output_type": "display_data",
          "data": {
            "text/plain": [
              "<IPython.core.display.HTML object>"
            ],
            "text/html": [
              "\n",
              "<style>\n",
              "    /* Turns off some styling */\n",
              "    progress {\n",
              "        /* gets rid of default border in Firefox and Opera. */\n",
              "        border: none;\n",
              "        /* Needs to be in here for Safari polyfill so background images work as expected. */\n",
              "        background-size: auto;\n",
              "    }\n",
              "    progress:not([value]), progress:not([value])::-webkit-progress-bar {\n",
              "        background: repeating-linear-gradient(45deg, #7e7e7e, #7e7e7e 10px, #5c5c5c 10px, #5c5c5c 20px);\n",
              "    }\n",
              "    .progress-bar-interrupted, .progress-bar-interrupted::-webkit-progress-bar {\n",
              "        background: #F44336;\n",
              "    }\n",
              "</style>\n"
            ]
          },
          "metadata": {}
        },
        {
          "output_type": "display_data",
          "data": {
            "text/plain": [
              "<IPython.core.display.HTML object>"
            ],
            "text/html": []
          },
          "metadata": {}
        },
        {
          "output_type": "stream",
          "name": "stderr",
          "text": [
            "/usr/local/lib/python3.9/dist-packages/fastai/core.py:302: VisibleDeprecationWarning: Creating an ndarray from ragged nested sequences (which is a list-or-tuple of lists-or-tuples-or ndarrays with different lengths or shapes) is deprecated. If you meant to do this, you must specify 'dtype=object' when creating the ndarray.\n",
            "  return np.array(a, dtype=dtype, **kwargs)\n"
          ]
        },
        {
          "output_type": "display_data",
          "data": {
            "text/plain": [
              "<IPython.core.display.HTML object>"
            ],
            "text/html": [
              "\n",
              "<style>\n",
              "    /* Turns off some styling */\n",
              "    progress {\n",
              "        /* gets rid of default border in Firefox and Opera. */\n",
              "        border: none;\n",
              "        /* Needs to be in here for Safari polyfill so background images work as expected. */\n",
              "        background-size: auto;\n",
              "    }\n",
              "    progress:not([value]), progress:not([value])::-webkit-progress-bar {\n",
              "        background: repeating-linear-gradient(45deg, #7e7e7e, #7e7e7e 10px, #5c5c5c 10px, #5c5c5c 20px);\n",
              "    }\n",
              "    .progress-bar-interrupted, .progress-bar-interrupted::-webkit-progress-bar {\n",
              "        background: #F44336;\n",
              "    }\n",
              "</style>\n"
            ]
          },
          "metadata": {}
        },
        {
          "output_type": "display_data",
          "data": {
            "text/plain": [
              "<IPython.core.display.HTML object>"
            ],
            "text/html": []
          },
          "metadata": {}
        },
        {
          "output_type": "stream",
          "name": "stderr",
          "text": [
            "/usr/local/lib/python3.9/dist-packages/fastai/text/data.py:124: VisibleDeprecationWarning: Creating an ndarray from ragged nested sequences (which is a list-or-tuple of lists-or-tuples-or ndarrays with different lengths or shapes) is deprecated. If you meant to do this, you must specify 'dtype=object' when creating the ndarray.\n",
            "  sort_idx = np.concatenate(np.random.permutation(ck_idx[1:])) if len(ck_idx) > 1 else np.array([],dtype=np.int)\n",
            "<__array_function__ internals>:180: VisibleDeprecationWarning: Creating an ndarray from ragged nested sequences (which is a list-or-tuple of lists-or-tuples-or ndarrays with different lengths or shapes) is deprecated. If you meant to do this, you must specify 'dtype=object' when creating the ndarray.\n"
          ]
        }
      ],
      "source": [
        "# Classifier model data\n",
        "data_clas = TextClasDataBunch.from_df(path = \"\", train_df = df_trn,  valid_df = df_val, vocab=data_lm.train_ds.vocab, bs=32)"
      ]
    },
    {
      "cell_type": "code",
      "execution_count": null,
      "metadata": {
        "colab": {
          "base_uri": "https://localhost:8080/",
          "height": 293
        },
        "id": "Kc2fiXTCTjHh",
        "outputId": "90e66e70-d545-4491-cfed-32529a863049"
      },
      "outputs": [
        {
          "output_type": "display_data",
          "data": {
            "text/plain": [
              "<IPython.core.display.HTML object>"
            ],
            "text/html": [
              "<table border=\"1\" class=\"dataframe\">\n",
              "  <thead>\n",
              "    <tr style=\"text-align: right;\">\n",
              "      <th>text</th>\n",
              "      <th>target</th>\n",
              "    </tr>\n",
              "  </thead>\n",
              "  <tbody>\n",
              "    <tr>\n",
              "      <td>xxbos xxmaj the last thing i ever wanted to do was hurt you . xxmaj and i did n't think it would have . xxmaj you 'd laugh , be embarassed , delete the xxunk and keep going . xxmaj but as far as i knew , it was n't even up . xxmaj the fact that you even felt like i would do it to hurt you shows you</td>\n",
              "      <td>ham</td>\n",
              "    </tr>\n",
              "    <tr>\n",
              "      <td>xxbos xxmaj sad story of a xxmaj man - xxmaj last week was my b'day . xxmaj my xxmaj wife did'nt wish me . xxmaj my xxmaj parents forgot n so did my xxmaj kids . i went to work . xxmaj even my xxmaj colleagues did not wish . xxmaj as i entered my cabin my xxup pa said , '' xxmaj happy xxmaj b'day xxmaj boss ! !</td>\n",
              "      <td>ham</td>\n",
              "    </tr>\n",
              "    <tr>\n",
              "      <td>xxbos xxmaj sad story of a xxmaj man - xxmaj last week was my b'day . xxmaj my xxmaj wife did'nt wish me . xxmaj my xxmaj parents forgot n so did my xxmaj kids . i went to work . xxmaj even my xxmaj colleagues did not wish . xxmaj as i entered my cabin my xxup pa said , '' xxmaj happy xxmaj b'day xxmaj boss ! !</td>\n",
              "      <td>ham</td>\n",
              "    </tr>\n",
              "    <tr>\n",
              "      <td>xxbos xxmaj for me the love should start with xxunk should feel that i need her every time around xxunk should be the first thing which comes in my thoughts . i would start the day and end it with xxunk should be there every time i xxunk will be then when my every breath has her xxunk life should happen around xxunk life will be named to her .</td>\n",
              "      <td>ham</td>\n",
              "    </tr>\n",
              "    <tr>\n",
              "      <td>xxbos xxmaj how to xxmaj make a girl xxmaj happy ? xxmaj it 's not at all difficult to make girls happy . u only need to be ... 1 . a friend 2 . xxmaj xxunk 3 . xxmaj lover 4 . xxmaj xxunk . . . &lt; # &gt; . xxmaj good xxunk &lt; # &gt; . xxmaj xxunk &lt; # &gt; . xxmaj good boyfriend &lt; #</td>\n",
              "      <td>ham</td>\n",
              "    </tr>\n",
              "  </tbody>\n",
              "</table>"
            ]
          },
          "metadata": {}
        }
      ],
      "source": [
        "data_clas.show_batch()"
      ]
    },
    {
      "cell_type": "code",
      "execution_count": null,
      "metadata": {
        "id": "6sjwotSITjHi"
      },
      "outputs": [],
      "source": [
        "# create the classifier\n",
        "learn_classifier = text_classifier_learner(data_clas, drop_mult=0.7, arch = AWD_LSTM)"
      ]
    },
    {
      "cell_type": "code",
      "execution_count": null,
      "metadata": {
        "colab": {
          "base_uri": "https://localhost:8080/"
        },
        "id": "sfzqId9jTjHi",
        "outputId": "724a68c6-a452-4537-e72c-c01dce72b67e"
      },
      "outputs": [
        {
          "output_type": "execute_result",
          "data": {
            "text/plain": [
              "RNNLearner(data=TextClasDataBunch;\n",
              "\n",
              "Train: LabelList (3900 items)\n",
              "x: TextList\n",
              "xxbos i liked your new house,xxbos xxmaj xxunk i 'm walking in xxunk now ü faster come down ... xxmaj me very hungry ...,xxbos xxmaj wan2 win a meet+greet with xxmaj westlife 4 u or a m8 ? xxmaj they are currently on what tour ? 1)unbreakable , 2)untamed , 3)unkempt . xxmaj text 1,2 or 3 to 83049 . xxmaj cost 50p + std text,xxbos xxmaj otherwise had part time job na - tuition ..,xxbos xxmaj wait , do you know if xxunk in town ? i bet she does hella drugs !\n",
              "y: CategoryList\n",
              "ham,ham,spam,ham,ham\n",
              "Path: .;\n",
              "\n",
              "Valid: LabelList (1672 items)\n",
              "x: TextList\n",
              "xxbos xxmaj not a lot has happened here . xxmaj feels very xxunk . xxmaj xxunk is at her xxunk and xxunk is working lots . xxmaj just me and xxunk in at the mo . xxmaj how have you been ?,xxbos xxmaj the current xxunk bid is xxunk . xxmaj to xxunk this auction send xxup out . xxmaj customer xxmaj care : xxunk,xxbos xxmaj are you free xxunk i call now ?,xxbos xxmaj cold . xxmaj do nt be sad dear,xxbos xxmaj cool , text me when you 're xxunk\n",
              "y: CategoryList\n",
              "ham,spam,ham,ham,ham\n",
              "Path: .;\n",
              "\n",
              "Test: None, model=SequentialRNN(\n",
              "  (0): MultiBatchEncoder(\n",
              "    (module): AWD_LSTM(\n",
              "      (encoder): Embedding(3552, 400, padding_idx=1)\n",
              "      (encoder_dp): EmbeddingDropout(\n",
              "        (emb): Embedding(3552, 400, padding_idx=1)\n",
              "      )\n",
              "      (rnns): ModuleList(\n",
              "        (0): WeightDropout(\n",
              "          (module): LSTM(400, 1152, batch_first=True)\n",
              "        )\n",
              "        (1): WeightDropout(\n",
              "          (module): LSTM(1152, 1152, batch_first=True)\n",
              "        )\n",
              "        (2): WeightDropout(\n",
              "          (module): LSTM(1152, 400, batch_first=True)\n",
              "        )\n",
              "      )\n",
              "      (input_dp): RNNDropout()\n",
              "      (hidden_dps): ModuleList(\n",
              "        (0): RNNDropout()\n",
              "        (1): RNNDropout()\n",
              "        (2): RNNDropout()\n",
              "      )\n",
              "    )\n",
              "  )\n",
              "  (1): PoolingLinearClassifier(\n",
              "    (layers): Sequential(\n",
              "      (0): BatchNorm1d(1200, eps=1e-05, momentum=0.1, affine=True, track_running_stats=True)\n",
              "      (1): Dropout(p=0.27999999999999997, inplace=False)\n",
              "      (2): Linear(in_features=1200, out_features=50, bias=True)\n",
              "      (3): ReLU(inplace=True)\n",
              "      (4): BatchNorm1d(50, eps=1e-05, momentum=0.1, affine=True, track_running_stats=True)\n",
              "      (5): Dropout(p=0.1, inplace=False)\n",
              "      (6): Linear(in_features=50, out_features=2, bias=True)\n",
              "    )\n",
              "  )\n",
              "), opt_func=functools.partial(<class 'torch.optim.adam.Adam'>, betas=(0.9, 0.99)), loss_func=FlattenedLoss of CrossEntropyLoss(), metrics=[<function accuracy at 0x7efeb5d5b700>], true_wd=True, bn_wd=True, wd=0.01, train_bn=True, path=PosixPath('.'), model_dir='models', callback_fns=[functools.partial(<class 'fastai.basic_train.Recorder'>, add_time=True, silent=False)], callbacks=[RNNTrainer\n",
              "learn: ...\n",
              "alpha: 2.0\n",
              "beta: 1.0], layer_groups=[Sequential(\n",
              "  (0): Embedding(3552, 400, padding_idx=1)\n",
              "  (1): EmbeddingDropout(\n",
              "    (emb): Embedding(3552, 400, padding_idx=1)\n",
              "  )\n",
              "), Sequential(\n",
              "  (0): WeightDropout(\n",
              "    (module): LSTM(400, 1152, batch_first=True)\n",
              "  )\n",
              "  (1): RNNDropout()\n",
              "), Sequential(\n",
              "  (0): WeightDropout(\n",
              "    (module): LSTM(1152, 1152, batch_first=True)\n",
              "  )\n",
              "  (1): RNNDropout()\n",
              "), Sequential(\n",
              "  (0): WeightDropout(\n",
              "    (module): LSTM(1152, 400, batch_first=True)\n",
              "  )\n",
              "  (1): RNNDropout()\n",
              "), Sequential(\n",
              "  (0): PoolingLinearClassifier(\n",
              "    (layers): Sequential(\n",
              "      (0): BatchNorm1d(1200, eps=1e-05, momentum=0.1, affine=True, track_running_stats=True)\n",
              "      (1): Dropout(p=0.27999999999999997, inplace=False)\n",
              "      (2): Linear(in_features=1200, out_features=50, bias=True)\n",
              "      (3): ReLU(inplace=True)\n",
              "      (4): BatchNorm1d(50, eps=1e-05, momentum=0.1, affine=True, track_running_stats=True)\n",
              "      (5): Dropout(p=0.1, inplace=False)\n",
              "      (6): Linear(in_features=50, out_features=2, bias=True)\n",
              "    )\n",
              "  )\n",
              ")], add_time=True, silent=False)"
            ]
          },
          "metadata": {},
          "execution_count": 12
        }
      ],
      "source": [
        "# load language model\n",
        "learn_classifier.load_encoder('my_awsome_encoder')"
      ]
    },
    {
      "cell_type": "code",
      "execution_count": null,
      "metadata": {
        "colab": {
          "base_uri": "https://localhost:8080/",
          "height": 652
        },
        "id": "yQzxgvqSTjHi",
        "outputId": "c01cd4be-9e4b-4940-bb39-7a2d61db670b"
      },
      "outputs": [
        {
          "output_type": "display_data",
          "data": {
            "text/plain": [
              "<IPython.core.display.HTML object>"
            ],
            "text/html": [
              "\n",
              "<style>\n",
              "    /* Turns off some styling */\n",
              "    progress {\n",
              "        /* gets rid of default border in Firefox and Opera. */\n",
              "        border: none;\n",
              "        /* Needs to be in here for Safari polyfill so background images work as expected. */\n",
              "        background-size: auto;\n",
              "    }\n",
              "    progress:not([value]), progress:not([value])::-webkit-progress-bar {\n",
              "        background: repeating-linear-gradient(45deg, #7e7e7e, #7e7e7e 10px, #5c5c5c 10px, #5c5c5c 20px);\n",
              "    }\n",
              "    .progress-bar-interrupted, .progress-bar-interrupted::-webkit-progress-bar {\n",
              "        background: #F44336;\n",
              "    }\n",
              "</style>\n"
            ]
          },
          "metadata": {}
        },
        {
          "output_type": "display_data",
          "data": {
            "text/plain": [
              "<IPython.core.display.HTML object>"
            ],
            "text/html": [
              "\n",
              "    <div>\n",
              "      <progress value='0' class='' max='1' style='width:300px; height:20px; vertical-align: middle;'></progress>\n",
              "      0.00% [0/1 00:00&lt;?]\n",
              "    </div>\n",
              "    \n",
              "<table border=\"1\" class=\"dataframe\">\n",
              "  <thead>\n",
              "    <tr style=\"text-align: left;\">\n",
              "      <th>epoch</th>\n",
              "      <th>train_loss</th>\n",
              "      <th>valid_loss</th>\n",
              "      <th>accuracy</th>\n",
              "      <th>time</th>\n",
              "    </tr>\n",
              "  </thead>\n",
              "  <tbody>\n",
              "  </tbody>\n",
              "</table><p>\n",
              "\n",
              "    <div>\n",
              "      <progress value='88' class='' max='121' style='width:300px; height:20px; vertical-align: middle;'></progress>\n",
              "      72.73% [88/121 00:02&lt;00:00 0.6216]\n",
              "    </div>\n",
              "    "
            ]
          },
          "metadata": {}
        },
        {
          "output_type": "stream",
          "name": "stderr",
          "text": [
            "/usr/local/lib/python3.9/dist-packages/fastai/text/data.py:124: VisibleDeprecationWarning: Creating an ndarray from ragged nested sequences (which is a list-or-tuple of lists-or-tuples-or ndarrays with different lengths or shapes) is deprecated. If you meant to do this, you must specify 'dtype=object' when creating the ndarray.\n",
            "  sort_idx = np.concatenate(np.random.permutation(ck_idx[1:])) if len(ck_idx) > 1 else np.array([],dtype=np.int)\n",
            "<__array_function__ internals>:180: VisibleDeprecationWarning: Creating an ndarray from ragged nested sequences (which is a list-or-tuple of lists-or-tuples-or ndarrays with different lengths or shapes) is deprecated. If you meant to do this, you must specify 'dtype=object' when creating the ndarray.\n"
          ]
        },
        {
          "output_type": "stream",
          "name": "stdout",
          "text": [
            "LR Finder is complete, type {learner_name}.recorder.plot() to see the graph.\n",
            "Min numerical gradient: 2.09E-03\n",
            "Min loss divided by 10: 2.51E-02\n"
          ]
        },
        {
          "output_type": "display_data",
          "data": {
            "text/plain": [
              "<Figure size 640x480 with 1 Axes>"
            ],
            "image/png": "[encoded data removed]"
          },
          "metadata": {}
        }
      ],
      "source": [
        "# train classifier\n",
        "learn_classifier.lr_find()\n",
        "learn_classifier.recorder.plot(suggestion=True)"
      ]
    },
    {
      "cell_type": "code",
      "execution_count": null,
      "metadata": {
        "colab": {
          "base_uri": "https://localhost:8080/",
          "height": 487
        },
        "id": "7boiRtwsTjHi",
        "outputId": "f90a7e62-4355-4d6b-cfd5-f99c4b9d41de"
      },
      "outputs": [
        {
          "output_type": "display_data",
          "data": {
            "text/plain": [
              "<IPython.core.display.HTML object>"
            ],
            "text/html": [
              "\n",
              "<style>\n",
              "    /* Turns off some styling */\n",
              "    progress {\n",
              "        /* gets rid of default border in Firefox and Opera. */\n",
              "        border: none;\n",
              "        /* Needs to be in here for Safari polyfill so background images work as expected. */\n",
              "        background-size: auto;\n",
              "    }\n",
              "    progress:not([value]), progress:not([value])::-webkit-progress-bar {\n",
              "        background: repeating-linear-gradient(45deg, #7e7e7e, #7e7e7e 10px, #5c5c5c 10px, #5c5c5c 20px);\n",
              "    }\n",
              "    .progress-bar-interrupted, .progress-bar-interrupted::-webkit-progress-bar {\n",
              "        background: #F44336;\n",
              "    }\n",
              "</style>\n"
            ]
          },
          "metadata": {}
        },
        {
          "output_type": "display_data",
          "data": {
            "text/plain": [
              "<IPython.core.display.HTML object>"
            ],
            "text/html": [
              "<table border=\"1\" class=\"dataframe\">\n",
              "  <thead>\n",
              "    <tr style=\"text-align: left;\">\n",
              "      <th>epoch</th>\n",
              "      <th>train_loss</th>\n",
              "      <th>valid_loss</th>\n",
              "      <th>accuracy</th>\n",
              "      <th>time</th>\n",
              "    </tr>\n",
              "  </thead>\n",
              "  <tbody>\n",
              "    <tr>\n",
              "      <td>0</td>\n",
              "      <td>0.404179</td>\n",
              "      <td>0.071193</td>\n",
              "      <td>0.982656</td>\n",
              "      <td>00:03</td>\n",
              "    </tr>\n",
              "    <tr>\n",
              "      <td>1</td>\n",
              "      <td>0.192946</td>\n",
              "      <td>0.063962</td>\n",
              "      <td>0.985646</td>\n",
              "      <td>00:04</td>\n",
              "    </tr>\n",
              "    <tr>\n",
              "      <td>2</td>\n",
              "      <td>0.140234</td>\n",
              "      <td>0.102538</td>\n",
              "      <td>0.982057</td>\n",
              "      <td>00:04</td>\n",
              "    </tr>\n",
              "    <tr>\n",
              "      <td>3</td>\n",
              "      <td>0.108740</td>\n",
              "      <td>0.087609</td>\n",
              "      <td>0.986244</td>\n",
              "      <td>00:03</td>\n",
              "    </tr>\n",
              "    <tr>\n",
              "      <td>4</td>\n",
              "      <td>0.091741</td>\n",
              "      <td>0.088445</td>\n",
              "      <td>0.976675</td>\n",
              "      <td>00:04</td>\n",
              "    </tr>\n",
              "  </tbody>\n",
              "</table>"
            ]
          },
          "metadata": {}
        },
        {
          "output_type": "stream",
          "name": "stderr",
          "text": [
            "/usr/local/lib/python3.9/dist-packages/fastai/text/data.py:124: VisibleDeprecationWarning: Creating an ndarray from ragged nested sequences (which is a list-or-tuple of lists-or-tuples-or ndarrays with different lengths or shapes) is deprecated. If you meant to do this, you must specify 'dtype=object' when creating the ndarray.\n",
            "  sort_idx = np.concatenate(np.random.permutation(ck_idx[1:])) if len(ck_idx) > 1 else np.array([],dtype=np.int)\n",
            "<__array_function__ internals>:180: VisibleDeprecationWarning: Creating an ndarray from ragged nested sequences (which is a list-or-tuple of lists-or-tuples-or ndarrays with different lengths or shapes) is deprecated. If you meant to do this, you must specify 'dtype=object' when creating the ndarray.\n",
            "/usr/local/lib/python3.9/dist-packages/fastai/text/data.py:124: VisibleDeprecationWarning: Creating an ndarray from ragged nested sequences (which is a list-or-tuple of lists-or-tuples-or ndarrays with different lengths or shapes) is deprecated. If you meant to do this, you must specify 'dtype=object' when creating the ndarray.\n",
            "  sort_idx = np.concatenate(np.random.permutation(ck_idx[1:])) if len(ck_idx) > 1 else np.array([],dtype=np.int)\n",
            "<__array_function__ internals>:180: VisibleDeprecationWarning: Creating an ndarray from ragged nested sequences (which is a list-or-tuple of lists-or-tuples-or ndarrays with different lengths or shapes) is deprecated. If you meant to do this, you must specify 'dtype=object' when creating the ndarray.\n",
            "/usr/local/lib/python3.9/dist-packages/fastai/text/data.py:124: VisibleDeprecationWarning: Creating an ndarray from ragged nested sequences (which is a list-or-tuple of lists-or-tuples-or ndarrays with different lengths or shapes) is deprecated. If you meant to do this, you must specify 'dtype=object' when creating the ndarray.\n",
            "  sort_idx = np.concatenate(np.random.permutation(ck_idx[1:])) if len(ck_idx) > 1 else np.array([],dtype=np.int)\n",
            "<__array_function__ internals>:180: VisibleDeprecationWarning: Creating an ndarray from ragged nested sequences (which is a list-or-tuple of lists-or-tuples-or ndarrays with different lengths or shapes) is deprecated. If you meant to do this, you must specify 'dtype=object' when creating the ndarray.\n",
            "/usr/local/lib/python3.9/dist-packages/fastai/text/data.py:124: VisibleDeprecationWarning: Creating an ndarray from ragged nested sequences (which is a list-or-tuple of lists-or-tuples-or ndarrays with different lengths or shapes) is deprecated. If you meant to do this, you must specify 'dtype=object' when creating the ndarray.\n",
            "  sort_idx = np.concatenate(np.random.permutation(ck_idx[1:])) if len(ck_idx) > 1 else np.array([],dtype=np.int)\n",
            "<__array_function__ internals>:180: VisibleDeprecationWarning: Creating an ndarray from ragged nested sequences (which is a list-or-tuple of lists-or-tuples-or ndarrays with different lengths or shapes) is deprecated. If you meant to do this, you must specify 'dtype=object' when creating the ndarray.\n",
            "/usr/local/lib/python3.9/dist-packages/fastai/text/data.py:124: VisibleDeprecationWarning: Creating an ndarray from ragged nested sequences (which is a list-or-tuple of lists-or-tuples-or ndarrays with different lengths or shapes) is deprecated. If you meant to do this, you must specify 'dtype=object' when creating the ndarray.\n",
            "  sort_idx = np.concatenate(np.random.permutation(ck_idx[1:])) if len(ck_idx) > 1 else np.array([],dtype=np.int)\n",
            "<__array_function__ internals>:180: VisibleDeprecationWarning: Creating an ndarray from ragged nested sequences (which is a list-or-tuple of lists-or-tuples-or ndarrays with different lengths or shapes) is deprecated. If you meant to do this, you must specify 'dtype=object' when creating the ndarray.\n"
          ]
        }
      ],
      "source": [
        "learn_classifier.fit_one_cycle(5, max_lr=1e-2, moms=(0.8,0.7))"
      ]
    },
    {
      "cell_type": "code",
      "execution_count": null,
      "metadata": {
        "colab": {
          "base_uri": "https://localhost:8080/",
          "height": 449
        },
        "id": "ToR6na02TjHi",
        "outputId": "45569d28-f086-4cc2-aa0d-a6f1046b0c27"
      },
      "outputs": [
        {
          "output_type": "display_data",
          "data": {
            "text/plain": [
              "<Figure size 640x480 with 1 Axes>"
            ],
            "image/png": "[encoded data removed]"
          },
          "metadata": {}
        }
      ],
      "source": [
        "learn_classifier.recorder.plot_losses()"
      ]
    },
    {
      "cell_type": "code",
      "execution_count": null,
      "metadata": {
        "colab": {
          "base_uri": "https://localhost:8080/",
          "height": 652
        },
        "id": "BLHJl3oQTjHi",
        "outputId": "7ce866cf-dc06-4c63-cbb2-f8dc6c3e29a5"
      },
      "outputs": [
        {
          "output_type": "display_data",
          "data": {
            "text/plain": [
              "<IPython.core.display.HTML object>"
            ],
            "text/html": [
              "\n",
              "<style>\n",
              "    /* Turns off some styling */\n",
              "    progress {\n",
              "        /* gets rid of default border in Firefox and Opera. */\n",
              "        border: none;\n",
              "        /* Needs to be in here for Safari polyfill so background images work as expected. */\n",
              "        background-size: auto;\n",
              "    }\n",
              "    progress:not([value]), progress:not([value])::-webkit-progress-bar {\n",
              "        background: repeating-linear-gradient(45deg, #7e7e7e, #7e7e7e 10px, #5c5c5c 10px, #5c5c5c 20px);\n",
              "    }\n",
              "    .progress-bar-interrupted, .progress-bar-interrupted::-webkit-progress-bar {\n",
              "        background: #F44336;\n",
              "    }\n",
              "</style>\n"
            ]
          },
          "metadata": {}
        },
        {
          "output_type": "display_data",
          "data": {
            "text/plain": [
              "<IPython.core.display.HTML object>"
            ],
            "text/html": [
              "\n",
              "    <div>\n",
              "      <progress value='0' class='' max='1' style='width:300px; height:20px; vertical-align: middle;'></progress>\n",
              "      0.00% [0/1 00:00&lt;?]\n",
              "    </div>\n",
              "    \n",
              "<table border=\"1\" class=\"dataframe\">\n",
              "  <thead>\n",
              "    <tr style=\"text-align: left;\">\n",
              "      <th>epoch</th>\n",
              "      <th>train_loss</th>\n",
              "      <th>valid_loss</th>\n",
              "      <th>accuracy</th>\n",
              "      <th>time</th>\n",
              "    </tr>\n",
              "  </thead>\n",
              "  <tbody>\n",
              "  </tbody>\n",
              "</table><p>\n",
              "\n",
              "    <div>\n",
              "      <progress value='79' class='' max='121' style='width:300px; height:20px; vertical-align: middle;'></progress>\n",
              "      65.29% [79/121 00:01&lt;00:00 0.1749]\n",
              "    </div>\n",
              "    "
            ]
          },
          "metadata": {}
        },
        {
          "output_type": "stream",
          "name": "stderr",
          "text": [
            "/usr/local/lib/python3.9/dist-packages/fastai/text/data.py:124: VisibleDeprecationWarning: Creating an ndarray from ragged nested sequences (which is a list-or-tuple of lists-or-tuples-or ndarrays with different lengths or shapes) is deprecated. If you meant to do this, you must specify 'dtype=object' when creating the ndarray.\n",
            "  sort_idx = np.concatenate(np.random.permutation(ck_idx[1:])) if len(ck_idx) > 1 else np.array([],dtype=np.int)\n",
            "<__array_function__ internals>:180: VisibleDeprecationWarning: Creating an ndarray from ragged nested sequences (which is a list-or-tuple of lists-or-tuples-or ndarrays with different lengths or shapes) is deprecated. If you meant to do this, you must specify 'dtype=object' when creating the ndarray.\n"
          ]
        },
        {
          "output_type": "stream",
          "name": "stdout",
          "text": [
            "LR Finder is complete, type {learner_name}.recorder.plot() to see the graph.\n",
            "Min numerical gradient: 6.31E-07\n",
            "Min loss divided by 10: 8.32E-07\n"
          ]
        },
        {
          "output_type": "display_data",
          "data": {
            "text/plain": [
              "<Figure size 640x480 with 1 Axes>"
            ],
            "image/png": "[encoded data removed]"
          },
          "metadata": {}
        }
      ],
      "source": [
        "lang_mod.freeze_to(-1)\n",
        "\n",
        "learn_classifier.lr_find()\n",
        "learn_classifier.recorder.plot(suggestion=True)"
      ]
    },
    {
      "cell_type": "markdown",
      "metadata": {
        "id": "ZyADkr6yTyG9"
      },
      "source": [
        "Test out the classification model on spam and non-spam examples."
      ]
    },
    {
      "cell_type": "code",
      "execution_count": null,
      "metadata": {
        "colab": {
          "base_uri": "https://localhost:8080/"
        },
        "id": "Y_KKaOnrTjHj",
        "outputId": "c9f80923-766a-4632-d21b-8bd8d231aaf8"
      },
      "outputs": [
        {
          "output_type": "stream",
          "name": "stdout",
          "text": [
            "Probability that the message is NOT spam is 1.0\n",
            "tensor(0)\n"
          ]
        }
      ],
      "source": [
        "# predict\n",
        "prob = learn_classifier.predict('did you buy the groceries for dinner? :)')\n",
        "print(\"Probability that the message is NOT spam is\" , prob[2][0].item())"
      ]
    },
    {
      "cell_type": "code",
      "execution_count": null,
      "metadata": {
        "colab": {
          "base_uri": "https://localhost:8080/"
        },
        "id": "A8Xv4N9STjHj",
        "outputId": "4d927afe-cf2c-475d-95c2-c8d74a21be9c"
      },
      "outputs": [
        {
          "output_type": "stream",
          "name": "stdout",
          "text": [
            "Probability that the message is NOT spam is 0.243739515542984\n"
          ]
        }
      ],
      "source": [
        "# predict\n",
        "prob = learn_classifier.predict('Free entry call back now')\n",
        "print(\"Probability that the message is NOT spam is\" , prob[2][0].item())"
      ]
    },
    {
      "cell_type": "markdown",
      "metadata": {
        "id": "gcUOVjveT8Xu"
      },
      "source": [
        "Next we will evaluate on all of our validation data."
      ]
    },
    {
      "cell_type": "code",
      "execution_count": null,
      "metadata": {
        "colab": {
          "base_uri": "https://localhost:8080/",
          "height": 34
        },
        "id": "jkvU1PvTTjHj",
        "outputId": "b57a1e5e-0e12-4a17-e51a-3eebbee7b494"
      },
      "outputs": [
        {
          "output_type": "display_data",
          "data": {
            "text/plain": [
              "<IPython.core.display.HTML object>"
            ],
            "text/html": [
              "\n",
              "<style>\n",
              "    /* Turns off some styling */\n",
              "    progress {\n",
              "        /* gets rid of default border in Firefox and Opera. */\n",
              "        border: none;\n",
              "        /* Needs to be in here for Safari polyfill so background images work as expected. */\n",
              "        background-size: auto;\n",
              "    }\n",
              "    progress:not([value]), progress:not([value])::-webkit-progress-bar {\n",
              "        background: repeating-linear-gradient(45deg, #7e7e7e, #7e7e7e 10px, #5c5c5c 10px, #5c5c5c 20px);\n",
              "    }\n",
              "    .progress-bar-interrupted, .progress-bar-interrupted::-webkit-progress-bar {\n",
              "        background: #F44336;\n",
              "    }\n",
              "</style>\n"
            ]
          },
          "metadata": {}
        },
        {
          "output_type": "display_data",
          "data": {
            "text/plain": [
              "<IPython.core.display.HTML object>"
            ],
            "text/html": []
          },
          "metadata": {}
        },
        {
          "output_type": "execute_result",
          "data": {
            "text/plain": [
              "torch.Size([1672, 2])"
            ]
          },
          "metadata": {},
          "execution_count": 21
        }
      ],
      "source": [
        "# get predictions from validation\n",
        "valid_preds, valid_label=learn_classifier.get_preds(ds_type=DatasetType.Valid, ordered=True)\n",
        "valid_preds.shape"
      ]
    },
    {
      "cell_type": "markdown",
      "metadata": {
        "id": "s4UopYcrWw38"
      },
      "source": [
        "## Part B.1 Evaluate Performance - [10 pt]\n",
        "\n",
        "### Part B.1.a - [5 pt]\n",
        "\n",
        "Implement the above helper code for spam detection. \n",
        "\n",
        "What is the accuracy obtained with ULMFiT? How does ULMFiT compare to the approach in the first part using only LSTM?"
      ]
    },
    {
      "cell_type": "markdown",
      "metadata": {
        "id": "jNGnrL9eZcEA"
      },
      "source": [
        "With only 5 epochs of training, the accruacy of the ULMFiT network is 0.98 which is better than the LSTM network architecture provided earlier.\n",
        "Note that fine truning this network to our data could yield even better results. also note that the training curve trend is much more steady than LSTM. "
      ]
    },
    {
      "cell_type": "code",
      "execution_count": null,
      "metadata": {
        "id": "hJFv4ywTWw4F"
      },
      "outputs": [],
      "source": [
        "# Feel like this part is still missing some code "
      ]
    },
    {
      "cell_type": "markdown",
      "metadata": {
        "id": "ybdyEKx5Ww4F"
      },
      "source": [
        "### Part B.1.b - [5 pt]\n",
        "Provide a confusion matrix of the performance for the two models. How do they compare? Are there any qualitative differences between the performances (i.e. examine the samples for which the models differred)?"
      ]
    },
    {
      "cell_type": "code",
      "execution_count": null,
      "metadata": {
        "id": "vuxLCHhFWw4F"
      },
      "outputs": [],
      "source": [
        "from sklearn import metrics\n",
        "import math"
      ]
    },
    {
      "cell_type": "code",
      "execution_count": null,
      "metadata": {
        "id": "6UnxmpLHaQkx"
      },
      "outputs": [],
      "source": [
        "pred_label = torch.max(valid_preds, 1)[1]\n",
        "confusion_matrix = metrics.confusion_matrix(list(valid_label), list(pred_label))\n",
        "cm_display = metrics.ConfusionMatrixDisplay(confusion_matrix = confusion_matrix, display_labels = [False, True])"
      ]
    },
    {
      "cell_type": "code",
      "execution_count": null,
      "metadata": {
        "colab": {
          "base_uri": "https://localhost:8080/",
          "height": 295
        },
        "id": "FCoRPoHPbA1-",
        "outputId": "bbe61b1b-d247-4d74-9990-565a129c37e1"
      },
      "outputs": [
        {
          "output_type": "display_data",
          "data": {
            "text/plain": [
              "<Figure size 432x288 with 2 Axes>"
            ],
            "image/png": "[encoded data removed]"
          },
          "metadata": {
            "needs_background": "light"
          }
        }
      ],
      "source": [
        "cm_display.plot()\n",
        "plt.title(\"Confusion Matrix of ULMFiT Network\")\n",
        "plt.show()\n"
      ]
    },
    {
      "cell_type": "code",
      "source": [
        "# Get validation data labels \n",
        "\n",
        "val_iter3 = torchtext.legacy.data.BucketIterator(valid,\n",
        "                                           batch_size=32,\n",
        "                                           sort_key=lambda x: len(x.sms), # to minimize padding\n",
        "                                           sort_within_batch=True,        # sort within each batch\n",
        "                                           repeat=False)                  # repeat the iterator for many epochs"
      ],
      "metadata": {
        "id": "EuYx7hanlEpb"
      },
      "execution_count": null,
      "outputs": []
    },
    {
      "cell_type": "code",
      "source": [
        "k = 0;\n",
        "for i in val_iter3:\n",
        "  if k==0:\n",
        "    val_label = i.label\n",
        "  else:\n",
        "    val_label = torch.cat((val_label , i.label ), axis = 0)\n",
        "\n",
        "  k+=1\n"
      ],
      "metadata": {
        "id": "JiVWhun_mUrz"
      },
      "execution_count": null,
      "outputs": []
    },
    {
      "cell_type": "code",
      "source": [
        "k = 0\n",
        "\n",
        "for batch in val_iter3:\n",
        "  y = batch.sms[0]\n",
        "  y_label = batch.label\n",
        "  output = model3(y)\n",
        "  pred = output.max(1 , keepdim = True)[1]\n",
        "\n",
        "  if k==0:\n",
        "    val_pred = pred.reshape(1,-1)[0]\n",
        "  else:\n",
        "    val_pred = torch.cat((val_pred , pred.reshape(1,-1)[0]) , 0)\n",
        "  \n",
        "  k+=1"
      ],
      "metadata": {
        "id": "mSjTbY4znv_4"
      },
      "execution_count": null,
      "outputs": []
    },
    {
      "cell_type": "code",
      "source": [
        "val_pred.detach().numpy()"
      ],
      "metadata": {
        "colab": {
          "base_uri": "https://localhost:8080/"
        },
        "id": "einIfR2_pizP",
        "outputId": "de130557-5e8c-4932-95ec-a46a67d66680"
      },
      "execution_count": null,
      "outputs": [
        {
          "output_type": "execute_result",
          "data": {
            "text/plain": [
              "array([0, 0, 0, ..., 0, 0, 0])"
            ]
          },
          "metadata": {},
          "execution_count": 54
        }
      ]
    },
    {
      "cell_type": "code",
      "source": [
        "confusion_matrix = metrics.confusion_matrix(val_label.detach().numpy(), val_pred.detach().numpy())\n",
        "cm_display = metrics.ConfusionMatrixDisplay(confusion_matrix = confusion_matrix, display_labels = [False, True])\n",
        "cm_display.plot()\n",
        "plt.title(\"Confusion Matrix of LSTM Network\")\n",
        "plt.show()\n"
      ],
      "metadata": {
        "colab": {
          "base_uri": "https://localhost:8080/",
          "height": 295
        },
        "id": "5j7xT1CypOcW",
        "outputId": "368f9e8a-309c-4d19-e342-c29cd68b1223"
      },
      "execution_count": null,
      "outputs": [
        {
          "output_type": "display_data",
          "data": {
            "text/plain": [
              "<Figure size 432x288 with 2 Axes>"
            ],
            "image/png": "[encoded data removed]"
          },
          "metadata": {
            "needs_background": "light"
          }
        }
      ]
    },
    {
      "cell_type": "markdown",
      "metadata": {
        "id": "F9BpSLGBWw4F"
      },
      "source": [
        "## Part B.2 Evaluate on New Data - [14 pt]\n",
        "\n",
        "### Part B.2.a - [4 pt]\n",
        "What is your model's prediction of the probability that the SMS message \"machine learning is sooo cool!\" is spam?"
      ]
    },
    {
      "cell_type": "code",
      "execution_count": null,
      "metadata": {
        "colab": {
          "base_uri": "https://localhost:8080/"
        },
        "id": "Ho0F4VMCnzXR",
        "outputId": "5f46652e-9a40-4378-f7cd-e5a81d85a46b"
      },
      "outputs": [
        {
          "output_type": "stream",
          "name": "stdout",
          "text": [
            "The probability that the SMS message is a spam is:  1.635454941503571e-14\n"
          ]
        }
      ],
      "source": [
        "msg = \"machine learning is sooo cool!\"\n",
        "pred = learn_classifier.predict(msg)\n",
        "print(\"The probability that the SMS message is a spam is: \" , pred[2][1].item())"
      ]
    },
    {
      "cell_type": "markdown",
      "metadata": {
        "id": "H4FlSj_Mn2yY"
      },
      "source": [
        "### Part B.2.b - [3 pt] \n",
        "Load 5 sample sentences from your spam mail and test it out out the two models you created. How well do they perform?"
      ]
    },
    {
      "cell_type": "code",
      "source": [
        "# Spam Sentences\n",
        "\n",
        "msg1 = 'Dear valued member, you won a free trip to Maldives!'\n",
        "msg2 = 'URGENT, PLEASE HELP! I am stranded on a desert island, send 100000$'\n",
        "msg3 = 'BRAND NEW APP ON THIS LINK, only pay 3$!'\n",
        "msg4 = 'ITS YOUR CHANCE to win 100$ in bitcoin'\n",
        "msg5 = 'LIMITED TIME OFFER call to be the first to get this new ringtone!!'\n",
        "msgs = [msg1 , msg2 , msg3 , msg4, msg5]"
      ],
      "metadata": {
        "id": "uZAyJMZX4fvF"
      },
      "execution_count": null,
      "outputs": []
    },
    {
      "cell_type": "code",
      "execution_count": null,
      "metadata": {
        "colab": {
          "base_uri": "https://localhost:8080/"
        },
        "id": "y3DCyMW_n05f",
        "outputId": "a9d0c4aa-8e0c-4687-e751-4c934228a417"
      },
      "outputs": [
        {
          "output_type": "stream",
          "name": "stdout",
          "text": [
            "tensor(1)\n",
            "tensor(1)\n",
            "tensor(1)\n",
            "tensor(1)\n",
            "tensor(1)\n",
            "The accuracy of predicting spam is: 1.0\n"
          ]
        }
      ],
      "source": [
        "# Testing on ULMFiT model\n",
        "spam_num = 0\n",
        "for msg in msgs:\n",
        "  pred = learn_classifier.predict(msg)\n",
        "  print(pred[1])\n",
        "\n",
        "  if pred[1]==1:\n",
        "    spam_num+=1\n",
        "    \n",
        "spam_acc = spam_num/5\n",
        "print(\"The accuracy of predicting spam is:\",spam_acc)\n",
        "\n",
        "\n",
        "\n"
      ]
    },
    {
      "cell_type": "code",
      "source": [
        "print(\"LSTM Network Prediction\")\n",
        "\n",
        "spam_num=0\n",
        "\n",
        "for msg in msgs:\n",
        "  spam_msg = []\n",
        "  for i in enumerate(msg):\n",
        "    spam_msg.append(text_field.vocab.stoi[i[1]])\n",
        "\n",
        "  spam_msg=torch.tensor(spam_msg).unsqueeze(0)\n",
        "  proba=model3(spam_msg)\n",
        "  sigmoid=1/(1+math.exp(-(proba[0][1].item())))\n",
        "  print(\"The probability that the SMS message is a spam is: \" , sigmoid)\n",
        "\n",
        "  pred=proba.max(1,keepdim=True)[1]\n",
        "  if pred.item()==1:\n",
        "    spam_num+=1\n",
        "\n",
        "spam_num=spam_num/len(msgs)\n",
        "print(\"The accuracy of detecting spam emails is:\", spam_num)\n"
      ],
      "metadata": {
        "colab": {
          "base_uri": "https://localhost:8080/"
        },
        "id": "zFr_e0HjiJLH",
        "outputId": "4bf275d5-8092-4f7a-c689-42f37b1b596c"
      },
      "execution_count": null,
      "outputs": [
        {
          "output_type": "stream",
          "name": "stdout",
          "text": [
            "LSTM Network Prediction\n",
            "The probability that the SMS message is a spam is:  0.010459393633985513\n",
            "The probability that the SMS message is a spam is:  0.9971003709183759\n",
            "The probability that the SMS message is a spam is:  0.039966586497387\n",
            "The probability that the SMS message is a spam is:  0.028654494154035714\n",
            "The probability that the SMS message is a spam is:  0.012726494104469263\n",
            "The accuracy of detecting spam emails is: 0.2\n"
          ]
        }
      ]
    },
    {
      "cell_type": "markdown",
      "metadata": {
        "id": "646WjsAwWw4F"
      },
      "source": [
        "### Part B.2.c - [3pt]\n",
        "Load 5 sample sentences from your regular mail and test it out out the two models you created. How well do they perform?"
      ]
    },
    {
      "cell_type": "code",
      "execution_count": null,
      "metadata": {
        "id": "0OvvnW8OWw4G"
      },
      "outputs": [],
      "source": [
        "msg1 = \"You're signed up to receive a weekly report of some notifications from your Canvas account.\"\n",
        "msg2 = \"Midterm marks and solutions are now posted, and you can pick up the midterms in class.\"\n",
        "msg3 = \"It’s March. Exams are coming up and final papers are due soon. And when you’re busy or stressed, we know it can be hard to keep up healthy eating habits.\"\n",
        "msg4 = \"Now is your opportunity to evaluate your courses and instructors. We appreciate you taking the time to provide comments to your instructor, as they can use this feedback to reflect upon their own work in these challenging times.\"\n",
        "msg5 = \"Exams are on the horizon and we've got the goods to help you feel prepared and supported this season\"\n",
        "\n",
        "msgs2 = [msg1 , msg2, msg3, msg4 , msg5]"
      ]
    },
    {
      "cell_type": "code",
      "source": [
        "non_spam = 0\n",
        "for msg in msgs2:\n",
        "  pred = learn_classifier.predict(msg)\n",
        "  print(\"The probability that the SMS message is a spam is: \" , pred[2][1].item())\n",
        "\n",
        "  if pred[1]==0:\n",
        "    non_spam +=1\n",
        "\n",
        "non_spam_acc = non_spam / len(msgs2)\n",
        "\n",
        "print(\"The accuracy of ULMFiT model to detect non-spam messages is:\", non_spam_acc)\n"
      ],
      "metadata": {
        "colab": {
          "base_uri": "https://localhost:8080/"
        },
        "id": "JpmnYVc4tWim",
        "outputId": "f9861c2e-670e-4092-c92e-c642006f0d97"
      },
      "execution_count": null,
      "outputs": [
        {
          "output_type": "stream",
          "name": "stdout",
          "text": [
            "The probability that the SMS message is a spam is:  0.3782453238964081\n",
            "The probability that the SMS message is a spam is:  0.03203311190009117\n",
            "The probability that the SMS message is a spam is:  0.004212330561131239\n",
            "The probability that the SMS message is a spam is:  0.001407245988957584\n",
            "The probability that the SMS message is a spam is:  1.5675824442951125e-06\n",
            "The accuracy of ULMFiT model to detect non-spam messages is: 1.0\n"
          ]
        }
      ]
    },
    {
      "cell_type": "code",
      "source": [
        "print(\"LSTM Network Prediction\")\n",
        "\n",
        "spam_num=0\n",
        "\n",
        "for msg in msgs:\n",
        "  spam_msg = []\n",
        "  for i in enumerate(msg):\n",
        "    spam_msg.append(text_field.vocab.stoi[i[1]])\n",
        "\n",
        "  spam_msg=torch.tensor(spam_msg).unsqueeze(0)\n",
        "  proba=model3(spam_msg)\n",
        "  sigmoid=1/(1+math.exp(-(proba[0][1].item())))\n",
        "  print(\"The probability that the SMS message is a spam is: \" , sigmoid)\n",
        "\n",
        "  pred=proba.max(1,keepdim=True)[1]\n",
        "  if pred.item()==1:\n",
        "    spam_num+=1\n",
        "    \n",
        "spam_num=spam_num/len(msgs)\n",
        "print(\"The accuracy of detecting non-spam emails is:\", 1-spam_num)"
      ],
      "metadata": {
        "colab": {
          "base_uri": "https://localhost:8080/"
        },
        "id": "3OQGZM6xvZzY",
        "outputId": "79f6ef43-f641-4646-d25c-14115b89a99d"
      },
      "execution_count": null,
      "outputs": [
        {
          "output_type": "stream",
          "name": "stdout",
          "text": [
            "LSTM Network Prediction\n",
            "The probability that the SMS message is a spam is:  0.010459393633985513\n",
            "The probability that the SMS message is a spam is:  0.9971003709183759\n",
            "The probability that the SMS message is a spam is:  0.039966586497387\n",
            "The probability that the SMS message is a spam is:  0.028654494154035714\n",
            "The probability that the SMS message is a spam is:  0.012726494104469263\n",
            "The accuracy of detecting non-spam emails is: 0.8\n"
          ]
        }
      ]
    },
    {
      "cell_type": "markdown",
      "metadata": {
        "id": "0GnjOjvdmDZw"
      },
      "source": [
        "### Part B.2.d - [4pt]\n",
        "Experiment with different architectures for the classifier, such as using a bidirectional LSTM or a GRU. Compare the performance of models with different architectures and discuss any differences observed."
      ]
    },
    {
      "cell_type": "code",
      "execution_count": null,
      "metadata": {
        "id": "fjuOGdvVmDZx"
      },
      "outputs": [],
      "source": [
        "class LSTM_bi(nn.Module):\n",
        "  def  __init__(self, input_size, hidden_size,num_layers, num_class):\n",
        "    super(LSTM_bi, self).__init__()\n",
        "  \n",
        "    self.emb = encoding_embedding\n",
        "    self.hidden_size = hidden_size\n",
        "    self.num_layers = num_layers\n",
        "    self.rnn = nn.LSTM(input_size, hidden_size, batch_first=True ,bidirectional=True)\n",
        "    self.fc = nn.Linear(hidden_size*2, num_class)\n",
        "\n",
        "  def forward(self , x):\n",
        "    x = self.emb(x)\n",
        "\n",
        "    h0 = torch.zeros(self.num_layers*2, x.size(0), self.hidden_size)\n",
        "    c0 = torch.zeros(self.num_layers*2, x.size(0), self.hidden_size)\n",
        "    out, _ = self.rnn(x, (h0, c0))\n",
        "    out = self.fc(out[:, -1, :])\n",
        "\n",
        "    return out"
      ]
    },
    {
      "cell_type": "code",
      "source": [
        "train_iter = torchtext.legacy.data.BucketIterator(train,\n",
        "                                           batch_size=32,\n",
        "                                           sort_key=lambda x: len(x.sms), # to minimize padding\n",
        "                                           sort_within_batch=True,        # sort within each batch\n",
        "                                           repeat=False)\n",
        "\n",
        "val_iter = torchtext.legacy.data.BucketIterator(valid,\n",
        "                                           batch_size=32,\n",
        "                                           sort_key=lambda x: len(x.sms), # to minimize padding\n",
        "                                           sort_within_batch=True,        # sort within each batch\n",
        "                                           repeat=False)                  # repeat the iterator for many epochs"
      ],
      "metadata": {
        "id": "655hatrC9cgc"
      },
      "execution_count": null,
      "outputs": []
    },
    {
      "cell_type": "code",
      "source": [
        "model = LSTM_bi(len(text_field.vocab.stoi),50,1,2)"
      ],
      "metadata": {
        "id": "CweyctLW9isq"
      },
      "execution_count": null,
      "outputs": []
    },
    {
      "cell_type": "code",
      "source": [
        "train_net(model , train_iter, val_iter , num_epochs = 20 , learning_rate = 1e-3)"
      ],
      "metadata": {
        "colab": {
          "base_uri": "https://localhost:8080/",
          "height": 1000
        },
        "id": "JEbMH5Yz-EAX",
        "outputId": "86c369bc-6dee-4ee1-ffec-711cddf7151e"
      },
      "execution_count": null,
      "outputs": [
        {
          "output_type": "stream",
          "name": "stdout",
          "text": [
            "Epoch : 1 ; Loss: 0.09966495633125305 ; Train_Acc: 0.910530749789385 ; Val_Acc: 0.9605381165919282 \n",
            "Epoch : 2 ; Loss: 0.17545181512832642 ; Train_Acc: 0.9393428812131424 ; Val_Acc: 0.9757847533632287 \n",
            "Epoch : 3 ; Loss: 0.21470409631729126 ; Train_Acc: 0.9406908171861836 ; Val_Acc: 0.9766816143497757 \n",
            "Epoch : 4 ; Loss: 0.030034448951482773 ; Train_Acc: 0.9425442291491154 ; Val_Acc: 0.9766816143497757 \n",
            "Epoch : 5 ; Loss: 0.32629790902137756 ; Train_Acc: 0.9076663858466723 ; Val_Acc: 0.9695067264573991 \n",
            "Epoch : 6 ; Loss: 0.4326644539833069 ; Train_Acc: 0.9464195450716091 ; Val_Acc: 0.9766816143497757 \n",
            "Epoch : 7 ; Loss: 0.13723991811275482 ; Train_Acc: 0.9383319292333614 ; Val_Acc: 0.9802690582959641 \n",
            "Epoch : 8 ; Loss: 0.314397931098938 ; Train_Acc: 0.93681550126369 ; Val_Acc: 0.9775784753363229 \n",
            "Epoch : 9 ; Loss: 0.07763948291540146 ; Train_Acc: 0.9385004212299916 ; Val_Acc: 0.979372197309417 \n",
            "Epoch : 10 ; Loss: 0.0793309360742569 ; Train_Acc: 0.9423757371524852 ; Val_Acc: 0.979372197309417 \n",
            "Epoch : 11 ; Loss: 0.3189886510372162 ; Train_Acc: 0.9459140690817186 ; Val_Acc: 0.979372197309417 \n",
            "Epoch : 12 ; Loss: 0.22224605083465576 ; Train_Acc: 0.9467565290648694 ; Val_Acc: 0.97847533632287 \n",
            "Epoch : 13 ; Loss: 0.31115156412124634 ; Train_Acc: 0.9513058129738837 ; Val_Acc: 0.9802690582959641 \n",
            "Epoch : 14 ; Loss: 0.09323381632566452 ; Train_Acc: 0.952653748946925 ; Val_Acc: 0.9757847533632287 \n",
            "Epoch : 15 ; Loss: 0.23447252810001373 ; Train_Acc: 0.9553496208930076 ; Val_Acc: 0.9766816143497757 \n",
            "Epoch : 16 ; Loss: 0.6721252202987671 ; Train_Acc: 0.9551811288963774 ; Val_Acc: 0.9757847533632287 \n",
            "Epoch : 17 ; Loss: 0.12038233131170273 ; Train_Acc: 0.9555181128896377 ; Val_Acc: 0.9757847533632287 \n",
            "Epoch : 18 ; Loss: 0.09427115321159363 ; Train_Acc: 0.9565290648694187 ; Val_Acc: 0.9757847533632287 \n",
            "Epoch : 19 ; Loss: 0.06842797994613647 ; Train_Acc: 0.9573715248525695 ; Val_Acc: 0.9757847533632287 \n",
            "Epoch : 20 ; Loss: 0.07460153847932816 ; Train_Acc: 0.9580454928390901 ; Val_Acc: 0.9775784753363229 \n"
          ]
        },
        {
          "output_type": "display_data",
          "data": {
            "text/plain": [
              "<Figure size 640x480 with 1 Axes>"
            ],
            "image/png": "[encoded data removed]"
          },
          "metadata": {}
        },
        {
          "output_type": "display_data",
          "data": {
            "text/plain": [
              "<Figure size 640x480 with 1 Axes>"
            ],
            "image/png": "[encoded data removed]"
          },
          "metadata": {}
        }
      ]
    },
    {
      "cell_type": "code",
      "source": [
        "import math"
      ],
      "metadata": {
        "id": "43-214dEHc9k"
      },
      "execution_count": null,
      "outputs": []
    },
    {
      "cell_type": "code",
      "source": [
        "# testing on Spam messages loaded previously\n",
        "\n",
        "print(\"Bidirectional LSTM Network Prediction\")\n",
        "\n",
        "spam_num=0\n",
        "\n",
        "for msg in msgs:\n",
        "  spam_msg = []\n",
        "  for i in enumerate(msg):\n",
        "    spam_msg.append(text_field.vocab.stoi[i[1]])\n",
        "\n",
        "  spam_msg=torch.tensor(spam_msg).unsqueeze(0)\n",
        "  proba=model(spam_msg)\n",
        "  sigmoid=1/(1+math.exp(-(proba[0][1].item())))\n",
        "  print(\"The probability that the SMS message is a spam is: \" , sigmoid)\n",
        "\n",
        "  pred=proba.max(1,keepdim=True)[1]\n",
        "  if pred.item()==1:\n",
        "    spam_num+=1\n",
        "\n",
        "spam_num=spam_num/len(msgs)\n",
        "print(\"The accuracy of detecting spam emails is:\", spam_num)\n",
        "\n",
        "# The model yield a better result by predicting one additional message to be a spam message compared \n",
        "# to the regular LSTM network architecture even though the loss curve can be improved to reduce \n",
        "# its inconsistency acros different epochs. "
      ],
      "metadata": {
        "colab": {
          "base_uri": "https://localhost:8080/"
        },
        "id": "I2fZ3QTOHGtd",
        "outputId": "4ffcbfc5-ee64-435e-c358-ad85546c39ba"
      },
      "execution_count": null,
      "outputs": [
        {
          "output_type": "stream",
          "name": "stdout",
          "text": [
            "Bidirectional LSTM Network Prediction\n",
            "The probability that the SMS message is a spam is:  0.37040290685656974\n",
            "The probability that the SMS message is a spam is:  0.8944458070631477\n",
            "The probability that the SMS message is a spam is:  0.44209220828780554\n",
            "The probability that the SMS message is a spam is:  0.9031574969233525\n",
            "The probability that the SMS message is a spam is:  0.45622993932632255\n",
            "The accuracy of detecting spam emails is: 0.4\n"
          ]
        }
      ]
    },
    {
      "cell_type": "markdown",
      "metadata": {
        "id": "FYwI4RmFS2RB"
      },
      "source": [
        "### Saving to HTML\n",
        "Detailed instructions for saving to HTML can be found <a href=\"https://stackoverflow.com/questions/53460051/convert-ipynb-notebook-to-html-in-google-colab/64487858#64487858\">here</a>. Provided below are a summary of the instructions:\n",
        "\n",
        "(1) download your ipynb file by clicking on File->Download.ipynb\n",
        "\n",
        "(2) reupload your file to the temporary Google Colab storage (you can access the temporary storage from the tab to the left)\n",
        "\n",
        "(3) run the following:"
      ]
    },
    {
      "cell_type": "code",
      "execution_count": null,
      "metadata": {
        "id": "2TrsqdNgS5ex",
        "colab": {
          "base_uri": "https://localhost:8080/"
        },
        "outputId": "de898461-e690-46d6-d308-8f546de3cf88"
      },
      "outputs": [
        {
          "output_type": "stream",
          "name": "stdout",
          "text": [
            "[NbConvertApp] Converting notebook LAB_4_Sequential_Data.ipynb to html\n",
            "/usr/local/lib/python3.9/dist-packages/nbconvert/filters/widgetsdatatypefilter.py:71: UserWarning: Your element with mimetype(s) dict_keys(['application/vnd.colab-display-data+json']) is not able to be represented.\n",
            "  warn(\n",
            "[NbConvertApp] Writing 1472842 bytes to LAB_4_Sequential_Data.html\n"
          ]
        },
        {
          "output_type": "execute_result",
          "data": {
            "text/plain": []
          },
          "metadata": {},
          "execution_count": 1
        }
      ],
      "source": [
        "%%shell\n",
        "jupyter nbconvert --to html LAB_4_Sequential_Data.ipynb"
      ]
    },
    {
      "cell_type": "markdown",
      "metadata": {
        "id": "nuXhlFlPTY7F"
      },
      "source": [
        "(4) the html file will be available for download in the temporary Google Colab storage\n",
        "\n",
        "(5) review the html file and make sure all the results are visible before submitting your assignment to Quercus"
      ]
    }
  ],
  "metadata": {
    "accelerator": "GPU",
    "colab": {
      "provenance": []
    },
    "gpuClass": "standard",
    "kernelspec": {
      "display_name": "Python 3",
      "language": "python",
      "name": "python3"
    },
    "language_info": {
      "codemirror_mode": {
        "name": "ipython",
        "version": 3
      },
      "file_extension": ".py",
      "mimetype": "text/x-python",
      "name": "python",
      "nbconvert_exporter": "python",
      "pygments_lexer": "ipython3",
      "version": "3.6.8"
    }
  },
  "nbformat": 4,
  "nbformat_minor": 0
}